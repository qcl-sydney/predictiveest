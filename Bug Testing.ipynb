{
 "cells": [
  {
   "cell_type": "code",
   "execution_count": 1,
   "metadata": {
    "collapsed": true
   },
   "outputs": [],
   "source": [
    "import detailed_kf_bugtesting as dkf\n",
    "import kf_standard_bugtesting as skf\n",
    "\n",
    "from ML_Kalman import Kalman"
   ]
  },
  {
   "cell_type": "code",
   "execution_count": 2,
   "metadata": {
    "collapsed": true
   },
   "outputs": [],
   "source": [
    "import numpy as np\n",
    "\n",
    "########################\n",
    "# File Data\n",
    "########################\n",
    "filename0_ = 'buggy'\n",
    "savetopath_ = './'\n",
    "\n",
    "########################\n",
    "# Bayes Risk Parameters\n",
    "########################\n",
    "max_it_BR_ = 2\n",
    "num_randparams_ = 10\n",
    "space_size_ = np.arange(-8,3)\n",
    "truncation_ =20\n",
    "bayes_params_ = [max_it_BR_, num_randparams_, space_size_,truncation_]\n",
    "\n",
    "########################\n",
    "# Experiment Parameters\n",
    "########################\n",
    "n_train_ = 2000\n",
    "n_predict_ = 48\n",
    "n_testbefore_ = 49\n",
    "multiplier_ = 20.0 \n",
    "bandwidth_ = 50.0\n",
    "\n",
    "exp_params_ = [n_train_, n_predict_, n_testbefore_, multiplier_, bandwidth_]\n",
    "\n",
    "########################\n",
    "# Truth Parameters\n",
    "########################\n",
    "apriori_f_mean_ = 0.0 \n",
    "alpha_ = 1.0\n",
    "f0_ = 10.0\n",
    "p_ = -1 #1 #-2 #-1 #0.0\n",
    "J_ = 2\n",
    "jstart_ = 1 # (not zero)\n",
    "pdf_type_u_ = 'Uniform'\n",
    "      \n",
    "true_noise_params_ = [apriori_f_mean_, pdf_type_u_, alpha_, f0_, p_, J_, jstart_]\n",
    "\n",
    "########################\n",
    "# Measurement Noise \n",
    "########################\n",
    "msmt_noise_mean_ = 0.0 \n",
    "msmt_noise_level_ = 0.01 \n",
    "\n",
    "msmt_noise_params_ = [msmt_noise_mean_, msmt_noise_level_]\n",
    "\n",
    "########################\n",
    "# Kalman Parameters\n",
    "########################\n",
    "p0_ = 10000.0 \n",
    "x0_ = 1.0\n",
    "optimal_sigma_ = 0.1\n",
    "optimal_R_ = 0.1\n",
    "b_delta_ = 0.5 \n",
    "\n",
    "max_it_ = 5\n",
    "\n",
    "kalman_params_ = [optimal_sigma_, optimal_R_, x0_, p0_, b_delta_]\n",
    "\n",
    "########################\n",
    "# Skip Msmts\n",
    "########################\n",
    "skip =1\n"
   ]
  },
  {
   "cell_type": "code",
   "execution_count": null,
   "metadata": {
    "collapsed": true
   },
   "outputs": [],
   "source": [
    "from ML_Kalman import Kalman\n",
    "\n",
    "Test_Object = Kalman(filename0_, savetopath_, max_it_,\n",
    "                     exp_params_, kalman_params_, msmt_noise_params_,\n",
    "                     true_noise_params_, user_defined_variance=None, \n",
    "                     skip_msmts=skip)"
   ]
  },
  {
   "cell_type": "markdown",
   "metadata": {},
   "source": [
    "First, recreate the error using the base code:"
   ]
  },
  {
   "cell_type": "code",
   "execution_count": null,
   "metadata": {
    "collapsed": false
   },
   "outputs": [],
   "source": [
    "Test_Object.run_test_KF()"
   ]
  },
  {
   "cell_type": "markdown",
   "metadata": {},
   "source": [
    "Let's plot the relevant trajectories for the intervals (0,220), (400,620), and (1800,2020). This will characterise that the state estimates start off identically, and then diverge:"
   ]
  },
  {
   "cell_type": "code",
   "execution_count": null,
   "metadata": {
    "collapsed": false
   },
   "outputs": [],
   "source": [
    "dkf_data_object = np.load('buggy_kfresults_det_KF_.npz')\n",
    "skf_data_object = np.load('Check_KF_Results.npz')"
   ]
  },
  {
   "cell_type": "code",
   "execution_count": null,
   "metadata": {
    "collapsed": false
   },
   "outputs": [],
   "source": [
    "import matplotlib.pyplot as plt\n",
    "import matplotlib as mpl\n",
    "mpl.rcParams['font.size']= 14\n",
    "\n",
    "time_start = [0, 400, 1800]\n",
    "time_end = [220, 520, 2020]\n",
    "\n",
    "for i in xrange(3):\n",
    "    item = 'x_hat'\n",
    "    plt.figure(figsize=(15,8))\n",
    "    plt.title('%s Estimation from Time Step %s to %s'%('x_hat', time_start[i], time_end[i]))\n",
    "    plt.xlabel('Time Step')\n",
    "    plt.ylabel('State Estimation Value of First Element')\n",
    "    plt.plot(dkf_data_object['x_hat'][0,0,time_start[i]:time_end[i]], 'g--' )\n",
    "    plt.plot(skf_data_object['x_hat'][0,0,time_start[i]:time_end[i]], 'r')\n",
    "    plt.show()\n"
   ]
  },
  {
   "cell_type": "markdown",
   "metadata": {},
   "source": [
    "Now I add the bugtesting code. Here, the key difference is in detailed_kf_bugtesting.py"
   ]
  },
  {
   "cell_type": "code",
   "execution_count": null,
   "metadata": {
    "collapsed": true
   },
   "outputs": [],
   "source": [
    "import detailed_kf_bugtesting as bugdkf"
   ]
  },
  {
   "cell_type": "code",
   "execution_count": null,
   "metadata": {
    "collapsed": false
   },
   "outputs": [],
   "source": [
    "truth, signal = Test_Object.generate_data_from_truth(None)"
   ]
  },
  {
   "cell_type": "code",
   "execution_count": null,
   "metadata": {
    "collapsed": false
   },
   "outputs": [],
   "source": [
    "pred_dkf, amps_dkf = Test_Object.detailed_single_prediction(signal)\n",
    "pred_skf = Test_Object.single_prediction(signal)\n",
    "pred_skf2, amps_skf = Test_Object.single_prediction(signal, use_skf_amp='Yes')"
   ]
  },
  {
   "cell_type": "code",
   "execution_count": null,
   "metadata": {
    "collapsed": false
   },
   "outputs": [],
   "source": [
    "pred_bugdkf, amps_bugdkf = bugdkf.detailed_kf(\"Bug_DKF_Resuls\", signal, \n",
    "                                              n_train_, n_testbefore_, n_predict_, Test_Object.Delta_T_Sampling, \n",
    "                                              x0_,p0_, optimal_sigma_, optimal_R_, Test_Object.basisA,\n",
    "                                              0.0, skip_msmts=1)"
   ]
  },
  {
   "cell_type": "code",
   "execution_count": null,
   "metadata": {
    "collapsed": false
   },
   "outputs": [],
   "source": [
    "bug_dkf_object = np.load('Bug_DKF_Resuls.npz')\n",
    "dkf_data_object = np.load('buggy_kfresults_det_KF_.npz')\n",
    "skf_data_object = np.load('Check_KF_Results.npz')\n",
    "\n",
    "print bug_dkf_object['h'][:,:,0]\n",
    "print dkf_data_object['h'][:,:,0]\n",
    "print skf_data_object['h'][:,:]"
   ]
  },
  {
   "cell_type": "code",
   "execution_count": null,
   "metadata": {
    "collapsed": false,
    "scrolled": false
   },
   "outputs": [],
   "source": [
    "import matplotlib.pyplot as plt\n",
    "import matplotlib as mpl\n",
    "mpl.rcParams['font.size']= 14\n",
    "\n",
    "time_start = [0, 1500, 1800]\n",
    "time_end = [220, 1600, 2020]\n",
    "\n",
    "for i in xrange(3):\n",
    "    item = 'x_hat'\n",
    "    plt.figure(figsize=(15,8))\n",
    "    plt.title('%s Estimation from Time Step %s to %s' %('x_hat', time_start[i], time_end[i]))\n",
    "    plt.xlabel('Time Step')\n",
    "    plt.ylabel('State Estimation Value of First Element')\n",
    "    plt.plot(bug_dkf_object['x_hat'][0,0,time_start[i]:time_end[i]],'bo' , label='DKF with bug tests')\n",
    "    plt.plot(dkf_data_object['x_hat'][0,0,time_start[i]:time_end[i]], 'g--' , label='Original Detailed KF')\n",
    "    plt.plot(skf_data_object['x_hat'][0,0,time_start[i]:time_end[i]], 'r', label='Original Memoryless (Fast) KF')\n",
    "    plt.legend(loc=0)\n",
    "    plt.show()\n"
   ]
  },
  {
   "cell_type": "markdown",
   "metadata": {},
   "source": [
    "The bug testing version of the DKF confirms that the following are not the causes for disparity (individually added and tested):\n",
    "    - Calc_Gamma is not the cause of the disparity\n",
    "    - Change \"twonumf = numf*2\" to \"twonumf = int(numf*2)\"\n",
    "    - Convert n_converge to n_train in the entire code\n",
    "    - Changing S_inv to 1.0/S\n",
    "    - Changing from math.cos to np.cos\n",
    "    - Optimising using numba\n",
    "    \n",
    "The following change has an impact:\n",
    "    - Changing np.dot(np.dot()) instance to numpy.linalg.multi_dot()\n",
    "    "
   ]
  },
  {
   "cell_type": "code",
   "execution_count": null,
   "metadata": {
    "collapsed": true
   },
   "outputs": [],
   "source": [
    "np.linalg.linalg??"
   ]
  },
  {
   "cell_type": "code",
   "execution_count": null,
   "metadata": {
    "collapsed": true
   },
   "outputs": [],
   "source": []
  }
 ],
 "metadata": {
  "kernelspec": {
   "display_name": "Python 2",
   "language": "python",
   "name": "python2"
  },
  "language_info": {
   "codemirror_mode": {
    "name": "ipython",
    "version": 2
   },
   "file_extension": ".py",
   "mimetype": "text/x-python",
   "name": "python",
   "nbconvert_exporter": "python",
   "pygments_lexer": "ipython2",
   "version": "2.7.13"
  }
 },
 "nbformat": 4,
 "nbformat_minor": 2
}
