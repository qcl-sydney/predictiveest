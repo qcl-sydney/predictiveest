{
 "cells": [
  {
   "cell_type": "markdown",
   "metadata": {},
   "source": [
    "We re-create numerical artefacts in the implementation of GPR with a periodic kernel for forward prediction. \n",
    "We consider a simple truth trajectory given by a deterministic sine curve. Next, we configure the GPRP algorithm and plot predictions. \n",
    "\n",
    "To get started, I import some python software I will need:"
   ]
  },
  {
   "cell_type": "code",
   "execution_count": 2,
   "metadata": {
    "collapsed": false
   },
   "outputs": [
    {
     "name": "stderr",
     "output_type": "stream",
     "text": [
      "/home/riddhisw/anaconda2/lib/python2.7/site-packages/matplotlib/lines.py:1206: FutureWarning: comparison to `None` will result in an elementwise object comparison in the future.\n",
      "  if self._markerfacecolor != fc:\n",
      "/home/riddhisw/anaconda2/lib/python2.7/site-packages/matplotlib/lines.py:1182: FutureWarning: comparison to `None` will result in an elementwise object comparison in the future.\n",
      "  if self._markeredgecolor != ec:\n"
     ]
    }
   ],
   "source": [
    "import sys \n",
    "sys.path.append('../../../')\n",
    "from plot_tools.fig_preamble import * # imports numpy, matplotlib, Py2PDF, plot_helper_funcs, plot_figstyle_sheet\n",
    "import GPy"
   ]
  },
  {
   "cell_type": "code",
   "execution_count": 3,
   "metadata": {
    "collapsed": false
   },
   "outputs": [],
   "source": [
    "from gpr.common import get_data, simple_unlearnable_sine\n",
    "from data_tools.load_raw_cluster_data import LoadExperiment as le\n",
    "from plot_tools.plot_figstyle_sheet import color_pallete, predmarker, COLOURDICT, STYLEDICT"
   ]
  },
  {
   "cell_type": "markdown",
   "metadata": {},
   "source": [
    "I also set up filepaths for saving data"
   ]
  },
  {
   "cell_type": "code",
   "execution_count": 5,
   "metadata": {
    "collapsed": true
   },
   "outputs": [],
   "source": [
    "ver=0\n",
    "datapath = '../../../DATA_v'+str(ver)+'_/' #v'+str(ver)+'/DATA_v'+str(ver)+'/'\n",
    "datafile = 'GPR_kappa_demo'"
   ]
  },
  {
   "cell_type": "markdown",
   "metadata": {},
   "source": [
    "Now, let's consider how to configure the GPRP algorithm with limited apriori information about the truth.\n",
    "In our application, let $\\Delta t$ represent the shortest possible time-spacing in our procedure between two sequential measurements from an experiment, and let $\\Delta t N_T$ represent the longest possible time spacing observed in the measurement record. \n",
    "\n",
    "We use physical arguments to link the periodicity and the lengthscale to the longest and shortest timescales of the observed system during training. In configuring a GPR algorithm, one decides or optimises $\\omega_0^{(B)}$. For the physically set paramter, $\\Delta t$ in our procedure, a classical analysis suggests that one needs $2 \\pi /(\\Delta t \\omega_0^{(B)})$ for a computational method to resolve Fourier components of true noise to an order $\\omega_0^{(B)}$. Further, any changes in the continuous process below $\\Delta t$ will not be observed. These reasons lead us to propose the following initial conditions for kernel hyperparameters at the outset of a procedure:, namely:\n",
    "\n",
    "    - p = N_train\n",
    "    - l = 3 * Delta T \n",
    "    \n"
   ]
  },
  {
   "cell_type": "code",
   "execution_count": 3,
   "metadata": {
    "collapsed": false
   },
   "outputs": [],
   "source": [
    "# Set experimental parameters\n",
    "n_train = 2000\n",
    "Delta_T = 0.001\n",
    "n_predict = 150\n",
    "n_testbefore=50"
   ]
  },
  {
   "cell_type": "code",
   "execution_count": 4,
   "metadata": {
    "collapsed": true
   },
   "outputs": [],
   "source": [
    "# Set initial starting values for L-BFGS-B OPtimiser in GPy\n",
    "sigma_0 = 1.0\n",
    "R_0 =  1.0"
   ]
  },
  {
   "cell_type": "code",
   "execution_count": 5,
   "metadata": {
    "collapsed": true
   },
   "outputs": [],
   "source": [
    "# Set length scale and periodicity initial values for L-BFGS-B OPtimiser in GPy\n",
    "length_scale_0 = 3.0*Delta_T\n",
    "period_0 = 2000.0"
   ]
  },
  {
   "cell_type": "markdown",
   "metadata": {},
   "source": [
    "true = 9.0/3.0\n",
    "multipler = 7. # must be an integer\n",
    "spacing = true / multipler\n",
    "steps = (1./ spacing)/ 0.001\n",
    "print steps\n",
    "print spacing"
   ]
  },
  {
   "cell_type": "markdown",
   "metadata": {},
   "source": [
    "print basis\n",
    "print true / (1./(2000*0.001)) # integer"
   ]
  },
  {
   "cell_type": "markdown",
   "metadata": {},
   "source": [
    "We now implement (a) manual constraints on noise variances and periodicities and (b) optimalised noise variances but constrained periodicities and (c) full optimised GPRP model "
   ]
  },
  {
   "cell_type": "code",
   "execution_count": 6,
   "metadata": {
    "collapsed": false
   },
   "outputs": [
    {
     "data": {
      "text/plain": [
       "[0, -70]"
      ]
     },
     "execution_count": 6,
     "metadata": {},
     "output_type": "execute_result"
    }
   ],
   "source": [
    "true_freq = (9., 10.)\n",
    "noise_variances = ((sigma_0, R_0) , (10.0, 10.0))\n",
    "noiselabel= ['No Opt.', 'Opt.']\n",
    "periodicities = ((2000, 2001), (2070., 2071.)) #, (10**4, 10**4), (10**6, 10**6))\n",
    "offsets = [int(n_train- periodicities[idx_x][0]) for idx_x in xrange(len(periodicities))]\n",
    "offsets"
   ]
  },
  {
   "cell_type": "code",
   "execution_count": 7,
   "metadata": {
    "collapsed": false
   },
   "outputs": [
    {
     "name": "stdout",
     "output_type": "stream",
     "text": [
      "(2, 2, 2, 200)\n"
     ]
    }
   ],
   "source": [
    "pred_list= np.zeros((len(true_freq),len(periodicities), len(noise_variances), n_predict+n_testbefore))\n",
    "\n",
    "print pred_list.shape"
   ]
  },
  {
   "cell_type": "code",
   "execution_count": 8,
   "metadata": {
    "collapsed": false,
    "scrolled": false
   },
   "outputs": [
    {
     "name": "stdout",
     "output_type": "stream",
     "text": [
      "Fourier resolution at training 0.5\n",
      "True Frequency is 3.0\n"
     ]
    },
    {
     "name": "stderr",
     "output_type": "stream",
     "text": [
      " ../../../../../gpr/common.py:97: VisibleDeprecationWarning:using a non-integer number instead of an integer will result in an error in the future\n",
      " ../../../../../gpr/common.py:98: VisibleDeprecationWarning:using a non-integer number instead of an integer will result in an error in the future\n"
     ]
    },
    {
     "name": "stdout",
     "output_type": "stream",
     "text": [
      "WARNING: reconstraining parameters gp.std_periodic.period\n",
      "('Commence GPRP for:', 0, 0, 0)\n",
      "\n",
      "Name : gp\n",
      "Objective : 2344.80349412\n",
      "Number of Parameters : 4\n",
      "Number of Optimization Parameters : 4\n",
      "Updates : True\n",
      "Parameters:\n",
      "  \u001b[1mgp.                     \u001b[0;0m  |   value  |   constraints   |  priors\n",
      "  \u001b[1mstd_periodic.variance   \u001b[0;0m  |     1.0  |       +ve       |        \n",
      "  \u001b[1mstd_periodic.period     \u001b[0;0m  |  2000.0  |  2000.0,2001.0  |        \n",
      "  \u001b[1mstd_periodic.lengthscale\u001b[0;0m  |   0.003  |       +ve       |        \n",
      "  \u001b[1mGaussian_noise.variance \u001b[0;0m  |     1.0  |       +ve       |        \n",
      "Succeed - optimised params are\n",
      "\n",
      "Name : gp\n",
      "Objective : 2344.80349412\n",
      "Number of Parameters : 4\n",
      "Number of Optimization Parameters : 4\n",
      "Updates : True\n",
      "Parameters:\n",
      "  \u001b[1mgp.                     \u001b[0;0m  |   value  |   constraints   |  priors\n",
      "  \u001b[1mstd_periodic.variance   \u001b[0;0m  |     1.0  |       +ve       |        \n",
      "  \u001b[1mstd_periodic.period     \u001b[0;0m  |  2000.0  |  2000.0,2001.0  |        \n",
      "  \u001b[1mstd_periodic.lengthscale\u001b[0;0m  |   0.003  |       +ve       |        \n",
      "  \u001b[1mGaussian_noise.variance \u001b[0;0m  |     1.0  |       +ve       |        \n",
      "WARNING: reconstraining parameters gp.std_periodic.period\n",
      "WARNING: reconstraining parameters gp.std_periodic.variance\n",
      "WARNING: reconstraining parameters gp.Gaussian_noise.variance\n",
      "('Commence GPRP for:', 0, 0, 1)\n",
      "\n",
      "Name : gp\n",
      "Objective : 2344.80349412\n",
      "Number of Parameters : 4\n",
      "Number of Optimization Parameters : 4\n",
      "Updates : True\n",
      "Parameters:\n",
      "  \u001b[1mgp.                     \u001b[0;0m  |   value  |   constraints   |  priors\n",
      "  \u001b[1mstd_periodic.variance   \u001b[0;0m  |     1.0  |    0.0,10.0     |        \n",
      "  \u001b[1mstd_periodic.period     \u001b[0;0m  |  2000.0  |  2000.0,2001.0  |        \n",
      "  \u001b[1mstd_periodic.lengthscale\u001b[0;0m  |   0.003  |       +ve       |        \n",
      "  \u001b[1mGaussian_noise.variance \u001b[0;0m  |     1.0  |    0.0,10.0     |        \n",
      "Succeed - optimised params are\n",
      "\n",
      "Name : gp\n",
      "Objective : -16288.3411665\n",
      "Number of Parameters : 4\n",
      "Number of Optimization Parameters : 4\n",
      "Updates : True\n",
      "Parameters:\n",
      "  \u001b[1mgp.                     \u001b[0;0m  |              value  |   constraints   |  priors\n",
      "  \u001b[1mstd_periodic.variance   \u001b[0;0m  |      9.99995002882  |    0.0,10.0     |        \n",
      "  \u001b[1mstd_periodic.period     \u001b[0;0m  |             2000.0  |  2000.0,2001.0  |        \n",
      "  \u001b[1mstd_periodic.lengthscale\u001b[0;0m  |     0.293630278264  |       +ve       |        \n",
      "  \u001b[1mGaussian_noise.variance \u001b[0;0m  |  5.72420651555e-21  |    0.0,10.0     |        \n",
      "Warning: changing parameters to satisfy constraints\n",
      "WARNING: reconstraining parameters gp.std_periodic.period\n",
      "('Commence GPRP for:', 0, 1, 0)\n",
      "\n",
      "Name : gp\n",
      "Objective : 2337.62945896\n",
      "Number of Parameters : 4\n",
      "Number of Optimization Parameters : 4\n",
      "Updates : True\n",
      "Parameters:\n",
      "  \u001b[1mgp.                     \u001b[0;0m  |   value  |   constraints   |  priors\n",
      "  \u001b[1mstd_periodic.variance   \u001b[0;0m  |     1.0  |       +ve       |        \n",
      "  \u001b[1mstd_periodic.period     \u001b[0;0m  |  2070.5  |  2070.0,2071.0  |        \n",
      "  \u001b[1mstd_periodic.lengthscale\u001b[0;0m  |   0.003  |       +ve       |        \n",
      "  \u001b[1mGaussian_noise.variance \u001b[0;0m  |     1.0  |       +ve       |        \n",
      "Succeed - optimised params are\n",
      "\n",
      "Name : gp\n",
      "Objective : 2337.62945896\n",
      "Number of Parameters : 4\n",
      "Number of Optimization Parameters : 4\n",
      "Updates : True\n",
      "Parameters:\n",
      "  \u001b[1mgp.                     \u001b[0;0m  |   value  |   constraints   |  priors\n",
      "  \u001b[1mstd_periodic.variance   \u001b[0;0m  |     1.0  |       +ve       |        \n",
      "  \u001b[1mstd_periodic.period     \u001b[0;0m  |  2070.5  |  2070.0,2071.0  |        \n",
      "  \u001b[1mstd_periodic.lengthscale\u001b[0;0m  |   0.003  |       +ve       |        \n",
      "  \u001b[1mGaussian_noise.variance \u001b[0;0m  |     1.0  |       +ve       |        \n",
      "Warning: changing parameters to satisfy constraints\n",
      "WARNING: reconstraining parameters gp.std_periodic.period\n",
      "WARNING: reconstraining parameters gp.std_periodic.variance\n",
      "WARNING: reconstraining parameters gp.Gaussian_noise.variance\n",
      "('Commence GPRP for:', 0, 1, 1)\n",
      "\n",
      "Name : gp\n",
      "Objective : 2337.62945896\n",
      "Number of Parameters : 4\n",
      "Number of Optimization Parameters : 4\n",
      "Updates : True\n",
      "Parameters:\n",
      "  \u001b[1mgp.                     \u001b[0;0m  |   value  |   constraints   |  priors\n",
      "  \u001b[1mstd_periodic.variance   \u001b[0;0m  |     1.0  |    0.0,10.0     |        \n",
      "  \u001b[1mstd_periodic.period     \u001b[0;0m  |  2070.5  |  2070.0,2071.0  |        \n",
      "  \u001b[1mstd_periodic.lengthscale\u001b[0;0m  |   0.003  |       +ve       |        \n",
      "  \u001b[1mGaussian_noise.variance \u001b[0;0m  |     1.0  |    0.0,10.0     |        \n",
      "Succeed - optimised params are\n",
      "\n",
      "Name : gp\n",
      "Objective : -15461.4226516\n",
      "Number of Parameters : 4\n",
      "Number of Optimization Parameters : 4\n",
      "Updates : True\n",
      "Parameters:\n",
      "  \u001b[1mgp.                     \u001b[0;0m  |              value  |   constraints   |  priors\n",
      "  \u001b[1mstd_periodic.variance   \u001b[0;0m  |     0.213580059326  |    0.0,10.0     |        \n",
      "  \u001b[1mstd_periodic.period     \u001b[0;0m  |      2070.99999624  |  2070.0,2071.0  |        \n",
      "  \u001b[1mstd_periodic.lengthscale\u001b[0;0m  |    0.0451122749818  |       +ve       |        \n",
      "  \u001b[1mGaussian_noise.variance \u001b[0;0m  |  3.11139570812e-33  |    0.0,10.0     |        \n",
      "Fourier resolution at training 0.5\n",
      "True Frequency is 3.33333333333\n",
      "WARNING: reconstraining parameters gp.std_periodic.period\n",
      "('Commence GPRP for:', 1, 0, 0)\n",
      "\n",
      "Name : gp\n",
      "Objective : 2346.41113408\n",
      "Number of Parameters : 4\n",
      "Number of Optimization Parameters : 4\n",
      "Updates : True\n",
      "Parameters:\n",
      "  \u001b[1mgp.                     \u001b[0;0m  |   value  |   constraints   |  priors\n",
      "  \u001b[1mstd_periodic.variance   \u001b[0;0m  |     1.0  |       +ve       |        \n",
      "  \u001b[1mstd_periodic.period     \u001b[0;0m  |  2000.0  |  2000.0,2001.0  |        \n",
      "  \u001b[1mstd_periodic.lengthscale\u001b[0;0m  |   0.003  |       +ve       |        \n",
      "  \u001b[1mGaussian_noise.variance \u001b[0;0m  |     1.0  |       +ve       |        \n",
      "Succeed - optimised params are\n",
      "\n",
      "Name : gp\n",
      "Objective : 2346.41113408\n",
      "Number of Parameters : 4\n",
      "Number of Optimization Parameters : 4\n",
      "Updates : True\n",
      "Parameters:\n",
      "  \u001b[1mgp.                     \u001b[0;0m  |   value  |   constraints   |  priors\n",
      "  \u001b[1mstd_periodic.variance   \u001b[0;0m  |     1.0  |       +ve       |        \n",
      "  \u001b[1mstd_periodic.period     \u001b[0;0m  |  2000.0  |  2000.0,2001.0  |        \n",
      "  \u001b[1mstd_periodic.lengthscale\u001b[0;0m  |   0.003  |       +ve       |        \n",
      "  \u001b[1mGaussian_noise.variance \u001b[0;0m  |     1.0  |       +ve       |        \n",
      "WARNING: reconstraining parameters gp.std_periodic.period\n",
      "WARNING: reconstraining parameters gp.std_periodic.variance\n",
      "WARNING: reconstraining parameters gp.Gaussian_noise.variance\n",
      "('Commence GPRP for:', 1, 0, 1)\n",
      "\n",
      "Name : gp\n",
      "Objective : 2346.41113408\n",
      "Number of Parameters : 4\n",
      "Number of Optimization Parameters : 4\n",
      "Updates : True\n",
      "Parameters:\n",
      "  \u001b[1mgp.                     \u001b[0;0m  |   value  |   constraints   |  priors\n",
      "  \u001b[1mstd_periodic.variance   \u001b[0;0m  |     1.0  |    0.0,10.0     |        \n",
      "  \u001b[1mstd_periodic.period     \u001b[0;0m  |  2000.0  |  2000.0,2001.0  |        \n",
      "  \u001b[1mstd_periodic.lengthscale\u001b[0;0m  |   0.003  |       +ve       |        \n",
      "  \u001b[1mGaussian_noise.variance \u001b[0;0m  |     1.0  |    0.0,10.0     |        \n",
      "Succeed - optimised params are\n",
      "\n",
      "Name : gp\n",
      "Objective : -9196.42545268\n",
      "Number of Parameters : 4\n",
      "Number of Optimization Parameters : 4\n",
      "Updates : True\n",
      "Parameters:\n",
      "  \u001b[1mgp.                     \u001b[0;0m  |              value  |   constraints   |  priors\n",
      "  \u001b[1mstd_periodic.variance   \u001b[0;0m  |     0.198941159886  |    0.0,10.0     |        \n",
      "  \u001b[1mstd_periodic.period     \u001b[0;0m  |             2000.0  |  2000.0,2001.0  |        \n",
      "  \u001b[1mstd_periodic.lengthscale\u001b[0;0m  |   0.00544375634717  |       +ve       |        \n",
      "  \u001b[1mGaussian_noise.variance \u001b[0;0m  |  1.28552226149e-15  |    0.0,10.0     |        \n",
      "Warning: changing parameters to satisfy constraints\n",
      "WARNING: reconstraining parameters gp.std_periodic.period\n",
      "('Commence GPRP for:', 1, 1, 0)\n",
      "\n",
      "Name : gp\n",
      "Objective : 2339.05457215\n",
      "Number of Parameters : 4\n",
      "Number of Optimization Parameters : 4\n",
      "Updates : True\n",
      "Parameters:\n",
      "  \u001b[1mgp.                     \u001b[0;0m  |   value  |   constraints   |  priors\n",
      "  \u001b[1mstd_periodic.variance   \u001b[0;0m  |     1.0  |       +ve       |        \n",
      "  \u001b[1mstd_periodic.period     \u001b[0;0m  |  2070.5  |  2070.0,2071.0  |        \n",
      "  \u001b[1mstd_periodic.lengthscale\u001b[0;0m  |   0.003  |       +ve       |        \n",
      "  \u001b[1mGaussian_noise.variance \u001b[0;0m  |     1.0  |       +ve       |        \n",
      "Succeed - optimised params are\n",
      "\n",
      "Name : gp\n",
      "Objective : 2339.05457215\n",
      "Number of Parameters : 4\n",
      "Number of Optimization Parameters : 4\n",
      "Updates : True\n",
      "Parameters:\n",
      "  \u001b[1mgp.                     \u001b[0;0m  |   value  |   constraints   |  priors\n",
      "  \u001b[1mstd_periodic.variance   \u001b[0;0m  |     1.0  |       +ve       |        \n",
      "  \u001b[1mstd_periodic.period     \u001b[0;0m  |  2070.5  |  2070.0,2071.0  |        \n",
      "  \u001b[1mstd_periodic.lengthscale\u001b[0;0m  |   0.003  |       +ve       |        \n",
      "  \u001b[1mGaussian_noise.variance \u001b[0;0m  |     1.0  |       +ve       |        \n",
      "Warning: changing parameters to satisfy constraints\n",
      "WARNING: reconstraining parameters gp.std_periodic.period\n",
      "WARNING: reconstraining parameters gp.std_periodic.variance\n",
      "WARNING: reconstraining parameters gp.Gaussian_noise.variance\n",
      "('Commence GPRP for:', 1, 1, 1)\n",
      "\n",
      "Name : gp\n",
      "Objective : 2339.05457215\n",
      "Number of Parameters : 4\n",
      "Number of Optimization Parameters : 4\n",
      "Updates : True\n",
      "Parameters:\n",
      "  \u001b[1mgp.                     \u001b[0;0m  |   value  |   constraints   |  priors\n",
      "  \u001b[1mstd_periodic.variance   \u001b[0;0m  |     1.0  |    0.0,10.0     |        \n",
      "  \u001b[1mstd_periodic.period     \u001b[0;0m  |  2070.5  |  2070.0,2071.0  |        \n",
      "  \u001b[1mstd_periodic.lengthscale\u001b[0;0m  |   0.003  |       +ve       |        \n",
      "  \u001b[1mGaussian_noise.variance \u001b[0;0m  |     1.0  |    0.0,10.0     |        \n",
      "Succeed - optimised params are\n",
      "\n",
      "Name : gp\n",
      "Objective : -15677.9578988\n",
      "Number of Parameters : 4\n",
      "Number of Optimization Parameters : 4\n",
      "Updates : True\n",
      "Parameters:\n",
      "  \u001b[1mgp.                     \u001b[0;0m  |              value  |   constraints   |  priors\n",
      "  \u001b[1mstd_periodic.variance   \u001b[0;0m  |     0.224373615952  |    0.0,10.0     |        \n",
      "  \u001b[1mstd_periodic.period     \u001b[0;0m  |      2070.99999799  |  2070.0,2071.0  |        \n",
      "  \u001b[1mstd_periodic.lengthscale\u001b[0;0m  |    0.0579765021773  |       +ve       |        \n",
      "  \u001b[1mGaussian_noise.variance \u001b[0;0m  |  1.19128280487e-63  |    0.0,10.0     |        \n"
     ]
    },
    {
     "data": {
      "image/png": "[encoded data removed]",
      "text/plain": [
       "<matplotlib.figure.Figure at 0x7f3f4bed3190>"
      ]
     },
     "metadata": {},
     "output_type": "display_data"
    }
   ],
   "source": [
    "gs = gridspec.GridSpec(2, 2,\n",
    "                       left=0.15, right=0.985, \n",
    "                       top=0.9, bottom=0.1, \n",
    "                       wspace=0.1, hspace=0.2)\n",
    "\n",
    "fig2 = plt.figure(figsize=(cm2inch(8.6),cm2inch(7)))\n",
    "\n",
    "FCOLOR = ['purple', 'blue', 'k']\n",
    "FSTY = ['v', 'o', ':']\n",
    "FLABELS = ['Perfect Learning', 'Imperfect Learning $p=n_T \\quad p > n_T$']\n",
    "\n",
    "\n",
    "\n",
    "for idx_freq in xrange(len(true_freq)): \n",
    "\n",
    "    X, Y, TestX, truth, msmts = simple_unlearnable_sine(nt=n_train, delta_t = Delta_T, \n",
    "                                                        f0 = true_freq[idx_freq], \n",
    "                                                        testpts=n_predict, randomise='y')\n",
    "    \n",
    "    for idx_per in xrange(len(periodicities)): \n",
    "\n",
    "        ax=0\n",
    "        ax = fig2.add_subplot(gs[idx_per, idx_freq])       # noise variance are trajectories on a graph\n",
    "        \n",
    "        \n",
    "        for idx_noise in xrange(len(noise_variances)): \n",
    "        \n",
    "        \n",
    "            # Reset\n",
    "            kernel_per=0\n",
    "            gauss=0\n",
    "            exact=0\n",
    "            m1=0\n",
    "            \n",
    "            \n",
    "            # Built model\n",
    "            kernel_per = GPy.kern.StdPeriodic(1, period=period_0, variance=sigma_0, \n",
    "                                              lengthscale=length_scale_0)\n",
    "            gauss = GPy.likelihoods.Gaussian(variance=R_0)\n",
    "            exact = GPy.inference.latent_function_inference.ExactGaussianInference()\n",
    "            m1 = GPy.core.GP(X=X, Y=Y, kernel=kernel_per, likelihood=gauss, inference_method=exact)\n",
    "\n",
    "            # Add constraints\n",
    "            m1.std_periodic.period.constrain_bounded(periodicities[idx_per][0], periodicities[idx_per][1])\n",
    "            if idx_noise != 0:\n",
    "                m1.std_periodic.variance.constrain_bounded(0, noise_variances[idx_noise][0])\n",
    "                m1.Gaussian_noise.variance.constrain_bounded(0, noise_variances[idx_noise][0])\n",
    "            \n",
    "            print(\"Commence GPRP for:\", idx_freq, idx_per, idx_noise)\n",
    "            print(m1)\n",
    "            \n",
    "            # Try optimise\n",
    "            try:\n",
    "                if idx_noise != 0:\n",
    "                    m1.optimize(optimizer=None, messages=False)  # no pref optimiser\n",
    "                pred_list[idx_freq, idx_per, idx_noise, :] = m1.predict(TestX)[0].flatten()\n",
    "                print(\"Succeed - optimised params are\")\n",
    "                print(m1)\n",
    "        \n",
    "            except:\n",
    "                print(\"Failed\", idx_freq, idx_per, idx_noise)\n",
    "        \n",
    "            # plot predictions n > 0\n",
    "            ax.plot(range(-n_testbefore, n_predict, 5), pred_list[idx_freq, idx_per, idx_noise, :][::5], # thin out by plotting every 5th msmt\n",
    "                    FSTY[idx_noise], markerfacecolor='None', markersize=4, \n",
    "                    markeredgecolor= FCOLOR[idx_noise], \n",
    "                    color= FCOLOR[idx_noise], \n",
    "                    lw= 1.0, \n",
    "                    markeredgewidth=0.5,\n",
    "                    label=r'$\\mu_{f^*|y}$', alpha=1.)\n",
    "        \n",
    "        # plot the truth n = 0\n",
    "        ax.plot(range(-offsets[idx_per], n_predict, 1), truth[0:n_predict + offsets[idx_per]], \n",
    "                      ':', color=COLOURDICT['GPRP2'], lw=1.0,#markersize=1, \n",
    "                      label=r'$ \\{f_{n= -N_T,...} \\} $' ) # offset is annoyingly a negative value.\n",
    "\n",
    "        ax.axvline(x=-offsets[idx_per], ls=':', lw=1.0, \n",
    "                   color=COLOURDICT['DATA'])\n",
    "        ax.text(-offsets[idx_per] + 2, -0.8, r'$\\kappa = $%s'%(np.round(-offsets[idx_per])))\n",
    "        \n",
    "        # plot the truth n > 0\n",
    "        ax.plot(range(-n_testbefore, n_predict, 1), truth[n_train - n_testbefore : ], \n",
    "            '-', color=COLOURDICT['TRUTH'], lw=1.0, #markersize=1, \n",
    "            label=r'$ \\{f_n \\}$' )\n",
    "\n",
    "        # Formatting\n",
    "        if idx_per ==0: # top row\n",
    "            ax.set(xticklabels=[])\n",
    "        if idx_freq ==1: # second column\n",
    "            ax.set(yticklabels=[])\n",
    "        ax.set_ylim([-1.2, 1.2])\n",
    "        ax.tick_params(direction='in', which='both')\n",
    "        ax.yaxis.set_major_locator(ticker.LinearLocator(numticks=3))\n",
    "        #ax.xaxis.set_major_locator(ticker.LinearLocator(numticks=3))\n",
    "        ax = set_font_sizes(ax, fsize, Fsize)\n",
    "        if idx_freq==0 and idx_per==0:\n",
    "            ax.legend(loc=3,  fontsize=fsize, frameon=False, bbox_to_anchor=(0., 1.02, 2., .102), \n",
    "                     ncol=3, mode=\"expand\", borderaxespad=0.)\n",
    "            #ax.legend(loc=0, frameon=False)\n",
    "\n",
    "    \n",
    "fig2.savefig(savefig2+figname2+'.svg', format='svg', dpi=my_dpi)\n",
    "plt.show()\n",
    "plt.close()"
   ]
  },
  {
   "cell_type": "code",
   "execution_count": 9,
   "metadata": {
    "collapsed": true
   },
   "outputs": [],
   "source": [
    "np.savez(figdata+figname2, pred_list=pred_list)"
   ]
  },
  {
   "cell_type": "code",
   "execution_count": null,
   "metadata": {
    "collapsed": true
   },
   "outputs": [],
   "source": []
  }
 ],
 "metadata": {
  "kernelspec": {
   "display_name": "Python 2",
   "language": "python",
   "name": "python2"
  },
  "language_info": {
   "codemirror_mode": {
    "name": "ipython",
    "version": 2
   },
   "file_extension": ".py",
   "mimetype": "text/x-python",
   "name": "python",
   "nbconvert_exporter": "python",
   "pygments_lexer": "ipython2",
   "version": "2.7.13"
  }
 },
 "nbformat": 4,
 "nbformat_minor": 2
}
