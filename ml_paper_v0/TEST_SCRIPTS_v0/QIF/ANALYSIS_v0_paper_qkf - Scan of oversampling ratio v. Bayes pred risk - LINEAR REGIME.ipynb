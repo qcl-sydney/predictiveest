{
 "cells": [
  {
   "cell_type": "markdown",
   "metadata": {},
   "source": [
    "We want to test the performance of a QIF framework for non-Markovian, covariance stationary process using non-linear quantised measurements.\n",
    "\n",
    "#### TRUE DYNAMICS\n",
    "\n",
    "We will use AKF coefficients for the true test cases defined in the linear regime.\n",
    "\n",
    "Linear Regime 1:\n",
    "- true_rk_quant = 0.001^2\n",
    "- QKF is fed AKF (optimal) sigma, R\n",
    "\n",
    "Linear Regime 2:\n",
    "- true_rk_quant = 0.001^2\n",
    "- QKF is fed AKF (optimal) sigma\n",
    "- OKF is fed true_rk_quant + AKF (optimal) R"
   ]
  },
  {
   "cell_type": "code",
   "execution_count": 1,
   "metadata": {
    "collapsed": true
   },
   "outputs": [],
   "source": [
    "q_regime=[]"
   ]
  },
  {
   "cell_type": "markdown",
   "metadata": {},
   "source": [
    "#### PREAMBLE COMMANDS ####"
   ]
  },
  {
   "cell_type": "code",
   "execution_count": 2,
   "metadata": {
    "collapsed": false
   },
   "outputs": [
    {
     "name": "stderr",
     "output_type": "stream",
     "text": [
      "/home/riddhisw/anaconda2/lib/python2.7/site-packages/matplotlib/lines.py:1206: FutureWarning: comparison to `None` will result in an elementwise object comparison in the future.\n",
      "  if self._markerfacecolor != fc:\n",
      "/home/riddhisw/anaconda2/lib/python2.7/site-packages/matplotlib/lines.py:1182: FutureWarning: comparison to `None` will result in an elementwise object comparison in the future.\n",
      "  if self._markeredgecolor != ec:\n"
     ]
    }
   ],
   "source": [
    "import sys\n",
    "sys.path.append('../../../')\n",
    "\n",
    "#### Local QIF Filter and Helper Functions ####\n",
    "from qif.qif import qif as qif\n",
    "from qif.common import generate_AR, noisy_z, projected_msmt, qkf_state_err, normalise\n",
    "from ls.common import doLSF_forecast\n",
    "\n",
    "#### Local Plotting Tools ####\n",
    "from plot_tools.fig_preamble import *\n",
    "from plot_tools.plot_figstyle_sheet import STYLEDICT, COLOURDICT\n",
    "from plot_tools.plot_helper_funcs import cm2inch\n",
    "\n",
    "#### Matplotlib & Numpy ####\n",
    "import numpy as np\n",
    "import matplotlib as mpl\n",
    "mpl.rc('font', size=8)\n",
    "import matplotlib.pyplot as plt\n",
    "from matplotlib.ticker import ScalarFormatter, FormatStrFormatter\n",
    "import matplotlib.gridspec as gridspec\n",
    "\n",
    "\n",
    "#### Global Plotting and Saving Commands ####\n",
    "\n",
    "############ Saving Commands #########\n",
    "\n",
    "ver=0\n",
    "datapath = '../../DATA_v'+str(ver)+'_/' #v'+str(ver)+'/DATA_v'+str(ver)+'/'\n",
    "savefig = './analysis_figs'\n",
    "figname = 'tc_24_linear_regime_2_'"
   ]
  },
  {
   "cell_type": "markdown",
   "metadata": {
    "collapsed": false
   },
   "source": [
    "#### LOW Q REGIME - AR(2) PROCESS"
   ]
  },
  {
   "cell_type": "markdown",
   "metadata": {},
   "source": [
    "We need to satisfy the following constraints \n",
    "\n",
    "For stationarity:\n",
    "    (a) ph1 + ph2 < 1\n",
    "    (b) ph1 - ph2 < 1\n",
    "    (c) phi2| < 1"
   ]
  },
  {
   "cell_type": "code",
   "execution_count": 3,
   "metadata": {
    "collapsed": true
   },
   "outputs": [],
   "source": [
    "# ######## Covariance Stationary, MS Ergoic AR(2) Process#######\n",
    "# # Stationary ARMA: http://matthieustigler.github.io/Lectures/Lect2ARMA.pdf\n",
    "\n",
    "# ar1 = -0.02# \n",
    "# ar2 = +0.968\n",
    "# q_regime.append(np.asarray([ar1, ar2]))"
   ]
  },
  {
   "cell_type": "markdown",
   "metadata": {},
   "source": [
    "#### HIGH Q REGIME - AR(q) PROCESS USING LEARNED LSF WEIGHTS"
   ]
  },
  {
   "cell_type": "code",
   "execution_count": 4,
   "metadata": {
    "collapsed": false
   },
   "outputs": [],
   "source": [
    "# We want to load a high order AR(q) model where we know that underlyign truth is stationary.\n",
    "\n",
    "from data_tools.load_raw_cluster_data import LoadExperiment\n",
    "\n",
    "test_case = 24\n",
    "variation_scan = [1, 2, 3, 4, 7]"
   ]
  },
  {
   "cell_type": "markdown",
   "metadata": {},
   "source": [
    "#### Noise Parameters\n",
    "\n",
    "In order to generate our true process, we will take tuned parameters from the linear AKF optimisation procedure. We retain an additional measurement noise term - which is white noise added prior to quantisation."
   ]
  },
  {
   "cell_type": "code",
   "execution_count": 5,
   "metadata": {
    "collapsed": true
   },
   "outputs": [],
   "source": [
    "######## Msmt Noise Strength Prior to Quantisation\n",
    "true_rk_quant = 0.001**2\n",
    "####"
   ]
  },
  {
   "cell_type": "markdown",
   "metadata": {},
   "source": [
    "#### Set up of Algorithm Parameters (QKF, LSF)"
   ]
  },
  {
   "cell_type": "code",
   "execution_count": 6,
   "metadata": {
    "collapsed": false
   },
   "outputs": [],
   "source": [
    "###### Number of data points and initial points to exclude (burnin) #####\n",
    "num = 2050\n",
    "burn_in = 0\n",
    "\n",
    "###### AR Process Initialisation #####\n",
    "# we need phases to accumulate from 0 to pi. So our process is no longer mean zero.\n",
    "mean_noise = 0.5*np.pi\n",
    "\n",
    "###### Bayes Risk Runs ######\n",
    "runs = 50\n",
    "\n",
    "########### LSF ##############\n",
    "pick_alpha=0.1\n",
    "n_predict = 50\n",
    "n_train=num-n_predict\n",
    "num_of_iterGD = 50\n",
    "\n",
    "########### KF ##############\n",
    "p0init = 1000 # set same as AKF /LSF"
   ]
  },
  {
   "cell_type": "code",
   "execution_count": 7,
   "metadata": {
    "collapsed": true
   },
   "outputs": [],
   "source": [
    "from scipy.signal import periodogram\n",
    "\n",
    "def autocorr(x):\n",
    "    result = np.correlate(x, x, mode='full')\n",
    "    return result[result.size/2:]"
   ]
  },
  {
   "cell_type": "markdown",
   "metadata": {},
   "source": [
    "####  Run 100 times; with QKF using true dynamics and LSF learned dynamics"
   ]
  },
  {
   "cell_type": "code",
   "execution_count": 9,
   "metadata": {
    "collapsed": false
   },
   "outputs": [],
   "source": [
    "from data_tools.data_risk_analysis import riskmapdata, build_risk_dict"
   ]
  },
  {
   "cell_type": "code",
   "execution_count": 10,
   "metadata": {
    "collapsed": false
   },
   "outputs": [],
   "source": [
    "# riskmapexpt['AKF'][3]==experiment.AKF_macro_truth\n"
   ]
  },
  {
   "cell_type": "code",
   "execution_count": 11,
   "metadata": {
    "collapsed": false,
    "scrolled": false
   },
   "outputs": [
    {
     "name": "stdout",
     "output_type": "stream",
     "text": [
      "AKF: Data Loaded? Yes\n",
      "I am in RISK DICT and test case and variations are: 24 1\n",
      "('Optimal KF pair from linear regime', 0.0037524869935435246, 3.3138177739302023e-05)\n",
      "AKF: Data Loaded? Yes\n",
      "I am in RISK DICT and test case and variations are: 24 2\n",
      "('Optimal KF pair from linear regime', 0.262457340065538, 0.0067322345039353615)\n",
      "AKF: Data Loaded? Yes\n",
      "I am in RISK DICT and test case and variations are: 24 3\n",
      "('Optimal KF pair from linear regime', 0.00047667030731105519, 9.2841378067634746e-08)\n",
      "AKF: Data Loaded? Yes\n",
      "I am in RISK DICT and test case and variations are: 24 4\n",
      "('Optimal KF pair from linear regime', 0.0004214627027849767, 6.0364178214963457e-08)\n",
      "AKF: Data Loaded? Yes\n",
      "I am in RISK DICT and test case and variations are: 24 7\n",
      "('Optimal KF pair from linear regime', 0.0077289266445570116, 3.9847495629040147e-06)\n"
     ]
    }
   ],
   "source": [
    "norm_z_states_=[]\n",
    "\n",
    "for idx_q_regime in xrange(len(variation_scan)):\n",
    "    \n",
    "    experiment = LoadExperiment(24, variation_scan[idx_q_regime], \n",
    "                                LKFFB_load ='No',\n",
    "                                LSF_load='No',\n",
    "                                AKF_load='Yes', \n",
    "                                AKF_path=datapath,\n",
    "                                GPRP_load='No')\n",
    "    \n",
    "    # We extract tuned parameters from linear regimeto specify the dynamical model\n",
    "    riskmapexpt = build_risk_dict(experiment)\n",
    "    tuned_sigma, tuned_R = riskmapdata(riskmapexpt['AKF'][0], \n",
    "                                   riskmapexpt['AKF'][2], \n",
    "                                   riskmapexpt['AKF'][1],\n",
    "                                   maxforecaststps=50,\n",
    "                                   maxstateeststps=50)[0:2]\n",
    "    \n",
    "    print(\"Optimal KF pair from linear regime\", tuned_sigma[0], tuned_R[0])\n",
    "    \n",
    "    # We make a truth bank of all f_n generated in the linear msmt regime\n",
    "    shape = experiment.AKF_macro_truth.shape\n",
    "    truth_bank = experiment.AKF_macro_truth.reshape(shape[0]*shape[1], shape[2]) # collapsed\n",
    "\n",
    "    # We extract the the AR(q) regime of coefficients\n",
    "    AKF_weights = experiment.AKF_weights\n",
    "    order = AKF_weights.shape[0]\n",
    "    n_start_at=n_train - order + 1\n",
    "\n",
    "    # We store placeholders for analysis\n",
    "    x_true_dynamics = np.zeros((runs, order, num))\n",
    "    x_LSF_dynamics = np.zeros((runs, order, num))\n",
    "\n",
    "    gain_true_dynamics = np.zeros((runs, order, num))\n",
    "    gain_LSF_dynamics = np.zeros((runs, order, num))\n",
    "\n",
    "    truths_ = np.zeros((runs, num))\n",
    "    err_true_dynamics = np.zeros((runs, num))\n",
    "    err_LSF_dynamics = np.zeros((runs, num))\n",
    "\n",
    "\n",
    "    ######### Make an ensemble of QIF experiments ############\n",
    "\n",
    "    for idx_run in xrange(runs):\n",
    "\n",
    "        # Pick truth for one run\n",
    "        pickone = int(np.random.uniform(low=0, high = int(truth_bank.shape[0]-1)))\n",
    "        true_x = truth_bank[pickone, :] + mean_noise \n",
    "        truths_[idx_run, :] = true_x # this is mean 0.5 pi \n",
    "        \n",
    "        # Our data set is a noisy f_n sequence which incurs a non linear msmt action + AGWN prior to quantisation \n",
    "        f_n_dataset = true_x + experiment.AKF_msmt_noise_variance*np.random.standard_normal(true_x.shape)\n",
    "        noisy_z_ = noisy_z( f_n_dataset, true_rk_quant) # z is mean zero\n",
    "\n",
    "        # Find LSF weights using quantised msmts\n",
    "        measurements_train = projected_msmt(noisy_z_)\n",
    "        measurements_val = projected_msmt(noisy_z_) # true_x doesnt change\n",
    "        object_ = doLSF_forecast(measurements_train, measurements_val, pick_alpha, \n",
    "                           n_start_at, n_predict, order, \n",
    "                           steps_between_msmts=1, num_of_iterGD=num_of_iterGD)\n",
    "\n",
    "        # Generate validation dataset\n",
    "        y_signal = projected_msmt(noisy_z_)\n",
    "\n",
    "        # Run QIF using AKF Dynamics \n",
    "        predictions, W, x_hat, P_hat, err_true_dynamics[idx_run, :] = qif('AKFdynamics', y_signal, \n",
    "                                                                          AKF_weights, \n",
    "                                                                          tuned_sigma[0], tuned_R[0] + true_rk_quant,\n",
    "                                                                          n_train=n_train, \n",
    "                                                                          n_testbefore=n_predict, \n",
    "                                                                          n_predict=n_predict, \n",
    "                                                                          p0=p0init, skip_msmts=1,  save='No')\n",
    "        # Run QIF using LSF Learned Dynamics \n",
    "        predictions_l, W_l, x_hat_l, P_hat_l, err_LSF_dynamics[idx_run, :] = qif('NEWdynamics', y_signal, \n",
    "                                                                                 object_[1][1].ravel() , \n",
    "                                                                                 tuned_sigma[0], tuned_R[0] + true_rk_quant, \n",
    "                                                                                 n_train=n_train, \n",
    "                                                                                 n_testbefore=n_predict, \n",
    "                                                                                 n_predict=n_predict, \n",
    "                                                                                 p0=p0init, \n",
    "                                                                                 skip_msmts=1, save='No')\n",
    "        # Store run for this experiment\n",
    "        x_true_dynamics[idx_run, :, :] = x_hat[:,0,:]\n",
    "        x_LSF_dynamics[idx_run, :, :] = x_hat_l[:,0,:]\n",
    "\n",
    "        gain_true_dynamics[idx_run, :, :] = W[:,0,:]\n",
    "        gain_LSF_dynamics[idx_run, :, :] = W_l[:,0,:]\n",
    "\n",
    "    ######### Calculate Bayes Risk with respect to z for each experiment ############\n",
    "\n",
    "    z_true_dynamics = np.asarray([noisy_z(sequence, 0.) for sequence in x_true_dynamics[:, 0, 0:num]])\n",
    "    z_LSF_dynamics = np.asarray([noisy_z(sequence, 0.) for sequence in x_LSF_dynamics[:, 0, 0:num]])\n",
    "\n",
    "    ######### Calculate Bayes Risk for predicting mean z = 0.5cos(f_n) == 0  ############\n",
    "    truths_z = np.asarray([noisy_z(sequence, 0.) for sequence in truths_[:, 0:num]])\n",
    "    predict_one = np.mean((truths_z)**2, axis=0)\n",
    "\n",
    "    ######### Normalise Bayes Risk  ############\n",
    "\n",
    "    norm_z_states_.append([(qkf_state_err(z_true_dynamics[:, :], truths_z)) / predict_one, \n",
    "                      (qkf_state_err(z_LSF_dynamics[:, :], truths_z)) / predict_one])\n",
    "    "
   ]
  },
  {
   "cell_type": "code",
   "execution_count": 12,
   "metadata": {
    "collapsed": true
   },
   "outputs": [],
   "source": [
    "np.savez(datapath+'QIF_BayesPredRisk_v_OverSampl_v0_LinearRegime_2.npz', norm_z_states_=norm_z_states_)"
   ]
  },
  {
   "cell_type": "code",
   "execution_count": 13,
   "metadata": {
    "collapsed": false
   },
   "outputs": [
    {
     "data": {
      "image/png": "[encoded data removed]",
      "text/plain": [
       "<matplotlib.figure.Figure at 0x7fdcf667cb90>"
      ]
     },
     "metadata": {},
     "output_type": "display_data"
    }
   ],
   "source": [
    "labels = [r'QKF(True $\\Phi)$', r'QKF(AKF $\\Phi$)', r'']\n",
    "color = [COLOURDICT['QKF'], COLOURDICT['AKF']] # By algorithm\n",
    "figstyl = ['-', 'o', 'x', 's', ':']  # By regime \n",
    "\n",
    "\n",
    "gs = gridspec.GridSpec(1, 2,\n",
    "                       left=0.1, right=0.99, \n",
    "                       top=0.99, bottom=0.1, \n",
    "                       wspace=0.1, hspace=0.1)\n",
    "\n",
    "fig = plt.figure(figsize=(cm2inch(8),cm2inch(3.)))\n",
    "ax_0 = fig.add_subplot(gs[0, 0])\n",
    "ax_1 = fig.add_subplot(gs[0, 1])\n",
    "\n",
    "\n",
    "\n",
    "for idx_algo in xrange(2):\n",
    "    \n",
    "    for idx_q_regime in xrange(len(variation_scan)):\n",
    "        \n",
    "        alpha_gradient = 1.0 - 0.12*idx_q_regime\n",
    "        \n",
    "        vars()['ax_'+str(idx_algo)].plot(np.arange(0, n_predict, 2), \n",
    "                                   norm_z_states_[idx_q_regime][idx_algo][n_train : num : 2], \n",
    "                                   figstyl[idx_q_regime], \n",
    "                                   label=labels[idx_algo], \n",
    "                                   c=color[idx_algo],\n",
    "                                   markeredgecolor=color[idx_algo],\n",
    "                                   alpha=alpha_gradient,\n",
    "                                   markerfacecolor=\"None\", ms=3,lw=1)\n",
    "        \n",
    "    vars()['ax_'+str(idx_algo)].margins(0.2)\n",
    "    vars()['ax_'+str(idx_algo)].set_yscale('log')\n",
    "    vars()['ax_'+str(idx_algo)].set_xscale('log')\n",
    "    vars()['ax_'+str(idx_algo)].axhline(y=1.0, c=COLOURDICT['TRUTH'])\n",
    "    #vars()['ax_'+str(idx_algo)].yaxis.set_major_formatter(FormatStrFormatter('%.0f'))\n",
    "    #vars()['ax_'+str(idx_algo)].yaxis.set_minor_formatter(FormatStrFormatter('%.0f'))   \n",
    "    vars()['ax_'+str(idx_algo)].tick_params(direction='in', which='both')\n",
    "    vars()['ax_'+str(idx_algo)] = set_font_sizes(vars()['ax_'+str(idx_algo)], fsize, Fsize)\n",
    "    #vars()['ax_'+str(idx_algo)].yaxis.set_major_locator(ticker.LogLocator(base=10, numticks=2))\n",
    "    vars()['ax_'+str(idx_algo)].set_ylim([0.1, 20])\n",
    "    vars()['ax_'+str(idx_algo)].set_xlim([1, 50])\n",
    "\n",
    "ax_0.set_ylabel(r'$\\langle (f_n -\\hat{f_n})^2 \\rangle_D$')\n",
    "\n",
    "ax_1.set_yticklabels('')\n",
    "\n",
    "\n",
    "fig.savefig(savefig+figname+'.svg', format='svg', dpi=400)\n",
    "plt.show()"
   ]
  },
  {
   "cell_type": "code",
   "execution_count": null,
   "metadata": {
    "collapsed": true
   },
   "outputs": [],
   "source": []
  }
 ],
 "metadata": {
  "kernelspec": {
   "display_name": "Python 2",
   "language": "python",
   "name": "python2"
  },
  "language_info": {
   "codemirror_mode": {
    "name": "ipython",
    "version": 2
   },
   "file_extension": ".py",
   "mimetype": "text/x-python",
   "name": "python",
   "nbconvert_exporter": "python",
   "pygments_lexer": "ipython2",
   "version": "2.7.13"
  }
 },
 "nbformat": 4,
 "nbformat_minor": 2
}
