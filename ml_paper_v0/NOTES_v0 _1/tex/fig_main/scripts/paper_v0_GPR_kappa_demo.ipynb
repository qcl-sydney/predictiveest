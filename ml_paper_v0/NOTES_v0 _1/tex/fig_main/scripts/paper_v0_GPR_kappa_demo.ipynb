{
 "cells": [
  {
   "cell_type": "code",
   "execution_count": 1,
   "metadata": {
    "collapsed": false
   },
   "outputs": [
    {
     "name": "stderr",
     "output_type": "stream",
     "text": [
      "/home/riddhisw/anaconda2/lib/python2.7/site-packages/matplotlib/lines.py:1206: FutureWarning: comparison to `None` will result in an elementwise object comparison in the future.\n",
      "  if self._markerfacecolor != fc:\n",
      "/home/riddhisw/anaconda2/lib/python2.7/site-packages/matplotlib/lines.py:1182: FutureWarning: comparison to `None` will result in an elementwise object comparison in the future.\n",
      "  if self._markeredgecolor != ec:\n"
     ]
    }
   ],
   "source": [
    "import sys \n",
    "sys.path.append('../../../../../')\n",
    "from plot_tools.fig_preamble import * # imports numpy, matplotlib, Py2PDF, plot_helper_funcs, plot_figstyle_sheet\n",
    "import GPy"
   ]
  },
  {
   "cell_type": "code",
   "execution_count": 2,
   "metadata": {
    "collapsed": false
   },
   "outputs": [],
   "source": [
    "ver=0\n",
    "datapath = '../../../../DATA_v'+str(ver)+'_/' #v'+str(ver)+'/DATA_v'+str(ver)+'/'\n",
    "datafile = 'GPR_kappa_demo2'\n",
    "savefig2 = '../svg/paper_v0_'\n",
    "figname2 = 'GPR_kappa_demo2'"
   ]
  },
  {
   "cell_type": "code",
   "execution_count": 3,
   "metadata": {
    "collapsed": false
   },
   "outputs": [
    {
     "name": "stdout",
     "output_type": "stream",
     "text": [
      "truth_list\n",
      "true_freq\n",
      "offsets\n",
      "R_0\n",
      "pred_list\n",
      "n_train\n",
      "sigma_0\n",
      "n_testbefore\n",
      "n_predict\n",
      "periodicities\n",
      "noise_variances\n"
     ]
    }
   ],
   "source": [
    "# unpack data\n",
    "data_object = np.load(datapath+datafile+'.npz')\n",
    "datagen = data_object.iteritems()\n",
    "\n",
    "for idx_ in xrange(len(data_object.files)):\n",
    "    try:\n",
    "        stored_item = datagen.next()\n",
    "        print stored_item[0]\n",
    "        vars()[stored_item[0]] = stored_item[1]    \n",
    "    except StopIteration:\n",
    "        pass"
   ]
  },
  {
   "cell_type": "code",
   "execution_count": 4,
   "metadata": {
    "collapsed": false
   },
   "outputs": [],
   "source": [
    "noiselabel= [r'Est. $(\\sigma, R,l)$ ', r'Tuned $(\\sigma, R, l)$.']"
   ]
  },
  {
   "cell_type": "code",
   "execution_count": 5,
   "metadata": {
    "collapsed": false
   },
   "outputs": [
    {
     "data": {
      "text/plain": [
       "2"
      ]
     },
     "execution_count": 5,
     "metadata": {},
     "output_type": "execute_result"
    }
   ],
   "source": [
    "len(noise_variances)"
   ]
  },
  {
   "cell_type": "code",
   "execution_count": 7,
   "metadata": {
    "collapsed": false
   },
   "outputs": [
    {
     "data": {
      "image/png": "[encoded data removed]",
      "text/plain": [
       "<matplotlib.figure.Figure at 0x7f2142960b50>"
      ]
     },
     "metadata": {},
     "output_type": "display_data"
    }
   ],
   "source": [
    "gs = gridspec.GridSpec(2, 2,\n",
    "                       left=0.15, right=0.985, \n",
    "                       top=0.9, bottom=0.1, \n",
    "                       wspace=0.1, hspace=0.2)\n",
    "\n",
    "fig2 = plt.figure(figsize=(cm2inch(8.6),cm2inch(7)))\n",
    "\n",
    "FCOLOR = ['slategrey', 'palevioletred']#, 'lightsteelblue', 'thistle']\n",
    "FSTY = ['v', 'o']\n",
    "FACECOL = ['None', 'None' ]#, ':']\n",
    "FLABELS = ['Perfect Learning', r'Imperfect Learning $p=n_T \\quad p > n_T$']\n",
    "\n",
    "\n",
    "for idx_freq in xrange(len(true_freq)): \n",
    "    \n",
    "    for idx_per in xrange(len(periodicities)): \n",
    "        \n",
    "        ax=0\n",
    "        ax = fig2.add_subplot(gs[idx_per, idx_freq])       # noise variance are trajectories on a graph\n",
    "\n",
    "        for idx_noise in xrange(len(noise_variances)): \n",
    "        \n",
    "            # plot predictions n > 0\n",
    "            ax.plot(range(-n_testbefore, n_predict, 10), \n",
    "                    pred_list[idx_freq, idx_per, idx_noise, :][::10], # thin out by plotting every 5th msmt\n",
    "                    FSTY[idx_noise], \n",
    "                    markerfacecolor=FACECOL[idx_noise], \n",
    "                    markersize=3, \n",
    "                    markeredgecolor= FCOLOR[idx_noise], \n",
    "                    color= FCOLOR[idx_noise], \n",
    "                    lw= 1., \n",
    "                    markeredgewidth=1.,\n",
    "                    label=r'$\\mu_{f^*|y}$', alpha=1.)\n",
    "        \n",
    "        # plot the truth n > 0\n",
    "        ax.plot(range(-n_testbefore, n_predict, 1), \n",
    "                truth_list[idx_freq, idx_per, idx_noise,n_train - n_testbefore : ], \n",
    "            '-', color=COLOURDICT['TRUTH'], lw=1.0, #markersize=1, \n",
    "            label=r'$ \\{f_n \\}$' )\n",
    "        \n",
    "        # plot the truth n = 0\n",
    "        ax.plot(range(-offsets[idx_per], n_predict, 1), \n",
    "                truth_list[idx_freq, idx_per, idx_noise, 0:n_predict + offsets[idx_per]], \n",
    "                      '--', color='maroon', lw=1.0,#markersize=1, \n",
    "                      label=r'$ \\{f_{n= -N_T,...} \\} $' ) # offset is annoyingly a negative value.\n",
    "\n",
    "        ax.axvline(x=-offsets[idx_per], ls=':', lw=1.0, \n",
    "                   color=COLOURDICT['DATA'])\n",
    "        #ax.text(-offsets[idx_per] + 2, -0.8, r'$\\kappa = $%s'%(np.round(-offsets[idx_per])))\n",
    "\n",
    "        # Formatting\n",
    "        if idx_per ==0: # top row\n",
    "            ax.set(xticklabels=[])\n",
    "        if idx_freq ==1: # second column\n",
    "            ax.set(yticklabels=[])\n",
    "        ax.set_ylim([-1.2, 1.2])\n",
    "        ax.tick_params(direction='in', which='both')\n",
    "        ax.yaxis.set_major_locator(ticker.LinearLocator(numticks=3))\n",
    "        #ax.xaxis.set_major_locator(ticker.LinearLocator(numticks=3))\n",
    "        ax = set_font_sizes(ax, fsize, Fsize)\n",
    "        if idx_freq==0 and idx_per==0:\n",
    "            ax.legend(loc=3,  fontsize=fsize, frameon=False, bbox_to_anchor=(0., 1.02, 2., .102), \n",
    "                     ncol=4, mode=\"expand\", borderaxespad=0.)\n",
    "            #ax.legend(loc=0, frameon=False)\n",
    "            \n",
    "        ax.set_xlim([-50, 100])\n",
    "    \n",
    "fig2.savefig(savefig2+figname2+'.svg', format='svg', dpi=my_dpi)\n",
    "plt.show()\n",
    "plt.close()"
   ]
  },
  {
   "cell_type": "code",
   "execution_count": null,
   "metadata": {
    "collapsed": true
   },
   "outputs": [],
   "source": []
  },
  {
   "cell_type": "code",
   "execution_count": null,
   "metadata": {
    "collapsed": true
   },
   "outputs": [],
   "source": []
  }
 ],
 "metadata": {
  "kernelspec": {
   "display_name": "Python 2",
   "language": "python",
   "name": "python2"
  },
  "language_info": {
   "codemirror_mode": {
    "name": "ipython",
    "version": 2
   },
   "file_extension": ".py",
   "mimetype": "text/x-python",
   "name": "python",
   "nbconvert_exporter": "python",
   "pygments_lexer": "ipython2",
   "version": "2.7.13"
  }
 },
 "nbformat": 4,
 "nbformat_minor": 2
}
