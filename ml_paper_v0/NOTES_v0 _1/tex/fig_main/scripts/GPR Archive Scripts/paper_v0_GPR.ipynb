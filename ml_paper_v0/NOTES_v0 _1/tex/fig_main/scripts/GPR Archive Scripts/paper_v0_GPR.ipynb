{
 "cells": [
  {
   "cell_type": "markdown",
   "metadata": {},
   "source": [
    "First, I import GPy, a Python library for GPR implementations. I also get a function to help me make training data based on test case and variation numbers"
   ]
  },
  {
   "cell_type": "code",
   "execution_count": 1,
   "metadata": {
    "collapsed": false
   },
   "outputs": [
    {
     "name": "stderr",
     "output_type": "stream",
     "text": [
      "/home/riddhisw/anaconda2/lib/python2.7/site-packages/matplotlib/lines.py:1206: FutureWarning: comparison to `None` will result in an elementwise object comparison in the future.\n",
      "  if self._markerfacecolor != fc:\n",
      "/home/riddhisw/anaconda2/lib/python2.7/site-packages/matplotlib/lines.py:1182: FutureWarning: comparison to `None` will result in an elementwise object comparison in the future.\n",
      "  if self._markeredgecolor != ec:\n"
     ]
    }
   ],
   "source": [
    "import sys\n",
    "sys.path.append('../../../../../')\n",
    "from plot_tools.fig_preamble import * # imports numpy, matplotlib, Py2PDF, plot_helper_funcs, plot_figstyle_sheet\n",
    "import GPy\n",
    "\n",
    "\n",
    "from gpr.common import get_data, simple_unlearnable_sine\n",
    "from data_tools.load_raw_cluster_data import LoadExperiment as le\n",
    "from plot_tools.plot_figstyle_sheet import color_pallete, predmarker, COLOURDICT, STYLEDICT"
   ]
  },
  {
   "cell_type": "code",
   "execution_count": 2,
   "metadata": {
    "collapsed": true
   },
   "outputs": [],
   "source": [
    "ver=0\n",
    "datapath = '../../../../DATA_v'+str(ver)+'_/' #v'+str(ver)+'/DATA_v'+str(ver)+'/'\n",
    "savefig2 = '../svg/paper_v0_'\n",
    "figdata = '../svg/fig_data/paper_v0_'\n",
    "figname2 = 'GPR'"
   ]
  },
  {
   "cell_type": "markdown",
   "metadata": {},
   "source": [
    "We link the periodicity and the lengthscale to the longest and shortest timescales of the system during training.\n",
    "\n",
    "Namely:\n",
    "    - p = N_train\n",
    "    - l = 3 * Delta T \n",
    "    \n",
    "We note that if the optimal periodicity >> N_train or N, the algorithm tends to pick l <<< Delta T, and a failure results."
   ]
  },
  {
   "cell_type": "code",
   "execution_count": 3,
   "metadata": {
    "collapsed": false
   },
   "outputs": [],
   "source": [
    "# Set parameters\n",
    "n_train = 2000\n",
    "Delta_T = 0.001\n",
    "n_predict = 150\n",
    "n_testbefore=50"
   ]
  },
  {
   "cell_type": "code",
   "execution_count": 4,
   "metadata": {
    "collapsed": true
   },
   "outputs": [],
   "source": [
    "# Set initial starting values for L-BFGS-B OPtimiser in GPy\n",
    "sigma_0 = 1.0\n",
    "R_0 =  1.0"
   ]
  },
  {
   "cell_type": "code",
   "execution_count": 5,
   "metadata": {
    "collapsed": true
   },
   "outputs": [],
   "source": [
    "# Set length scale and periodicity initial values for L-BFGS-B OPtimiser in GPy\n",
    "length_scale_0 = 3.0*Delta_T\n",
    "period_0 = 2000.0"
   ]
  },
  {
   "cell_type": "markdown",
   "metadata": {},
   "source": [
    "true = 9.0/3.0\n",
    "multipler = 7. # must be an integer\n",
    "spacing = true / multipler\n",
    "steps = (1./ spacing)/ 0.001\n",
    "print steps\n",
    "print spacing"
   ]
  },
  {
   "cell_type": "markdown",
   "metadata": {},
   "source": [
    "print basis\n",
    "print true / (1./(2000*0.001)) # integer"
   ]
  },
  {
   "cell_type": "code",
   "execution_count": 6,
   "metadata": {
    "collapsed": true
   },
   "outputs": [],
   "source": [
    "# Implement artificial bounds for periodicity\n",
    "C_min = 2070\n",
    "C_max = 2071\n",
    "\n",
    "offset = [0, n_train - C_min]"
   ]
  },
  {
   "cell_type": "code",
   "execution_count": 7,
   "metadata": {
    "collapsed": false
   },
   "outputs": [
    {
     "data": {
      "text/plain": [
       "[0, -70]"
      ]
     },
     "execution_count": 7,
     "metadata": {},
     "output_type": "execute_result"
    }
   ],
   "source": [
    "offset"
   ]
  },
  {
   "cell_type": "code",
   "execution_count": 8,
   "metadata": {
    "collapsed": false
   },
   "outputs": [],
   "source": [
    "CASES_min = [ None, C_min]\n",
    "CASES_max = [ None, C_max]\n",
    "CONSTRAINT = [ 0, 70]\n",
    "F_CASE = [9.0, 10.0] # The second frequency will corresspond to f0 = 3 1/3 (not perfectly learnable)\n",
    "FCOLOR = [COLOURDICT['GPRP'], COLOURDICT['GPRP']]\n",
    "FSTY = ['-', '--']\n",
    "FLABELS = ['Perfect Learning', 'Imperfect Learning $p=n_T \\quad p > n_T$']"
   ]
  },
  {
   "cell_type": "code",
   "execution_count": 9,
   "metadata": {
    "collapsed": false,
    "scrolled": true
   },
   "outputs": [
    {
     "name": "stdout",
     "output_type": "stream",
     "text": [
      "Fourier resolution at training 0.5\n",
      "True Frequency is 3.0\n"
     ]
    },
    {
     "name": "stderr",
     "output_type": "stream",
     "text": [
      " ../../../../../gpr/common.py:97: VisibleDeprecationWarning:using a non-integer number instead of an integer will result in an error in the future\n",
      " ../../../../../gpr/common.py:98: VisibleDeprecationWarning:using a non-integer number instead of an integer will result in an error in the future\n"
     ]
    },
    {
     "name": "stdout",
     "output_type": "stream",
     "text": [
      "('Periodicity is: ', \u001b[1mgp.std_periodic.period\u001b[0;0m:\n",
      "Param([ 2000.]))\n",
      "('Kernel Basis Spacing is: ', array([ 0.0005]))\n",
      "(' True Frequency / Kernel Basis Spacing  is: ', array([ 6000.]))\n",
      "Fourier resolution at training 0.5\n",
      "True Frequency is 3.0\n",
      "Warning: changing parameters to satisfy constraints\n",
      "WARNING: reconstraining parameters gp.std_periodic.period\n",
      "('Periodicity is: ', \u001b[1mgp.std_periodic.period\u001b[0;0m:\n",
      "Param([ 2070.5]))\n",
      "('Kernel Basis Spacing is: ', array([ 0.00048298]))\n",
      "(' True Frequency / Kernel Basis Spacing  is: ', array([ 6211.5]))\n",
      "Fourier resolution at training 0.5\n",
      "True Frequency is 3.33333333333\n",
      "('Periodicity is: ', \u001b[1mgp.std_periodic.period\u001b[0;0m:\n",
      "Param([ 2000.]))\n",
      "('Kernel Basis Spacing is: ', array([ 0.0005]))\n",
      "(' True Frequency / Kernel Basis Spacing  is: ', array([ 6666.66666667]))\n",
      "Fourier resolution at training 0.5\n",
      "True Frequency is 3.33333333333\n",
      "Warning: changing parameters to satisfy constraints\n",
      "WARNING: reconstraining parameters gp.std_periodic.period\n",
      "('Periodicity is: ', \u001b[1mgp.std_periodic.period\u001b[0;0m:\n",
      "Param([ 2070.5]))\n",
      "('Kernel Basis Spacing is: ', array([ 0.00048298]))\n",
      "(' True Frequency / Kernel Basis Spacing  is: ', array([ 6901.66666667]))\n"
     ]
    },
    {
     "data": {
      "image/png": "[encoded data removed]",
      "text/plain": [
       "<matplotlib.figure.Figure at 0x7f64f66a5cd0>"
      ]
     },
     "metadata": {},
     "output_type": "display_data"
    }
   ],
   "source": [
    "gs = gridspec.GridSpec(2, 2,\n",
    "                       left=0.15, right=0.985, \n",
    "                       top=0.9, bottom=0.1, \n",
    "                       wspace=0.1, hspace=0.2)\n",
    "\n",
    "fig2 = plt.figure(figsize=(cm2inch(8.6),cm2inch(7)))\n",
    "\n",
    "for idx_freq in xrange(2): # loops over perfect and imperfect learning\n",
    "    \n",
    "    ax=0 # Depicts end of Measurement Record + Prediction Horizon\n",
    "#     ax_begin=0 # Depicts training Data at Begining of Measurement Record\n",
    "    \n",
    "    for idx_cases in xrange(2): # loops over constraints on periodicity\n",
    "\n",
    "        ax = fig2.add_subplot(gs[idx_cases, idx_freq])\n",
    "        \n",
    "#         ax_begin = fig.add_subplot(gs[idx_cases, 1 + idx_freq*2]\n",
    "#         if idx_cases==0:\n",
    "#                 ax.text(.1,1.3,FLABELS[idx_freq],horizontalalignment='left',transform=ax.transAxes, fontsize=Fsize)\n",
    "\n",
    "            \n",
    "        pred_list=[]\n",
    "\n",
    "        # Get data\n",
    "        X, Y, TestX, truth, msmts = simple_unlearnable_sine(nt=n_train, delta_t = Delta_T, \n",
    "                                                            f0 = F_CASE[idx_freq], \n",
    "                                                            testpts=n_predict, randomise='y')\n",
    "\n",
    "        # set model\n",
    "        kernel_per = GPy.kern.StdPeriodic(1, period=period_0, variance=sigma_0, \n",
    "                                          lengthscale=length_scale_0)\n",
    "        gauss = GPy.likelihoods.Gaussian(variance=R_0)\n",
    "        exact = GPy.inference.latent_function_inference.ExactGaussianInference()\n",
    "        m1 = GPy.core.GP(X=X, Y=Y, kernel=kernel_per, likelihood=gauss, inference_method=exact)\n",
    "\n",
    "        # constrain periodicty if required\n",
    "        if idx_cases !=0:\n",
    "            m1.std_periodic.period.constrain_bounded(CASES_min[idx_cases], CASES_max[idx_cases])\n",
    "\n",
    "        print(\"Periodicity is: \", m1.std_periodic.period)\n",
    "        print(\"Kernel Basis Spacing is: \", 1. / m1.std_periodic.period)\n",
    "        print(\" True Frequency / Kernel Basis Spacing  is: \", (F_CASE[idx_freq]/3.)*m1.std_periodic.period)\n",
    "\n",
    "        # take predictions\n",
    "        pred_list.append(m1.predict(TestX)[0].flatten())\n",
    "        \n",
    "        # plot the truth n > 0\n",
    "        ax.plot(range(-n_testbefore, n_predict, 1), truth[n_train - n_testbefore : ], \n",
    "            '-', color=COLOURDICT['TRUTH'], lw=1.0, #markersize=1, \n",
    "            label=r'$ \\{f_n \\}$' )\n",
    "        \n",
    "        # plot predictions n > 0\n",
    "        ax.plot(range(-n_testbefore, n_predict, 5), pred_list[0][::5], # thin out by plotting every 5th msmt\n",
    "                'v', markerfacecolor='None', markersize=4, markeredgecolor= FCOLOR[idx_cases], markeredgewidth=0.5,\n",
    "                label=r'$\\mu_{f^*|y}$', alpha=1.)\n",
    "        # plot the truth n = 0\n",
    "        ax.plot(range(-offset[idx_cases], n_predict, 1), truth[0:n_predict + offset[idx_cases]], \n",
    "                      ':', color=COLOURDICT['GPRP2'], lw=1.0,#markersize=1, \n",
    "                      label=r'$ \\{f_{n= -N_T,...} \\} $' ) # offset is annoyingly a negative value.\n",
    "        \n",
    "        ax.axvline(x=CONSTRAINT[idx_cases], ls=':', lw=1.0, \n",
    "                   color=COLOURDICT['DATA'])\n",
    "        ax.text(CONSTRAINT[idx_cases] + 2, -0.8, r'$\\kappa = $%s'%(np.round(CONSTRAINT[idx_cases])))\n",
    "\n",
    "#         if idx_freq==0 and idx_cases==1:\n",
    "#             ax.set(xlabel='Time Steps [num] ' \"\\n\" r'$\\kappa \\equiv \\frac{2 \\pi}{\\Delta t\\omega_0} - N_T$')\n",
    "\n",
    "#         if idx_cases==0 and idx_freq==0:\n",
    "#             ax.set(ylabel=r'Predictions [$\\hat{f}_n$]')\n",
    "            \n",
    "\n",
    "        \n",
    "        # Formatting\n",
    "        if idx_cases ==0: # top row\n",
    "            ax.set(xticklabels=[])\n",
    "        if idx_freq ==1: # second column\n",
    "            ax.set(yticklabels=[])\n",
    "        ax.set_ylim([-1.2, 1.2])\n",
    "        ax.tick_params(direction='in', which='both')\n",
    "        ax.yaxis.set_major_locator(ticker.LinearLocator(numticks=3))\n",
    "        #ax.xaxis.set_major_locator(ticker.LinearLocator(numticks=3))\n",
    "        ax = set_font_sizes(ax, fsize, Fsize)\n",
    "        if idx_freq==0 and idx_cases==0:\n",
    "            ax.legend(loc=3,  fontsize=fsize, frameon=False, bbox_to_anchor=(0., 1.02, 2., .102), \n",
    "                     ncol=3, mode=\"expand\", borderaxespad=0.)\n",
    "            #ax.legend(loc=0, frameon=False)\n",
    "\n",
    "    \n",
    "fig2.savefig(savefig2+figname2+'.svg', format='svg', dpi=my_dpi)\n",
    "plt.show()\n",
    "plt.close()"
   ]
  },
  {
   "cell_type": "code",
   "execution_count": null,
   "metadata": {
    "collapsed": true
   },
   "outputs": [],
   "source": []
  }
 ],
 "metadata": {
  "kernelspec": {
   "display_name": "Python 2",
   "language": "python",
   "name": "python2"
  },
  "language_info": {
   "codemirror_mode": {
    "name": "ipython",
    "version": 2
   },
   "file_extension": ".py",
   "mimetype": "text/x-python",
   "name": "python",
   "nbconvert_exporter": "python",
   "pygments_lexer": "ipython2",
   "version": "2.7.13"
  }
 },
 "nbformat": 4,
 "nbformat_minor": 2
}
