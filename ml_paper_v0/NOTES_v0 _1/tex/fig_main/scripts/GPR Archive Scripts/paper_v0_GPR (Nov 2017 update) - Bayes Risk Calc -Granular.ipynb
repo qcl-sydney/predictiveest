{
 "cells": [
  {
   "cell_type": "markdown",
   "metadata": {},
   "source": [
    "We re-create numerical artefacts in the implementation of GPR with a periodic kernel for forward prediction. \n",
    "We consider a simple truth trajectory given by a deterministic sine curve. Next, we configure the GPRP algorithm and plot predictions. \n",
    "\n",
    "To get started, I import some python software I will need:"
   ]
  },
  {
   "cell_type": "code",
   "execution_count": 1,
   "metadata": {
    "collapsed": false
   },
   "outputs": [
    {
     "name": "stderr",
     "output_type": "stream",
     "text": [
      "/home/riddhisw/anaconda2/lib/python2.7/site-packages/matplotlib/lines.py:1206: FutureWarning: comparison to `None` will result in an elementwise object comparison in the future.\n",
      "  if self._markerfacecolor != fc:\n",
      "/home/riddhisw/anaconda2/lib/python2.7/site-packages/matplotlib/lines.py:1182: FutureWarning: comparison to `None` will result in an elementwise object comparison in the future.\n",
      "  if self._markeredgecolor != ec:\n"
     ]
    }
   ],
   "source": [
    "import sys\n",
    "sys.path.append('../../../../../')\n",
    "from plot_tools.fig_preamble import * # imports numpy, matplotlib, Py2PDF, plot_helper_funcs, plot_figstyle_sheet\n",
    "import GPy\n",
    "\n",
    "\n",
    "from gpr.common import get_data, simple_unlearnable_sine\n",
    "from data_tools.load_raw_cluster_data import LoadExperiment as le\n",
    "from plot_tools.plot_figstyle_sheet import color_pallete, predmarker, COLOURDICT, STYLEDICT\n",
    "from analysis_tools.common import sqr_err"
   ]
  },
  {
   "cell_type": "markdown",
   "metadata": {},
   "source": [
    "I also set up filepaths for saving data"
   ]
  },
  {
   "cell_type": "code",
   "execution_count": 2,
   "metadata": {
    "collapsed": true
   },
   "outputs": [],
   "source": [
    "ver=0\n",
    "datapath = '../../../../DATA_v'+str(ver)+'_/' #v'+str(ver)+'/DATA_v'+str(ver)+'/'\n",
    "savefig2 = '../svg/paper_v0_'\n",
    "figdata = '../svg/fig_data/paper_v0_'\n",
    "figname2 = 'GPR_new_BR_granular'"
   ]
  },
  {
   "cell_type": "markdown",
   "metadata": {},
   "source": [
    "Now, let's consider how to configure the GPRP algorithm with limited apriori information about the truth.\n",
    "In our application, let $\\Delta t$ represent the shortest possible time-spacing in our procedure between two sequential measurements from an experiment, and let $\\Delta t N_T$ represent the longest possible time spacing observed in the measurement record. \n",
    "\n",
    "We use physical arguments to link the periodicity and the lengthscale to the longest and shortest timescales of the observed system during training. In configuring a GPR algorithm, one decides or optimises $\\omega_0^{(B)}$. For the physically set paramter, $\\Delta t$ in our procedure, a classical analysis suggests that one needs $2 \\pi /(\\Delta t \\omega_0^{(B)})$ for a computational method to resolve Fourier components of true noise to an order $\\omega_0^{(B)}$. Further, any changes in the continuous process below $\\Delta t$ will not be observed. These reasons lead us to propose the following initial conditions for kernel hyperparameters at the outset of a procedure:, namely:\n",
    "\n",
    "    - p = N_train\n",
    "    - l = 3 * Delta T \n",
    "    \n"
   ]
  },
  {
   "cell_type": "code",
   "execution_count": 3,
   "metadata": {
    "collapsed": false
   },
   "outputs": [],
   "source": [
    "# Set experimental parameters\n",
    "n_train = 2000\n",
    "Delta_T = 0.001\n",
    "n_predict = 100\n",
    "n_testbefore=50"
   ]
  },
  {
   "cell_type": "code",
   "execution_count": 4,
   "metadata": {
    "collapsed": true
   },
   "outputs": [],
   "source": [
    "# Set initial starting values for L-BFGS-B OPtimiser in GPy\n",
    "sigma_0 = 1.0\n",
    "R_0 =  1.0"
   ]
  },
  {
   "cell_type": "code",
   "execution_count": 5,
   "metadata": {
    "collapsed": true
   },
   "outputs": [],
   "source": [
    "# Set length scale and periodicity initial values for L-BFGS-B OPtimiser in GPy\n",
    "length_scale_0 = 3.0*Delta_T\n",
    "period_0 = 2000.0"
   ]
  },
  {
   "cell_type": "markdown",
   "metadata": {},
   "source": [
    "true = 9.0/3.0\n",
    "multipler = 7. # must be an integer\n",
    "spacing = true / multipler\n",
    "steps = (1./ spacing)/ 0.001\n",
    "print steps\n",
    "print spacing"
   ]
  },
  {
   "cell_type": "markdown",
   "metadata": {},
   "source": [
    "print basis\n",
    "print true / (1./(2000*0.001)) # integer"
   ]
  },
  {
   "cell_type": "markdown",
   "metadata": {},
   "source": [
    "We now implement optimised GPRP model but with constrained periodicities"
   ]
  },
  {
   "cell_type": "code",
   "execution_count": 6,
   "metadata": {
    "collapsed": false
   },
   "outputs": [
    {
     "data": {
      "text/plain": [
       "10000"
      ]
     },
     "execution_count": 6,
     "metadata": {},
     "output_type": "execute_result"
    }
   ],
   "source": [
    "10**4"
   ]
  },
  {
   "cell_type": "code",
   "execution_count": 7,
   "metadata": {
    "collapsed": false
   },
   "outputs": [],
   "source": [
    "total_runs = 50\n",
    "#periodicities = ((2000, 2001), (0, 10**3), (10**3, 10**4), (10**4, 10**5), (None, None))\n",
    "periodicities = ((0, 2*10**3), (2*10**3, 4*10**3), (4*10**3, 6*10**3), (6*10**3, 8*10**3), (8*10**3, 10*10**3))"
   ]
  },
  {
   "cell_type": "code",
   "execution_count": 8,
   "metadata": {
    "collapsed": false
   },
   "outputs": [],
   "source": [
    "pred_list= np.zeros((len(periodicities), total_runs, n_predict+n_testbefore))\n",
    "opt_list = np.zeros((len(periodicities), total_runs, 4))\n",
    "truth_list= np.zeros((len(periodicities), total_runs, n_predict+n_testbefore))\n",
    "failed_runs_list = np.zeros((len(periodicities), total_runs))"
   ]
  },
  {
   "cell_type": "code",
   "execution_count": 9,
   "metadata": {
    "collapsed": false
   },
   "outputs": [
    {
     "name": "stdout",
     "output_type": "stream",
     "text": [
      "LKFFB: Data Loaded? Yes\n"
     ]
    }
   ],
   "source": [
    "dataobject = le(19, 5, \n",
    "                skip = 1,\n",
    "                GPRP_load='No', GPRP_path = './',\n",
    "                LKFFB_load = 'Yes', LKFFB_path = datapath,\n",
    "                AKF_load='No', AKF_path = './',\n",
    "                LSF_load = 'No', LSF_path = './')"
   ]
  },
  {
   "cell_type": "code",
   "execution_count": 10,
   "metadata": {
    "collapsed": false
   },
   "outputs": [
    {
     "name": "stderr",
     "output_type": "stream",
     "text": [
      " ../../../../../gpr/common.py:66: VisibleDeprecationWarning:using a non-integer number instead of an integer will result in an error in the future\n",
      " ../../../../../gpr/common.py:67: VisibleDeprecationWarning:using a non-integer number instead of an integer will result in an error in the future\n"
     ]
    },
    {
     "name": "stdout",
     "output_type": "stream",
     "text": [
      "Peridocity is constrained...\n",
      "WARNING: reconstraining parameters gp.std_periodic.period\n",
      "('Optimise GPRP for:', 0, 0)\n",
      "\n",
      "Name : gp\n",
      "Objective : 162150634.339\n",
      "Number of Parameters : 4\n",
      "Number of Optimization Parameters : 4\n",
      "Updates : True\n",
      "Parameters:\n",
      "  \u001b[1mgp.                     \u001b[0;0m  |   value  |  constraints  |  priors\n",
      "  \u001b[1mstd_periodic.variance   \u001b[0;0m  |     1.0  |      +ve      |        \n",
      "  \u001b[1mstd_periodic.period     \u001b[0;0m  |  2000.0  |  0.0,2000.0   |        \n",
      "  \u001b[1mstd_periodic.lengthscale\u001b[0;0m  |   0.003  |      +ve      |        \n",
      "  \u001b[1mGaussian_noise.variance \u001b[0;0m  |     1.0  |      +ve      |        \n",
      "Optimisation complete!\n",
      "\n",
      "Name : gp\n",
      "Objective : 14729.6907606\n",
      "Number of Parameters : 4\n",
      "Number of Optimization Parameters : 4\n",
      "Updates : True\n",
      "Parameters:\n",
      "  \u001b[1mgp.                     \u001b[0;0m  |             value  |  constraints  |  priors\n",
      "  \u001b[1mstd_periodic.variance   \u001b[0;0m  |       123818.3396  |      +ve      |        \n",
      "  \u001b[1mstd_periodic.period     \u001b[0;0m  |            2000.0  |  0.0,2000.0   |        \n",
      "  \u001b[1mstd_periodic.lengthscale\u001b[0;0m  |  0.00984700127803  |      +ve      |        \n",
      "  \u001b[1mGaussian_noise.variance \u001b[0;0m  |     112627.615377  |      +ve      |        \n",
      "Peridocity is constrained...\n",
      "WARNING: reconstraining parameters gp.std_periodic.period\n",
      "('Optimise GPRP for:', 1, 0)\n",
      "\n",
      "Name : gp\n",
      "Objective : 162150634.339\n",
      "Number of Parameters : 4\n",
      "Number of Optimization Parameters : 4\n",
      "Updates : True\n",
      "Parameters:\n",
      "  \u001b[1mgp.                     \u001b[0;0m  |   value  |   constraints   |  priors\n",
      "  \u001b[1mstd_periodic.variance   \u001b[0;0m  |     1.0  |       +ve       |        \n",
      "  \u001b[1mstd_periodic.period     \u001b[0;0m  |  2000.0  |  2000.0,4000.0  |        \n",
      "  \u001b[1mstd_periodic.lengthscale\u001b[0;0m  |   0.003  |       +ve       |        \n",
      "  \u001b[1mGaussian_noise.variance \u001b[0;0m  |     1.0  |       +ve       |        \n",
      "Optimisation complete!\n",
      "\n",
      "Name : gp\n",
      "Objective : 14260.0565182\n",
      "Number of Parameters : 4\n",
      "Number of Optimization Parameters : 4\n",
      "Updates : True\n",
      "Parameters:\n",
      "  \u001b[1mgp.                     \u001b[0;0m  |            value  |   constraints   |  priors\n",
      "  \u001b[1mstd_periodic.variance   \u001b[0;0m  |    790519.524099  |       +ve       |        \n",
      "  \u001b[1mstd_periodic.period     \u001b[0;0m  |           2000.0  |  2000.0,4000.0  |        \n",
      "  \u001b[1mstd_periodic.lengthscale\u001b[0;0m  |  0.0120577142764  |       +ve       |        \n",
      "  \u001b[1mGaussian_noise.variance \u001b[0;0m  |    53408.8947697  |       +ve       |        \n",
      "Peridocity is constrained...\n",
      "Warning: changing parameters to satisfy constraints\n",
      "WARNING: reconstraining parameters gp.std_periodic.period\n",
      "('Optimise GPRP for:', 2, 0)\n",
      "\n",
      "Name : gp\n",
      "Objective : 118284428.479\n",
      "Number of Parameters : 4\n",
      "Number of Optimization Parameters : 4\n",
      "Updates : True\n",
      "Parameters:\n",
      "  \u001b[1mgp.                     \u001b[0;0m  |   value  |   constraints   |  priors\n",
      "  \u001b[1mstd_periodic.variance   \u001b[0;0m  |     1.0  |       +ve       |        \n",
      "  \u001b[1mstd_periodic.period     \u001b[0;0m  |  5000.0  |  4000.0,6000.0  |        \n",
      "  \u001b[1mstd_periodic.lengthscale\u001b[0;0m  |   0.003  |       +ve       |        \n",
      "  \u001b[1mGaussian_noise.variance \u001b[0;0m  |     1.0  |       +ve       |        \n",
      "Optimisation complete!\n",
      "\n",
      "Name : gp\n",
      "Objective : 14725.4543846\n",
      "Number of Parameters : 4\n",
      "Number of Optimization Parameters : 4\n",
      "Updates : True\n",
      "Parameters:\n",
      "  \u001b[1mgp.                     \u001b[0;0m  |             value  |   constraints   |  priors\n",
      "  \u001b[1mstd_periodic.variance   \u001b[0;0m  |     122326.989163  |       +ve       |        \n",
      "  \u001b[1mstd_periodic.period     \u001b[0;0m  |     4000.00584407  |  4000.0,6000.0  |        \n",
      "  \u001b[1mstd_periodic.lengthscale\u001b[0;0m  |  0.00499862726186  |       +ve       |        \n",
      "  \u001b[1mGaussian_noise.variance \u001b[0;0m  |     112311.198566  |       +ve       |        \n",
      "Peridocity is constrained...\n",
      "Warning: changing parameters to satisfy constraints\n",
      "WARNING: reconstraining parameters gp.std_periodic.period\n",
      "('Optimise GPRP for:', 3, 0)\n",
      "\n",
      "Name : gp\n",
      "Objective : 118501964.409\n",
      "Number of Parameters : 4\n",
      "Number of Optimization Parameters : 4\n",
      "Updates : True\n",
      "Parameters:\n",
      "  \u001b[1mgp.                     \u001b[0;0m  |   value  |   constraints   |  priors\n",
      "  \u001b[1mstd_periodic.variance   \u001b[0;0m  |     1.0  |       +ve       |        \n",
      "  \u001b[1mstd_periodic.period     \u001b[0;0m  |  7000.0  |  6000.0,8000.0  |        \n",
      "  \u001b[1mstd_periodic.lengthscale\u001b[0;0m  |   0.003  |       +ve       |        \n",
      "  \u001b[1mGaussian_noise.variance \u001b[0;0m  |     1.0  |       +ve       |        \n",
      "Optimisation complete!\n",
      "\n",
      "Name : gp\n",
      "Objective : 14732.2860739\n",
      "Number of Parameters : 4\n",
      "Number of Optimization Parameters : 4\n",
      "Updates : True\n",
      "Parameters:\n",
      "  \u001b[1mgp.                     \u001b[0;0m  |             value  |   constraints   |  priors\n",
      "  \u001b[1mstd_periodic.variance   \u001b[0;0m  |     121377.289062  |       +ve       |        \n",
      "  \u001b[1mstd_periodic.period     \u001b[0;0m  |            8000.0  |  6000.0,8000.0  |        \n",
      "  \u001b[1mstd_periodic.lengthscale\u001b[0;0m  |  0.00249910193487  |       +ve       |        \n",
      "  \u001b[1mGaussian_noise.variance \u001b[0;0m  |     113283.753254  |       +ve       |        \n",
      "('Optimise GPRP for:', 4, 0)\n",
      "\n",
      "Name : gp\n",
      "Objective : 162150634.339\n",
      "Number of Parameters : 4\n",
      "Number of Optimization Parameters : 4\n",
      "Updates : True\n",
      "Parameters:\n",
      "  \u001b[1mgp.                     \u001b[0;0m  |   value  |  constraints  |  priors\n",
      "  \u001b[1mstd_periodic.variance   \u001b[0;0m  |     1.0  |      +ve      |        \n",
      "  \u001b[1mstd_periodic.period     \u001b[0;0m  |  2000.0  |      +ve      |        \n",
      "  \u001b[1mstd_periodic.lengthscale\u001b[0;0m  |   0.003  |      +ve      |        \n",
      "  \u001b[1mGaussian_noise.variance \u001b[0;0m  |     1.0  |      +ve      |        \n"
     ]
    },
    {
     "name": "stderr",
     "output_type": "stream",
     "text": [
      " /home/riddhisw/anaconda2/lib/python2.7/site-packages/paramz/transformations.py:109: RuntimeWarning:overflow encountered in expm1\n",
      " /home/riddhisw/anaconda2/lib/python2.7/site-packages/GPy/kern/src/standard_periodic.py:112: RuntimeWarning:overflow encountered in divide\n",
      " /home/riddhisw/anaconda2/lib/python2.7/site-packages/GPy/kern/src/standard_periodic.py:113: RuntimeWarning:invalid value encountered in sin\n"
     ]
    },
    {
     "name": "stdout",
     "output_type": "stream",
     "text": [
      "Optimisation complete!\n",
      "\n",
      "Name : gp\n",
      "Objective : 14623.5815702\n",
      "Number of Parameters : 4\n",
      "Number of Optimization Parameters : 4\n",
      "Updates : True\n",
      "Parameters:\n",
      "  \u001b[1mgp.                     \u001b[0;0m  |            value  |  constraints  |  priors\n",
      "  \u001b[1mstd_periodic.variance   \u001b[0;0m  |    192082.767368  |      +ve      |        \n",
      "  \u001b[1mstd_periodic.period     \u001b[0;0m  |    5039.47190314  |      +ve      |        \n",
      "  \u001b[1mstd_periodic.lengthscale\u001b[0;0m  |  0.0037389651871  |      +ve      |        \n",
      "  \u001b[1mGaussian_noise.variance \u001b[0;0m  |    122692.188599  |      +ve      |        \n",
      "Peridocity is constrained...\n",
      "WARNING: reconstraining parameters gp.std_periodic.period\n",
      "('Optimise GPRP for:', 0, 1)\n",
      "\n",
      "Name : gp\n",
      "Objective : 146802463.712\n",
      "Number of Parameters : 4\n",
      "Number of Optimization Parameters : 4\n",
      "Updates : True\n",
      "Parameters:\n",
      "  \u001b[1mgp.                     \u001b[0;0m  |   value  |  constraints  |  priors\n",
      "  \u001b[1mstd_periodic.variance   \u001b[0;0m  |     1.0  |      +ve      |        \n",
      "  \u001b[1mstd_periodic.period     \u001b[0;0m  |  2000.0  |  0.0,2000.0   |        \n",
      "  \u001b[1mstd_periodic.lengthscale\u001b[0;0m  |   0.003  |      +ve      |        \n",
      "  \u001b[1mGaussian_noise.variance \u001b[0;0m  |     1.0  |      +ve      |        \n"
     ]
    },
    {
     "name": "stderr",
     "output_type": "stream",
     "text": [
      " /home/riddhisw/anaconda2/lib/python2.7/site-packages/GPy/kern/src/standard_periodic.py:136: RuntimeWarning:divide by zero encountered in divide\n",
      " /home/riddhisw/anaconda2/lib/python2.7/site-packages/GPy/kern/src/standard_periodic.py:136: RuntimeWarning:invalid value encountered in divide\n",
      " /home/riddhisw/anaconda2/lib/python2.7/site-packages/GPy/kern/src/standard_periodic.py:149: RuntimeWarning:invalid value encountered in multiply\n"
     ]
    },
    {
     "name": "stdout",
     "output_type": "stream",
     "text": [
      "Optimisation complete!\n",
      "\n",
      "Name : gp\n",
      "Objective : 14682.4201479\n",
      "Number of Parameters : 4\n",
      "Number of Optimization Parameters : 4\n",
      "Updates : True\n",
      "Parameters:\n",
      "  \u001b[1mgp.                     \u001b[0;0m  |             value  |  constraints  |  priors\n",
      "  \u001b[1mstd_periodic.variance   \u001b[0;0m  |     97422.1103151  |      +ve      |        \n",
      "  \u001b[1mstd_periodic.period     \u001b[0;0m  |            2000.0  |  0.0,2000.0   |        \n",
      "  \u001b[1mstd_periodic.lengthscale\u001b[0;0m  |  0.00969956862698  |      +ve      |        \n",
      "  \u001b[1mGaussian_noise.variance \u001b[0;0m  |     90900.1560528  |      +ve      |        \n",
      "Peridocity is constrained...\n",
      "WARNING: reconstraining parameters gp.std_periodic.period\n",
      "('Optimise GPRP for:', 1, 1)\n",
      "\n",
      "Name : gp\n",
      "Objective : 146802463.712\n",
      "Number of Parameters : 4\n",
      "Number of Optimization Parameters : 4\n",
      "Updates : True\n",
      "Parameters:\n",
      "  \u001b[1mgp.                     \u001b[0;0m  |   value  |   constraints   |  priors\n",
      "  \u001b[1mstd_periodic.variance   \u001b[0;0m  |     1.0  |       +ve       |        \n",
      "  \u001b[1mstd_periodic.period     \u001b[0;0m  |  2000.0  |  2000.0,4000.0  |        \n",
      "  \u001b[1mstd_periodic.lengthscale\u001b[0;0m  |   0.003  |       +ve       |        \n",
      "  \u001b[1mGaussian_noise.variance \u001b[0;0m  |     1.0  |       +ve       |        \n",
      "Optimisation complete!\n",
      "\n",
      "Name : gp\n",
      "Objective : 14682.4202069\n",
      "Number of Parameters : 4\n",
      "Number of Optimization Parameters : 4\n",
      "Updates : True\n",
      "Parameters:\n",
      "  \u001b[1mgp.                     \u001b[0;0m  |             value  |   constraints   |  priors\n",
      "  \u001b[1mstd_periodic.variance   \u001b[0;0m  |     97422.1025475  |       +ve       |        \n",
      "  \u001b[1mstd_periodic.period     \u001b[0;0m  |            2000.0  |  2000.0,4000.0  |        \n",
      "  \u001b[1mstd_periodic.lengthscale\u001b[0;0m  |  0.00969956877437  |       +ve       |        \n",
      "  \u001b[1mGaussian_noise.variance \u001b[0;0m  |     90900.1620797  |       +ve       |        \n",
      "Peridocity is constrained...\n",
      "Warning: changing parameters to satisfy constraints\n",
      "WARNING: reconstraining parameters gp.std_periodic.period\n",
      "('Optimise GPRP for:', 2, 1)\n",
      "\n",
      "Name : gp\n",
      "Objective : 109758883.668\n",
      "Number of Parameters : 4\n",
      "Number of Optimization Parameters : 4\n",
      "Updates : True\n",
      "Parameters:\n",
      "  \u001b[1mgp.                     \u001b[0;0m  |   value  |   constraints   |  priors\n",
      "  \u001b[1mstd_periodic.variance   \u001b[0;0m  |     1.0  |       +ve       |        \n",
      "  \u001b[1mstd_periodic.period     \u001b[0;0m  |  5000.0  |  4000.0,6000.0  |        \n",
      "  \u001b[1mstd_periodic.lengthscale\u001b[0;0m  |   0.003  |       +ve       |        \n",
      "  \u001b[1mGaussian_noise.variance \u001b[0;0m  |     1.0  |       +ve       |        \n",
      "Optimisation complete!\n",
      "\n",
      "Name : gp\n",
      "Objective : 14679.9165232\n",
      "Number of Parameters : 4\n",
      "Number of Optimization Parameters : 4\n",
      "Updates : True\n",
      "Parameters:\n",
      "  \u001b[1mgp.                     \u001b[0;0m  |            value  |   constraints   |  priors\n",
      "  \u001b[1mstd_periodic.variance   \u001b[0;0m  |    111672.025976  |       +ve       |        \n",
      "  \u001b[1mstd_periodic.period     \u001b[0;0m  |           6000.0  |  4000.0,6000.0  |        \n",
      "  \u001b[1mstd_periodic.lengthscale\u001b[0;0m  |  0.0032743557403  |       +ve       |        \n",
      "  \u001b[1mGaussian_noise.variance \u001b[0;0m  |    107603.142949  |       +ve       |        \n",
      "Peridocity is constrained...\n",
      "Warning: changing parameters to satisfy constraints\n",
      "WARNING: reconstraining parameters gp.std_periodic.period\n",
      "('Optimise GPRP for:', 3, 1)\n",
      "\n",
      "Name : gp\n",
      "Objective : 111006291.302\n",
      "Number of Parameters : 4\n",
      "Number of Optimization Parameters : 4\n",
      "Updates : True\n",
      "Parameters:\n",
      "  \u001b[1mgp.                     \u001b[0;0m  |   value  |   constraints   |  priors\n",
      "  \u001b[1mstd_periodic.variance   \u001b[0;0m  |     1.0  |       +ve       |        \n",
      "  \u001b[1mstd_periodic.period     \u001b[0;0m  |  7000.0  |  6000.0,8000.0  |        \n",
      "  \u001b[1mstd_periodic.lengthscale\u001b[0;0m  |   0.003  |       +ve       |        \n",
      "  \u001b[1mGaussian_noise.variance \u001b[0;0m  |     1.0  |       +ve       |        \n",
      "KeyboardInterrupt caught, calling on_optimization_end() to round things up\n",
      "('Unexpected error:', <type 'exceptions.KeyboardInterrupt'>)\n",
      "('Failed run', 1)\n",
      "('Optimise GPRP for:', 4, 1)\n",
      "\n",
      "Name : gp\n",
      "Objective : 146802463.712\n",
      "Number of Parameters : 4\n",
      "Number of Optimization Parameters : 4\n",
      "Updates : True\n",
      "Parameters:\n",
      "  \u001b[1mgp.                     \u001b[0;0m  |   value  |  constraints  |  priors\n",
      "  \u001b[1mstd_periodic.variance   \u001b[0;0m  |     1.0  |      +ve      |        \n",
      "  \u001b[1mstd_periodic.period     \u001b[0;0m  |  2000.0  |      +ve      |        \n",
      "  \u001b[1mstd_periodic.lengthscale\u001b[0;0m  |   0.003  |      +ve      |        \n",
      "  \u001b[1mGaussian_noise.variance \u001b[0;0m  |     1.0  |      +ve      |        \n",
      "KeyboardInterrupt caught, calling on_optimization_end() to round things up\n",
      "('Unexpected error:', <type 'exceptions.KeyboardInterrupt'>)\n",
      "('Failed run', 1)\n",
      "Peridocity is constrained...\n",
      "WARNING: reconstraining parameters gp.std_periodic.period\n",
      "('Optimise GPRP for:', 0, 2)\n",
      "\n",
      "Name : gp\n",
      "Objective : 143238465.805\n",
      "Number of Parameters : 4\n",
      "Number of Optimization Parameters : 4\n",
      "Updates : True\n",
      "Parameters:\n",
      "  \u001b[1mgp.                     \u001b[0;0m  |   value  |  constraints  |  priors\n",
      "  \u001b[1mstd_periodic.variance   \u001b[0;0m  |     1.0  |      +ve      |        \n",
      "  \u001b[1mstd_periodic.period     \u001b[0;0m  |  2000.0  |  0.0,2000.0   |        \n",
      "  \u001b[1mstd_periodic.lengthscale\u001b[0;0m  |   0.003  |      +ve      |        \n",
      "  \u001b[1mGaussian_noise.variance \u001b[0;0m  |     1.0  |      +ve      |        \n",
      "KeyboardInterrupt caught, calling on_optimization_end() to round things up\n",
      "('Unexpected error:', <type 'exceptions.KeyboardInterrupt'>)\n",
      "('Failed run', 2)\n"
     ]
    },
    {
     "ename": "KeyboardInterrupt",
     "evalue": "",
     "output_type": "error",
     "traceback": [
      "\u001b[0;31m---------------------------------------------------------------------------\u001b[0m",
      "\u001b[0;31mKeyboardInterrupt\u001b[0m                         Traceback (most recent call last)",
      "\u001b[0;32m<ipython-input-10-a08844ed070c>\u001b[0m in \u001b[0;36m<module>\u001b[0;34m()\u001b[0m\n\u001b[1;32m     17\u001b[0m         \u001b[0mgauss\u001b[0m \u001b[0;34m=\u001b[0m \u001b[0mGPy\u001b[0m\u001b[0;34m.\u001b[0m\u001b[0mlikelihoods\u001b[0m\u001b[0;34m.\u001b[0m\u001b[0mGaussian\u001b[0m\u001b[0;34m(\u001b[0m\u001b[0mvariance\u001b[0m\u001b[0;34m=\u001b[0m\u001b[0mR_0\u001b[0m\u001b[0;34m)\u001b[0m\u001b[0;34m\u001b[0m\u001b[0m\n\u001b[1;32m     18\u001b[0m         \u001b[0mexact\u001b[0m \u001b[0;34m=\u001b[0m \u001b[0mGPy\u001b[0m\u001b[0;34m.\u001b[0m\u001b[0minference\u001b[0m\u001b[0;34m.\u001b[0m\u001b[0mlatent_function_inference\u001b[0m\u001b[0;34m.\u001b[0m\u001b[0mExactGaussianInference\u001b[0m\u001b[0;34m(\u001b[0m\u001b[0;34m)\u001b[0m\u001b[0;34m\u001b[0m\u001b[0m\n\u001b[0;32m---> 19\u001b[0;31m         \u001b[0mm1\u001b[0m \u001b[0;34m=\u001b[0m \u001b[0mGPy\u001b[0m\u001b[0;34m.\u001b[0m\u001b[0mcore\u001b[0m\u001b[0;34m.\u001b[0m\u001b[0mGP\u001b[0m\u001b[0;34m(\u001b[0m\u001b[0mX\u001b[0m\u001b[0;34m=\u001b[0m\u001b[0mX\u001b[0m\u001b[0;34m,\u001b[0m \u001b[0mY\u001b[0m\u001b[0;34m=\u001b[0m\u001b[0mY\u001b[0m\u001b[0;34m,\u001b[0m \u001b[0mkernel\u001b[0m\u001b[0;34m=\u001b[0m\u001b[0mkernel_per\u001b[0m\u001b[0;34m,\u001b[0m \u001b[0mlikelihood\u001b[0m\u001b[0;34m=\u001b[0m\u001b[0mgauss\u001b[0m\u001b[0;34m,\u001b[0m \u001b[0minference_method\u001b[0m\u001b[0;34m=\u001b[0m\u001b[0mexact\u001b[0m\u001b[0;34m)\u001b[0m\u001b[0;34m\u001b[0m\u001b[0m\n\u001b[0m\u001b[1;32m     20\u001b[0m \u001b[0;34m\u001b[0m\u001b[0m\n\u001b[1;32m     21\u001b[0m \u001b[0;34m\u001b[0m\u001b[0m\n",
      "\u001b[0;32m/home/riddhisw/anaconda2/lib/python2.7/site-packages/paramz/parameterized.pyc\u001b[0m in \u001b[0;36m__call__\u001b[0;34m(self, *args, **kw)\u001b[0m\n\u001b[1;32m     52\u001b[0m         \u001b[0mself\u001b[0m\u001b[0;34m.\u001b[0m\u001b[0m_model_initialized_\u001b[0m \u001b[0;34m=\u001b[0m \u001b[0mFalse\u001b[0m\u001b[0;34m\u001b[0m\u001b[0m\n\u001b[1;32m     53\u001b[0m         \u001b[0;32mif\u001b[0m \u001b[0minitialize\u001b[0m\u001b[0;34m:\u001b[0m\u001b[0;34m\u001b[0m\u001b[0m\n\u001b[0;32m---> 54\u001b[0;31m             \u001b[0mself\u001b[0m\u001b[0;34m.\u001b[0m\u001b[0minitialize_parameter\u001b[0m\u001b[0;34m(\u001b[0m\u001b[0;34m)\u001b[0m\u001b[0;34m\u001b[0m\u001b[0m\n\u001b[0m\u001b[1;32m     55\u001b[0m         \u001b[0;32melse\u001b[0m\u001b[0;34m:\u001b[0m\u001b[0;34m\u001b[0m\u001b[0m\n\u001b[1;32m     56\u001b[0m             \u001b[0;32mimport\u001b[0m \u001b[0mwarnings\u001b[0m\u001b[0;34m\u001b[0m\u001b[0m\n",
      "\u001b[0;32m/home/riddhisw/anaconda2/lib/python2.7/site-packages/paramz/core/parameter_core.pyc\u001b[0m in \u001b[0;36minitialize_parameter\u001b[0;34m(self)\u001b[0m\n\u001b[1;32m    329\u001b[0m         \u001b[0mself\u001b[0m\u001b[0;34m.\u001b[0m\u001b[0m_highest_parent_\u001b[0m\u001b[0;34m.\u001b[0m\u001b[0m_connect_parameters\u001b[0m\u001b[0;34m(\u001b[0m\u001b[0;34m)\u001b[0m \u001b[0;31m#logger.debug(\"calling parameters changed\")\u001b[0m\u001b[0;34m\u001b[0m\u001b[0m\n\u001b[1;32m    330\u001b[0m         \u001b[0mself\u001b[0m\u001b[0;34m.\u001b[0m\u001b[0m_highest_parent_\u001b[0m\u001b[0;34m.\u001b[0m\u001b[0m_connect_fixes\u001b[0m\u001b[0;34m(\u001b[0m\u001b[0;34m)\u001b[0m\u001b[0;34m\u001b[0m\u001b[0m\n\u001b[0;32m--> 331\u001b[0;31m         \u001b[0mself\u001b[0m\u001b[0;34m.\u001b[0m\u001b[0mtrigger_update\u001b[0m\u001b[0;34m(\u001b[0m\u001b[0;34m)\u001b[0m\u001b[0;34m\u001b[0m\u001b[0m\n\u001b[0m\u001b[1;32m    332\u001b[0m \u001b[0;34m\u001b[0m\u001b[0m\n\u001b[1;32m    333\u001b[0m     \u001b[0;34m@\u001b[0m\u001b[0mproperty\u001b[0m\u001b[0;34m\u001b[0m\u001b[0m\n",
      "\u001b[0;32m/home/riddhisw/anaconda2/lib/python2.7/site-packages/paramz/core/updateable.pyc\u001b[0m in \u001b[0;36mtrigger_update\u001b[0;34m(self, trigger_parent)\u001b[0m\n\u001b[1;32m     77\u001b[0m             \u001b[0;31m#print \"Warning: updates are off, updating the model will do nothing\"\u001b[0m\u001b[0;34m\u001b[0m\u001b[0;34m\u001b[0m\u001b[0m\n\u001b[1;32m     78\u001b[0m             \u001b[0;32mreturn\u001b[0m\u001b[0;34m\u001b[0m\u001b[0m\n\u001b[0;32m---> 79\u001b[0;31m         \u001b[0mself\u001b[0m\u001b[0;34m.\u001b[0m\u001b[0m_trigger_params_changed\u001b[0m\u001b[0;34m(\u001b[0m\u001b[0mtrigger_parent\u001b[0m\u001b[0;34m)\u001b[0m\u001b[0;34m\u001b[0m\u001b[0m\n\u001b[0m",
      "\u001b[0;32m/home/riddhisw/anaconda2/lib/python2.7/site-packages/paramz/core/parameter_core.pyc\u001b[0m in \u001b[0;36m_trigger_params_changed\u001b[0;34m(self, trigger_parent)\u001b[0m\n\u001b[1;32m    126\u001b[0m         \"\"\"\n\u001b[1;32m    127\u001b[0m         \u001b[0;34m[\u001b[0m\u001b[0mp\u001b[0m\u001b[0;34m.\u001b[0m\u001b[0m_trigger_params_changed\u001b[0m\u001b[0;34m(\u001b[0m\u001b[0mtrigger_parent\u001b[0m\u001b[0;34m=\u001b[0m\u001b[0mFalse\u001b[0m\u001b[0;34m)\u001b[0m \u001b[0;32mfor\u001b[0m \u001b[0mp\u001b[0m \u001b[0;32min\u001b[0m \u001b[0mself\u001b[0m\u001b[0;34m.\u001b[0m\u001b[0mparameters\u001b[0m \u001b[0;32mif\u001b[0m \u001b[0;32mnot\u001b[0m \u001b[0mp\u001b[0m\u001b[0;34m.\u001b[0m\u001b[0mis_fixed\u001b[0m\u001b[0;34m]\u001b[0m\u001b[0;34m\u001b[0m\u001b[0m\n\u001b[0;32m--> 128\u001b[0;31m         \u001b[0mself\u001b[0m\u001b[0;34m.\u001b[0m\u001b[0mnotify_observers\u001b[0m\u001b[0;34m(\u001b[0m\u001b[0mNone\u001b[0m\u001b[0;34m,\u001b[0m \u001b[0mNone\u001b[0m \u001b[0;32mif\u001b[0m \u001b[0mtrigger_parent\u001b[0m \u001b[0;32melse\u001b[0m \u001b[0;34m-\u001b[0m\u001b[0mnp\u001b[0m\u001b[0;34m.\u001b[0m\u001b[0minf\u001b[0m\u001b[0;34m)\u001b[0m\u001b[0;34m\u001b[0m\u001b[0m\n\u001b[0m\u001b[1;32m    129\u001b[0m \u001b[0;34m\u001b[0m\u001b[0m\n\u001b[1;32m    130\u001b[0m     \u001b[0;32mdef\u001b[0m \u001b[0m_size_transformed\u001b[0m\u001b[0;34m(\u001b[0m\u001b[0mself\u001b[0m\u001b[0;34m)\u001b[0m\u001b[0;34m:\u001b[0m\u001b[0;34m\u001b[0m\u001b[0m\n",
      "\u001b[0;32m/home/riddhisw/anaconda2/lib/python2.7/site-packages/paramz/core/observable.pyc\u001b[0m in \u001b[0;36mnotify_observers\u001b[0;34m(self, which, min_priority)\u001b[0m\n\u001b[1;32m     89\u001b[0m                 \u001b[0mwhich\u001b[0m \u001b[0;34m=\u001b[0m \u001b[0mself\u001b[0m\u001b[0;34m\u001b[0m\u001b[0m\n\u001b[1;32m     90\u001b[0m             \u001b[0;32mif\u001b[0m \u001b[0mmin_priority\u001b[0m \u001b[0;32mis\u001b[0m \u001b[0mNone\u001b[0m\u001b[0;34m:\u001b[0m\u001b[0;34m\u001b[0m\u001b[0m\n\u001b[0;32m---> 91\u001b[0;31m                 \u001b[0;34m[\u001b[0m\u001b[0mcallble\u001b[0m\u001b[0;34m(\u001b[0m\u001b[0mself\u001b[0m\u001b[0;34m,\u001b[0m \u001b[0mwhich\u001b[0m\u001b[0;34m=\u001b[0m\u001b[0mwhich\u001b[0m\u001b[0;34m)\u001b[0m \u001b[0;32mfor\u001b[0m \u001b[0m_\u001b[0m\u001b[0;34m,\u001b[0m \u001b[0m_\u001b[0m\u001b[0;34m,\u001b[0m \u001b[0mcallble\u001b[0m \u001b[0;32min\u001b[0m \u001b[0mself\u001b[0m\u001b[0;34m.\u001b[0m\u001b[0mobservers\u001b[0m\u001b[0;34m]\u001b[0m\u001b[0;34m\u001b[0m\u001b[0m\n\u001b[0m\u001b[1;32m     92\u001b[0m             \u001b[0;32melse\u001b[0m\u001b[0;34m:\u001b[0m\u001b[0;34m\u001b[0m\u001b[0m\n\u001b[1;32m     93\u001b[0m                 \u001b[0;32mfor\u001b[0m \u001b[0mp\u001b[0m\u001b[0;34m,\u001b[0m \u001b[0m_\u001b[0m\u001b[0;34m,\u001b[0m \u001b[0mcallble\u001b[0m \u001b[0;32min\u001b[0m \u001b[0mself\u001b[0m\u001b[0;34m.\u001b[0m\u001b[0mobservers\u001b[0m\u001b[0;34m:\u001b[0m\u001b[0;34m\u001b[0m\u001b[0m\n",
      "\u001b[0;32m/home/riddhisw/anaconda2/lib/python2.7/site-packages/paramz/core/parameter_core.pyc\u001b[0m in \u001b[0;36m_parameters_changed_notification\u001b[0;34m(self, me, which)\u001b[0m\n\u001b[1;32m    496\u001b[0m         \"\"\"\n\u001b[1;32m    497\u001b[0m         \u001b[0mself\u001b[0m\u001b[0;34m.\u001b[0m\u001b[0m_optimizer_copy_transformed\u001b[0m \u001b[0;34m=\u001b[0m \u001b[0mFalse\u001b[0m \u001b[0;31m# tells the optimizer array to update on next request\u001b[0m\u001b[0;34m\u001b[0m\u001b[0m\n\u001b[0;32m--> 498\u001b[0;31m         \u001b[0mself\u001b[0m\u001b[0;34m.\u001b[0m\u001b[0mparameters_changed\u001b[0m\u001b[0;34m(\u001b[0m\u001b[0;34m)\u001b[0m\u001b[0;34m\u001b[0m\u001b[0m\n\u001b[0m\u001b[1;32m    499\u001b[0m     \u001b[0;32mdef\u001b[0m \u001b[0m_pass_through_notify_observers\u001b[0m\u001b[0;34m(\u001b[0m\u001b[0mself\u001b[0m\u001b[0;34m,\u001b[0m \u001b[0mme\u001b[0m\u001b[0;34m,\u001b[0m \u001b[0mwhich\u001b[0m\u001b[0;34m=\u001b[0m\u001b[0mNone\u001b[0m\u001b[0;34m)\u001b[0m\u001b[0;34m:\u001b[0m\u001b[0;34m\u001b[0m\u001b[0m\n\u001b[1;32m    500\u001b[0m         \u001b[0mself\u001b[0m\u001b[0;34m.\u001b[0m\u001b[0mnotify_observers\u001b[0m\u001b[0;34m(\u001b[0m\u001b[0mwhich\u001b[0m\u001b[0;34m=\u001b[0m\u001b[0mwhich\u001b[0m\u001b[0;34m)\u001b[0m\u001b[0;34m\u001b[0m\u001b[0m\n",
      "\u001b[0;32m/home/riddhisw/anaconda2/lib/python2.7/site-packages/GPy/core/gp.pyc\u001b[0m in \u001b[0;36mparameters_changed\u001b[0;34m(self)\u001b[0m\n\u001b[1;32m    191\u001b[0m             \u001b[0mthis\u001b[0m \u001b[0mmethod\u001b[0m \u001b[0myourself\u001b[0m\u001b[0;34m,\u001b[0m \u001b[0mthere\u001b[0m \u001b[0mmay\u001b[0m \u001b[0mbe\u001b[0m \u001b[0munexpected\u001b[0m \u001b[0mconsequences\u001b[0m\u001b[0;34m.\u001b[0m\u001b[0;34m\u001b[0m\u001b[0m\n\u001b[1;32m    192\u001b[0m         \"\"\"\n\u001b[0;32m--> 193\u001b[0;31m         \u001b[0mself\u001b[0m\u001b[0;34m.\u001b[0m\u001b[0mposterior\u001b[0m\u001b[0;34m,\u001b[0m \u001b[0mself\u001b[0m\u001b[0;34m.\u001b[0m\u001b[0m_log_marginal_likelihood\u001b[0m\u001b[0;34m,\u001b[0m \u001b[0mself\u001b[0m\u001b[0;34m.\u001b[0m\u001b[0mgrad_dict\u001b[0m \u001b[0;34m=\u001b[0m \u001b[0mself\u001b[0m\u001b[0;34m.\u001b[0m\u001b[0minference_method\u001b[0m\u001b[0;34m.\u001b[0m\u001b[0minference\u001b[0m\u001b[0;34m(\u001b[0m\u001b[0mself\u001b[0m\u001b[0;34m.\u001b[0m\u001b[0mkern\u001b[0m\u001b[0;34m,\u001b[0m \u001b[0mself\u001b[0m\u001b[0;34m.\u001b[0m\u001b[0mX\u001b[0m\u001b[0;34m,\u001b[0m \u001b[0mself\u001b[0m\u001b[0;34m.\u001b[0m\u001b[0mlikelihood\u001b[0m\u001b[0;34m,\u001b[0m \u001b[0mself\u001b[0m\u001b[0;34m.\u001b[0m\u001b[0mY_normalized\u001b[0m\u001b[0;34m,\u001b[0m \u001b[0mself\u001b[0m\u001b[0;34m.\u001b[0m\u001b[0mmean_function\u001b[0m\u001b[0;34m,\u001b[0m \u001b[0mself\u001b[0m\u001b[0;34m.\u001b[0m\u001b[0mY_metadata\u001b[0m\u001b[0;34m)\u001b[0m\u001b[0;34m\u001b[0m\u001b[0m\n\u001b[0m\u001b[1;32m    194\u001b[0m         \u001b[0mself\u001b[0m\u001b[0;34m.\u001b[0m\u001b[0mlikelihood\u001b[0m\u001b[0;34m.\u001b[0m\u001b[0mupdate_gradients\u001b[0m\u001b[0;34m(\u001b[0m\u001b[0mself\u001b[0m\u001b[0;34m.\u001b[0m\u001b[0mgrad_dict\u001b[0m\u001b[0;34m[\u001b[0m\u001b[0;34m'dL_dthetaL'\u001b[0m\u001b[0;34m]\u001b[0m\u001b[0;34m)\u001b[0m\u001b[0;34m\u001b[0m\u001b[0m\n\u001b[1;32m    195\u001b[0m         \u001b[0mself\u001b[0m\u001b[0;34m.\u001b[0m\u001b[0mkern\u001b[0m\u001b[0;34m.\u001b[0m\u001b[0mupdate_gradients_full\u001b[0m\u001b[0;34m(\u001b[0m\u001b[0mself\u001b[0m\u001b[0;34m.\u001b[0m\u001b[0mgrad_dict\u001b[0m\u001b[0;34m[\u001b[0m\u001b[0;34m'dL_dK'\u001b[0m\u001b[0;34m]\u001b[0m\u001b[0;34m,\u001b[0m \u001b[0mself\u001b[0m\u001b[0;34m.\u001b[0m\u001b[0mX\u001b[0m\u001b[0;34m)\u001b[0m\u001b[0;34m\u001b[0m\u001b[0m\n",
      "\u001b[0;32m/home/riddhisw/anaconda2/lib/python2.7/site-packages/GPy/inference/latent_function_inference/exact_gaussian_inference.pyc\u001b[0m in \u001b[0;36minference\u001b[0;34m(self, kern, X, likelihood, Y, mean_function, Y_metadata, K, variance, Z_tilde)\u001b[0m\n\u001b[1;32m     38\u001b[0m \u001b[0;34m\u001b[0m\u001b[0m\n\u001b[1;32m     39\u001b[0m         \u001b[0;32mif\u001b[0m \u001b[0mK\u001b[0m \u001b[0;32mis\u001b[0m \u001b[0mNone\u001b[0m\u001b[0;34m:\u001b[0m\u001b[0;34m\u001b[0m\u001b[0m\n\u001b[0;32m---> 40\u001b[0;31m             \u001b[0mK\u001b[0m \u001b[0;34m=\u001b[0m \u001b[0mkern\u001b[0m\u001b[0;34m.\u001b[0m\u001b[0mK\u001b[0m\u001b[0;34m(\u001b[0m\u001b[0mX\u001b[0m\u001b[0;34m)\u001b[0m\u001b[0;34m\u001b[0m\u001b[0m\n\u001b[0m\u001b[1;32m     41\u001b[0m \u001b[0;34m\u001b[0m\u001b[0m\n\u001b[1;32m     42\u001b[0m         \u001b[0mKy\u001b[0m \u001b[0;34m=\u001b[0m \u001b[0mK\u001b[0m\u001b[0;34m.\u001b[0m\u001b[0mcopy\u001b[0m\u001b[0;34m(\u001b[0m\u001b[0;34m)\u001b[0m\u001b[0;34m\u001b[0m\u001b[0m\n",
      "\u001b[0;32m/home/riddhisw/anaconda2/lib/python2.7/site-packages/GPy/kern/src/kernel_slice_operations.pyc\u001b[0m in \u001b[0;36mwrap\u001b[0;34m(self, X, X2, *a, **kw)\u001b[0m\n\u001b[1;32m     84\u001b[0m     \u001b[0;32mdef\u001b[0m \u001b[0mwrap\u001b[0m\u001b[0;34m(\u001b[0m\u001b[0mself\u001b[0m\u001b[0;34m,\u001b[0m \u001b[0mX\u001b[0m\u001b[0;34m,\u001b[0m \u001b[0mX2\u001b[0m \u001b[0;34m=\u001b[0m \u001b[0mNone\u001b[0m\u001b[0;34m,\u001b[0m \u001b[0;34m*\u001b[0m\u001b[0ma\u001b[0m\u001b[0;34m,\u001b[0m \u001b[0;34m**\u001b[0m\u001b[0mkw\u001b[0m\u001b[0;34m)\u001b[0m\u001b[0;34m:\u001b[0m\u001b[0;34m\u001b[0m\u001b[0m\n\u001b[1;32m     85\u001b[0m         \u001b[0;32mwith\u001b[0m \u001b[0m_Slice_wrap\u001b[0m\u001b[0;34m(\u001b[0m\u001b[0mself\u001b[0m\u001b[0;34m,\u001b[0m \u001b[0mX\u001b[0m\u001b[0;34m,\u001b[0m \u001b[0mX2\u001b[0m\u001b[0;34m)\u001b[0m \u001b[0;32mas\u001b[0m \u001b[0ms\u001b[0m\u001b[0;34m:\u001b[0m\u001b[0;34m\u001b[0m\u001b[0m\n\u001b[0;32m---> 86\u001b[0;31m             \u001b[0mret\u001b[0m \u001b[0;34m=\u001b[0m \u001b[0mf\u001b[0m\u001b[0;34m(\u001b[0m\u001b[0mself\u001b[0m\u001b[0;34m,\u001b[0m \u001b[0ms\u001b[0m\u001b[0;34m.\u001b[0m\u001b[0mX\u001b[0m\u001b[0;34m,\u001b[0m \u001b[0ms\u001b[0m\u001b[0;34m.\u001b[0m\u001b[0mX2\u001b[0m\u001b[0;34m,\u001b[0m \u001b[0;34m*\u001b[0m\u001b[0ma\u001b[0m\u001b[0;34m,\u001b[0m \u001b[0;34m**\u001b[0m\u001b[0mkw\u001b[0m\u001b[0;34m)\u001b[0m\u001b[0;34m\u001b[0m\u001b[0m\n\u001b[0m\u001b[1;32m     87\u001b[0m         \u001b[0;32mreturn\u001b[0m \u001b[0mret\u001b[0m\u001b[0;34m\u001b[0m\u001b[0m\n\u001b[1;32m     88\u001b[0m     \u001b[0;32mreturn\u001b[0m \u001b[0mwrap\u001b[0m\u001b[0;34m\u001b[0m\u001b[0m\n",
      "\u001b[0;32m/home/riddhisw/anaconda2/lib/python2.7/site-packages/GPy/kern/src/standard_periodic.pyc\u001b[0m in \u001b[0;36mK\u001b[0;34m(self, X, X2)\u001b[0m\n\u001b[1;32m    111\u001b[0m \u001b[0;34m\u001b[0m\u001b[0m\n\u001b[1;32m    112\u001b[0m         \u001b[0mbase\u001b[0m \u001b[0;34m=\u001b[0m \u001b[0mnp\u001b[0m\u001b[0;34m.\u001b[0m\u001b[0mpi\u001b[0m \u001b[0;34m*\u001b[0m \u001b[0;34m(\u001b[0m\u001b[0mX\u001b[0m\u001b[0;34m[\u001b[0m\u001b[0;34m:\u001b[0m\u001b[0;34m,\u001b[0m \u001b[0mNone\u001b[0m\u001b[0;34m,\u001b[0m \u001b[0;34m:\u001b[0m\u001b[0;34m]\u001b[0m \u001b[0;34m-\u001b[0m \u001b[0mX2\u001b[0m\u001b[0;34m[\u001b[0m\u001b[0mNone\u001b[0m\u001b[0;34m,\u001b[0m \u001b[0;34m:\u001b[0m\u001b[0;34m,\u001b[0m \u001b[0;34m:\u001b[0m\u001b[0;34m]\u001b[0m\u001b[0;34m)\u001b[0m \u001b[0;34m/\u001b[0m \u001b[0mself\u001b[0m\u001b[0;34m.\u001b[0m\u001b[0mperiod\u001b[0m\u001b[0;34m\u001b[0m\u001b[0m\n\u001b[0;32m--> 113\u001b[0;31m         \u001b[0mexp_dist\u001b[0m \u001b[0;34m=\u001b[0m \u001b[0mnp\u001b[0m\u001b[0;34m.\u001b[0m\u001b[0mexp\u001b[0m\u001b[0;34m(\u001b[0m \u001b[0;34m-\u001b[0m\u001b[0;36m0.5\u001b[0m\u001b[0;34m*\u001b[0m \u001b[0mnp\u001b[0m\u001b[0;34m.\u001b[0m\u001b[0msum\u001b[0m\u001b[0;34m(\u001b[0m \u001b[0mnp\u001b[0m\u001b[0;34m.\u001b[0m\u001b[0msquare\u001b[0m\u001b[0;34m(\u001b[0m  \u001b[0mnp\u001b[0m\u001b[0;34m.\u001b[0m\u001b[0msin\u001b[0m\u001b[0;34m(\u001b[0m \u001b[0mbase\u001b[0m \u001b[0;34m)\u001b[0m \u001b[0;34m/\u001b[0m \u001b[0mself\u001b[0m\u001b[0;34m.\u001b[0m\u001b[0mlengthscale\u001b[0m \u001b[0;34m)\u001b[0m\u001b[0;34m,\u001b[0m \u001b[0maxis\u001b[0m \u001b[0;34m=\u001b[0m \u001b[0;34m-\u001b[0m\u001b[0;36m1\u001b[0m \u001b[0;34m)\u001b[0m \u001b[0;34m)\u001b[0m\u001b[0;34m\u001b[0m\u001b[0m\n\u001b[0m\u001b[1;32m    114\u001b[0m \u001b[0;34m\u001b[0m\u001b[0m\n\u001b[1;32m    115\u001b[0m         \u001b[0;32mreturn\u001b[0m \u001b[0mself\u001b[0m\u001b[0;34m.\u001b[0m\u001b[0mvariance\u001b[0m \u001b[0;34m*\u001b[0m \u001b[0mexp_dist\u001b[0m\u001b[0;34m\u001b[0m\u001b[0m\n",
      "\u001b[0;31mKeyboardInterrupt\u001b[0m: "
     ]
    }
   ],
   "source": [
    "for idx_run in xrange(total_runs): \n",
    "\n",
    "    X, Y, TestX, truth, msmts = get_data(dataobject, points=2000, randomize='y')\n",
    "  \n",
    "    for idx_per in xrange(len(periodicities)):        \n",
    "        \n",
    "        # Reset\n",
    "        kernel_per=0\n",
    "        gauss=0\n",
    "        exact=0\n",
    "        m1=0\n",
    "\n",
    "        \n",
    "        # Built model\n",
    "        kernel_per = GPy.kern.StdPeriodic(1, period=period_0, variance=sigma_0, \n",
    "                                          lengthscale=length_scale_0)\n",
    "        gauss = GPy.likelihoods.Gaussian(variance=R_0)\n",
    "        exact = GPy.inference.latent_function_inference.ExactGaussianInference()\n",
    "        m1 = GPy.core.GP(X=X, Y=Y, kernel=kernel_per, likelihood=gauss, inference_method=exact)\n",
    "\n",
    "        \n",
    "        # Add constraints        \n",
    "        if idx_per != len(periodicities)-1: # last condition\n",
    "            print(\"Peridocity is constrained...\")\n",
    "            m1.std_periodic.period.constrain_bounded(periodicities[idx_per][0], periodicities[idx_per][1])\n",
    "            \n",
    "\n",
    "        print(\"Optimise GPRP for:\", idx_per, idx_run)\n",
    "        print(m1)\n",
    "        \n",
    "        try:\n",
    "            m1.optimize(optimizer=None, messages=False)\n",
    "            opt_list[idx_per, idx_run, :] = [m1.std_periodic.period[0], m1.std_periodic.lengthscale[0], m1.std_periodic.variance[0], gauss.variance[0]]\n",
    "            pred_list[idx_per, idx_run, :] = m1.predict(TestX)[0].flatten()\n",
    "            print(\"Optimisation complete!\")\n",
    "            print(m1)\n",
    "\n",
    "        except:\n",
    "            opt_list[idx_per, idx_run, :] = np.zeros(4)\n",
    "            pred_list[idx_per, idx_run, :] = np.zeros(int(TestX.shape[0]))\n",
    "            failed_runs_list[idx_per, idx_run] = idx_run\n",
    "            print(\"Unexpected error:\", sys.exc_info()[0])\n",
    "            print(\"Failed run\", idx_run)\n",
    "\n",
    "        truth_list[idx_per, idx_run, :] = truth[int(TestX[0]):]\n",
    "        \n",
    "        np.savez(figdata+figname2,\n",
    "                 truth_list=truth_list, \n",
    "                 pred_list=pred_list,\n",
    "                 opt_list=opt_list, \n",
    "                 failed_runs_list=failed_runs_list)\n"
   ]
  },
  {
   "cell_type": "code",
   "execution_count": null,
   "metadata": {
    "collapsed": false
   },
   "outputs": [],
   "source": [
    "forecastng_errors = np.zeros(( len(periodicities), total_runs, n_predict ))\n",
    "bayes_pred_risk = np.zeros(( len(periodicities), n_predict ))\n",
    "\n",
    "plt.figure()\n",
    "\n",
    "for idx_per in xrange(len(periodicities)):\n",
    "    \n",
    "    remove_runs = failed_runs_list[idx_per][(failed_runs_list[idx_per]>0)] \n",
    "    print(\"For periodicity index, \", idx_per, \", total no. of failed runs is:\", remove_runs.shape[0])\n",
    "    \n",
    "    for case in xrange(total_runs):\n",
    "        \n",
    "        forecastng_errors[idx_per, case, :] = sqr_err(pred_list[idx_per, case, n_testbefore:], \n",
    "                                                      truth_list[idx_per, case, n_testbefore:])\n",
    "        \n",
    "    prd_zero = np.mean(np.delete(truth_list[idx_per]**2, remove_runs, axis=0), axis=0)[n_testbefore:]\n",
    "    bayes_pred_risk[idx_per, :] = np.mean(np.delete(forecastng_errors[idx_per, :, :], remove_runs, axis=0), axis=0) / prd_zero\n",
    "    \n",
    "    plt.plot(np.arange(n_predict), bayes_pred_risk[idx_per],'--',  label=str(periodicities[idx_per]))\n",
    "    \n",
    "plt.yscale('log')\n",
    "plt.xscale('log')\n",
    "plt.legend(loc=1)\n",
    "plt.show()"
   ]
  }
 ],
 "metadata": {
  "kernelspec": {
   "display_name": "Python 2",
   "language": "python",
   "name": "python2"
  },
  "language_info": {
   "codemirror_mode": {
    "name": "ipython",
    "version": 2
   },
   "file_extension": ".py",
   "mimetype": "text/x-python",
   "name": "python",
   "nbconvert_exporter": "python",
   "pygments_lexer": "ipython2",
   "version": "2.7.13"
  }
 },
 "nbformat": 4,
 "nbformat_minor": 2
}
