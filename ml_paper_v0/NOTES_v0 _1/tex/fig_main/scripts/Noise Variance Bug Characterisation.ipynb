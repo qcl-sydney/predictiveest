{
 "cells": [
  {
   "cell_type": "markdown",
   "metadata": {},
   "source": [
    "We report the true applied noise measurement strength for the test cases in this paper"
   ]
  },
  {
   "cell_type": "code",
   "execution_count": 4,
   "metadata": {
    "collapsed": true
   },
   "outputs": [],
   "source": [
    "import sys\n",
    "sys.path.append('../../../../../')\n",
    "from data_tools.load_raw_cluster_data import LoadExperiment as le\n",
    "ver=0\n",
    "datapath = '../../../../DATA_v'+str(ver)+'_/' #v'+str(ver)+'/DATA_v'+str(ver)+'/'"
   ]
  },
  {
   "cell_type": "code",
   "execution_count": 10,
   "metadata": {
    "collapsed": false,
    "scrolled": false
   },
   "outputs": [
    {
     "name": "stdout",
     "output_type": "stream",
     "text": [
      "\n",
      "\n",
      "('Test case', 24, 'Variation', 1)\n",
      "LKFFB: Data Loaded? Yes\n",
      "The parameter space sampled was...10^X, X= \n",
      "[-8 -7 -6 -5 -4 -3 -2 -1  0  1  2]\n",
      "The true applied measurement noise was...\n",
      "0.0872235106827\n",
      "\n",
      "\n",
      "('Test case', 24, 'Variation', 2)\n",
      "LKFFB: Data Loaded? Yes\n",
      "The parameter space sampled was...10^X, X= \n",
      "[-8 -7 -6 -5 -4 -3 -2 -1  0  1  2]\n",
      "The true applied measurement noise was...\n",
      "0.173470671159\n",
      "\n",
      "\n",
      "('Test case', 24, 'Variation', 3)\n",
      "LKFFB: Data Loaded? Yes\n",
      "The parameter space sampled was...10^X, X= \n",
      "[-8 -7 -6 -5 -4 -3 -2 -1  0  1  2]\n",
      "The true applied measurement noise was...\n",
      "0.263055528044\n",
      "\n",
      "\n",
      "('Test case', 24, 'Variation', 4)\n",
      "LKFFB: Data Loaded? Yes\n",
      "The parameter space sampled was...10^X, X= \n",
      "[-8 -7 -6 -5 -4 -3 -2 -1  0  1  2]\n",
      "The true applied measurement noise was...\n",
      "0.35326529902\n",
      "\n",
      "\n",
      "('Test case', 24, 'Variation', 7)\n",
      "LKFFB: Data Loaded? Yes\n",
      "The parameter space sampled was...10^X, X= \n",
      "[-8 -7 -6 -5 -4 -3 -2 -1  0  1  2]\n",
      "The true applied measurement noise was...\n",
      "0.878064938848\n",
      "\n",
      "\n",
      "('Test case', 15, 'Variation', 12)\n",
      "LKFFB: Data Loaded? Yes\n",
      "The parameter space sampled was...10^X, X= \n",
      "[-8 -7 -6 -5 -4 -3 -2 -1  0  1  2]\n",
      "The true applied measurement noise was...\n",
      "0.36410060863\n",
      "\n",
      "\n",
      "('Test case', 23, 'Variation', 11)\n",
      "LKFFB: Data Loaded? Yes\n",
      "The parameter space sampled was...10^X, X= \n",
      "[-8 -7 -6 -5 -4 -3 -2 -1  0  1  2]\n",
      "The true applied measurement noise was...\n",
      "0.359341301832\n",
      "\n",
      "\n",
      "('Test case', 21, 'Variation', 5)\n",
      "LKFFB: Data Loaded? Yes\n",
      "The parameter space sampled was...10^X, X= \n",
      "[-8 -7 -6 -5 -4 -3 -2 -1  0  1  2]\n",
      "The true applied measurement noise was...\n",
      "587.103102815\n",
      "AFFECTED BY THE BUG\n",
      "\n",
      "\n",
      "\n",
      "\n",
      "('Test case', 22, 'Variation', 3)\n",
      "LKFFB: Data Loaded? Yes\n",
      "The parameter space sampled was...10^X, X= \n",
      "[-8 -7 -6 -5 -4 -3 -2 -1  0  1  2]\n",
      "The true applied measurement noise was...\n",
      "1026.34283091\n",
      "AFFECTED BY THE BUG\n",
      "\n",
      "\n",
      "\n",
      "\n",
      "('Test case', 27, 'Variation', 5)\n",
      "LKFFB: Data Loaded? Yes\n",
      "The parameter space sampled was...10^X, X= \n",
      "[-8 -7 -6 -5 -4 -3 -2 -1  0  1  2]\n",
      "The true applied measurement noise was...\n",
      "34.7774541624\n",
      "\n",
      "\n",
      "('Test case', 19, 'Variation', 5)\n",
      "LKFFB: Data Loaded? Yes\n",
      "The parameter space sampled was...10^X, X= \n",
      "[-8 -7 -6 -5 -4 -3 -2 -1  0  1  2]\n",
      "The true applied measurement noise was...\n",
      "59817.1815089\n",
      "AFFECTED BY THE BUG\n",
      "\n",
      "\n",
      "\n",
      "\n",
      "('Test case', 19, 'Variation', 9)\n",
      "LKFFB: Data Loaded? Yes\n",
      "The parameter space sampled was...10^X, X= \n",
      "[-8 -7 -6 -5 -4 -3 -2 -1  0  1  2]\n",
      "The true applied measurement noise was...\n",
      "5.76445324942\n",
      "\n",
      "\n",
      "('Test case', 19, 'Variation', 1)\n",
      "LKFFB: Data Loaded? Yes\n",
      "The parameter space sampled was...10^X, X= \n",
      "[-8 -7 -6 -5 -4 -3 -2 -1  0  1  2]\n",
      "The true applied measurement noise was...\n",
      "679.103360022\n",
      "AFFECTED BY THE BUG\n",
      "\n",
      "\n",
      "\n",
      "\n",
      "('Test case', 19, 'Variation', 5)\n",
      "LKFFB: Data Loaded? Yes\n",
      "The parameter space sampled was...10^X, X= \n",
      "[-8 -7 -6 -5 -4 -3 -2 -1  0  1  2]\n",
      "The true applied measurement noise was...\n",
      "59817.1815089\n",
      "AFFECTED BY THE BUG\n",
      "\n",
      "\n",
      "\n",
      "\n",
      "('Test case', 19, 'Variation', 8)\n",
      "LKFFB: Data Loaded? Yes\n",
      "The parameter space sampled was...10^X, X= \n",
      "[-8 -7 -6 -5 -4 -3 -2 -1  0  1  2]\n",
      "The true applied measurement noise was...\n",
      "433861.460057\n",
      "AFFECTED BY THE BUG\n",
      "\n",
      "\n"
     ]
    }
   ],
   "source": [
    "test_case = [24, 24, 24, 24, 24] + [15, 23, 21, 22] + [27, 19] +[19, 19, 19, 19]\n",
    "variation = [ 1, 2, 3, 4, 7] + [12, 11, 5, 3]+ [5, 5]+ [9, 1, 5, 8]\n",
    "\n",
    "\n",
    "for idx_case in xrange(len(variation)):\n",
    "    print\n",
    "    print\n",
    "    print(\"Test case\",test_case[idx_case], \"Variation\",variation[idx_case])\n",
    "    dataobject = le(test_case[idx_case], variation[idx_case], \n",
    "                skip = 1,\n",
    "                GPRP_load='No', GPRP_path = './',\n",
    "                LKFFB_load = 'Yes', LKFFB_path = datapath,\n",
    "                AKF_load='No', AKF_path = './',\n",
    "                LSF_load = 'No', LSF_path = './')\n",
    "    \n",
    "    print(\"The parameter space sampled was...10^X, X= \")\n",
    "    print dataobject.LKFFB_spacesize\n",
    "    print(\"The true applied measurement noise was...\")\n",
    "    print dataobject.LKFFB_msmt_noise_variance**2\n",
    "    if dataobject.LKFFB_msmt_noise_variance**2 > 100.0:\n",
    "        print(\"AFFECTED BY THE BUG\")\n",
    "        print\n",
    "        print"
   ]
  },
  {
   "cell_type": "code",
   "execution_count": 3,
   "metadata": {
    "collapsed": false
   },
   "outputs": [
    {
     "name": "stdout",
     "output_type": "stream",
     "text": [
      "[24, 24, 24, 24, 24, 15, 23, 21, 22, 27, 19]\n",
      "[1, 2, 3, 4, 7, 12, 11, 5, 3, 5, 5]\n"
     ]
    }
   ],
   "source": [
    "print test_case\n",
    "print variation"
   ]
  },
  {
   "cell_type": "code",
   "execution_count": null,
   "metadata": {
    "collapsed": true
   },
   "outputs": [],
   "source": []
  }
 ],
 "metadata": {
  "kernelspec": {
   "display_name": "Python 2",
   "language": "python",
   "name": "python2"
  },
  "language_info": {
   "codemirror_mode": {
    "name": "ipython",
    "version": 2
   },
   "file_extension": ".py",
   "mimetype": "text/x-python",
   "name": "python",
   "nbconvert_exporter": "python",
   "pygments_lexer": "ipython2",
   "version": "2.7.13"
  }
 },
 "nbformat": 4,
 "nbformat_minor": 2
}
