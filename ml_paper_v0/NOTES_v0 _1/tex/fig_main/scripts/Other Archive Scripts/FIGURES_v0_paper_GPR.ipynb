{
 "cells": [
  {
   "cell_type": "markdown",
   "metadata": {},
   "source": [
    "First, I import GPy, a Python library for GPR implementations. I also get a function to help me make training data based on test case and variation numbers"
   ]
  },
  {
   "cell_type": "code",
   "execution_count": 1,
   "metadata": {
    "collapsed": false
   },
   "outputs": [
    {
     "name": "stderr",
     "output_type": "stream",
     "text": [
      "/home/riddhisw/anaconda2/lib/python2.7/site-packages/matplotlib/lines.py:1206: FutureWarning: comparison to `None` will result in an elementwise object comparison in the future.\n",
      "  if self._markerfacecolor != fc:\n",
      "/home/riddhisw/anaconda2/lib/python2.7/site-packages/matplotlib/lines.py:1182: FutureWarning: comparison to `None` will result in an elementwise object comparison in the future.\n",
      "  if self._markeredgecolor != ec:\n"
     ]
    }
   ],
   "source": [
    "import sys\n",
    "import matplotlib\n",
    "sys.path.append('../../../../../')\n",
    "from plot_tools.fig_preamble import * # imports numpy, matplotlib, Py2PDF, plot_helper_funcs, plot_figstyle_sheet\n",
    "import GPy\n",
    "\n",
    "\n",
    "from gpr.common import get_data, simple_unlearnable_sine\n",
    "from data_tools.load_raw_cluster_data import LoadExperiment as le\n",
    "from plot_tools.plot_figstyle_sheet import color_pallete, predmarker, COLOURDICT"
   ]
  },
  {
   "cell_type": "code",
   "execution_count": 2,
   "metadata": {
    "collapsed": true
   },
   "outputs": [],
   "source": [
    "ver=0\n",
    "datapath = '../../../../DATA_v'+str(ver)+'_/' #v'+str(ver)+'/DATA_v'+str(ver)+'/'\n",
    "savefig = '../svg/poster_2017_07_08_'\n",
    "savefig2 = '../svg/paper_v0'\n",
    "figname = 'five'\n",
    "figname2 = 'GPR'"
   ]
  },
  {
   "cell_type": "markdown",
   "metadata": {},
   "source": [
    "We link the periodicity and the lengthscale to the longest and shortest timescales of the system during training.\n",
    "\n",
    "Namely:\n",
    "    - p = N_train\n",
    "    - l = 3 * Delta T \n",
    "    \n",
    "We note that if the optimal periodicity >> N_train or N, the algorithm tends to pick l <<< Delta T, and a failure results."
   ]
  },
  {
   "cell_type": "code",
   "execution_count": 3,
   "metadata": {
    "collapsed": false
   },
   "outputs": [],
   "source": [
    "# Set parameters\n",
    "n_train = 2000\n",
    "Delta_T = 0.001\n",
    "n_predict = 150\n",
    "n_testbefore=50"
   ]
  },
  {
   "cell_type": "code",
   "execution_count": 4,
   "metadata": {
    "collapsed": true
   },
   "outputs": [],
   "source": [
    "# Set initial starting values for L-BFGS-B OPtimiser in GPy\n",
    "sigma_0 = 1.0\n",
    "R_0 =  1.0"
   ]
  },
  {
   "cell_type": "code",
   "execution_count": 5,
   "metadata": {
    "collapsed": true
   },
   "outputs": [],
   "source": [
    "# Set length scale and periodicity initial values for L-BFGS-B OPtimiser in GPy\n",
    "length_scale_0 = 3.0*Delta_T\n",
    "period_0 = 2000.0"
   ]
  },
  {
   "cell_type": "code",
   "execution_count": 6,
   "metadata": {
    "collapsed": true
   },
   "outputs": [],
   "source": [
    "# Implement artificial bounds for periodicity\n",
    "C_min = 2070\n",
    "C_max = 2071\n",
    "\n",
    "offset = [0, n_train - C_min]"
   ]
  },
  {
   "cell_type": "code",
   "execution_count": 7,
   "metadata": {
    "collapsed": false
   },
   "outputs": [],
   "source": [
    "CASES_min = [ None, C_min]\n",
    "CASES_max = [ None, C_max]\n",
    "CONSTRAINT = [ 0, 70]\n",
    "F_CASE = [9.0, 10.0] # The second frequency will corresspond to f0 = 3 1/3 (not perfectly learnable)\n",
    "FCOLOR = [color_pallete[20], color_pallete[20]]\n",
    "FSTY = ['-', '--']\n",
    "FLABELS = ['Perfect Learning', 'Imperfect Learning $p=n_T \\quad p > n_T$']"
   ]
  },
  {
   "cell_type": "code",
   "execution_count": 25,
   "metadata": {
    "collapsed": false
   },
   "outputs": [
    {
     "name": "stdout",
     "output_type": "stream",
     "text": [
      "Fourier resolution at training 0.5\n",
      "True Frequency is 3.0\n",
      "('Periodicity is: ', \u001b[1mgp.std_periodic.period\u001b[0;0m:\n",
      "Param([ 2000.]))\n",
      "Fourier resolution at training 0.5\n",
      "True Frequency is 3.0\n",
      "Warning: changing parameters to satisfy constraints\n",
      "WARNING: reconstraining parameters gp.std_periodic.period\n",
      "('Periodicity is: ', \u001b[1mgp.std_periodic.period\u001b[0;0m:\n",
      "Param([ 2070.5]))\n",
      "Fourier resolution at training 0.5\n",
      "True Frequency is 3.33333333333\n",
      "('Periodicity is: ', \u001b[1mgp.std_periodic.period\u001b[0;0m:\n",
      "Param([ 2000.]))\n",
      "Fourier resolution at training 0.5\n",
      "True Frequency is 3.33333333333\n",
      "Warning: changing parameters to satisfy constraints\n",
      "WARNING: reconstraining parameters gp.std_periodic.period\n",
      "('Periodicity is: ', \u001b[1mgp.std_periodic.period\u001b[0;0m:\n",
      "Param([ 2070.5]))\n"
     ]
    },
    {
     "data": {
      "image/png": "[encoded data removed]",
      "text/plain": [
       "<matplotlib.figure.Figure at 0x7fe5b05121d0>"
      ]
     },
     "metadata": {},
     "output_type": "display_data"
    }
   ],
   "source": [
    "gs = gridspec.GridSpec(2, 2,\n",
    "                       left=0.22, right=0.98, \n",
    "                       top=0.92, bottom=0.17, \n",
    "                       wspace=0.1, hspace=0.1)\n",
    "\n",
    "fig2 = plt.figure(figsize=(cm2inch(7.8),cm2inch(9)))\n",
    "\n",
    "for idx_freq in xrange(2): # loops over perfect and imperfect learning\n",
    "    \n",
    "    ax=0 # Depicts end of Measurement Record + Prediction Horizon\n",
    "#     ax_begin=0 # Depicts training Data at Begining of Measurement Record\n",
    "    \n",
    "    for idx_cases in xrange(2): # loops over constraints on periodicity\n",
    "\n",
    "        ax = fig2.add_subplot(gs[idx_cases, idx_freq])\n",
    "        \n",
    "#         ax_begin = fig.add_subplot(gs[idx_cases, 1 + idx_freq*2]\n",
    "#         if idx_cases==0:\n",
    "#                 ax.text(.1,1.3,FLABELS[idx_freq],horizontalalignment='left',transform=ax.transAxes, fontsize=Fsize)\n",
    "\n",
    "            \n",
    "        pred_list=[]\n",
    "\n",
    "        # Get data\n",
    "        X, Y, TestX, truth, msmts = simple_unlearnable_sine(nt=n_train, delta_t = Delta_T, f0 = F_CASE[idx_freq], \n",
    "                                                            testpts=n_predict, randomise='y')\n",
    "\n",
    "        # set model\n",
    "        kernel_per = GPy.kern.StdPeriodic(1, period=period_0, variance=sigma_0, \n",
    "                                          lengthscale=length_scale_0)\n",
    "        gauss = GPy.likelihoods.Gaussian(variance=R_0)\n",
    "        exact = GPy.inference.latent_function_inference.ExactGaussianInference()\n",
    "        m1 = GPy.core.GP(X=X, Y=Y, kernel=kernel_per, likelihood=gauss, inference_method=exact)\n",
    "\n",
    "        # constrain periodicty if required\n",
    "        if idx_cases !=0:\n",
    "            m1.std_periodic.period.constrain_bounded(CASES_min[idx_cases], CASES_max[idx_cases])\n",
    "\n",
    "        print(\"Periodicity is: \", m1.std_periodic.period)\n",
    "\n",
    "        # take predictions\n",
    "        pred_list.append(m1.predict(TestX)[0].flatten())\n",
    "        \n",
    "        # plot the truth n > 0\n",
    "        ax.plot(range(-n_testbefore, n_predict, 1), truth[n_train - n_testbefore : ], \n",
    "            '-', color=color_pallete[36], #markersize=1, \n",
    "            label=r'$ \\{f_n \\}$' )\n",
    "        \n",
    "        # plot predictions n > 0\n",
    "        ax.plot(range(-n_testbefore, n_predict, 5), pred_list[0][::5], # thin out by plotting every 5th msmt\n",
    "                'v', markerfacecolor='None', markersize=4, markeredgecolor= FCOLOR[idx_cases], markeredgewidth=0.5,\n",
    "                label=r'$\\mu_{f^*|y}$', alpha=1.)\n",
    "        # plot the truth n = 0\n",
    "        ax.plot(range(-offset[idx_cases], n_predict, 1), truth[0:n_predict + offset[idx_cases]], \n",
    "                      ':', color=color_pallete[24], #markersize=1, \n",
    "                      label=r'$ \\{f_{n= -N_T,...} \\} $' ) # offset is annoyingly a negative value.\n",
    "        \n",
    "        ax.axvline(x=CONSTRAINT[idx_cases], ls=':', lw=2, \n",
    "                   color=color_pallete[36])\n",
    "        ax.text(CONSTRAINT[idx_cases] + 2, -0.8, r'$\\kappa = $%s'%(np.round(CONSTRAINT[idx_cases])))\n",
    "\n",
    "        if idx_freq==0 and idx_cases==1:\n",
    "            ax.set(xlabel='Time Steps [num] ' \"\\n\" r'$\\kappa \\equiv \\frac{2 \\pi}{\\omega_0} - N_T$')\n",
    "\n",
    "        if idx_cases==0 and idx_freq==0:\n",
    "            ax.set(ylabel=r'Predictions [$\\hat{f}_n$]')\n",
    "            \n",
    "\n",
    "        \n",
    "        # Formatting\n",
    "        if idx_cases ==0: # top row\n",
    "            ax.set(xticklabels=[])\n",
    "        if idx_freq ==1: # second column\n",
    "            ax.set(yticklabels=[])\n",
    "        ax.set_ylim([-1.2, 1.2])\n",
    "        ax.tick_params(direction='in', which='both')\n",
    "        ax.yaxis.set_major_locator(ticker.LinearLocator(numticks=3))\n",
    "        #ax.xaxis.set_major_locator(ticker.LinearLocator(numticks=3))\n",
    "        ax = set_font_sizes(ax, fsize, Fsize)\n",
    "        if idx_freq==0 and idx_cases==0:\n",
    "            ax.legend(loc=3,  fontsize=fsize, frameon=False, bbox_to_anchor=(0., 1.02, 2., .102), \n",
    "                     ncol=3, mode=\"expand\", borderaxespad=0.)\n",
    "            #ax.legend(loc=0, frameon=False)\n",
    "\n",
    "    \n",
    "fig2.savefig(savefig2+figname2+'.svg', format='svg', dpi=my_dpi)\n",
    "plt.show()\n",
    "plt.close()"
   ]
  },
  {
   "cell_type": "code",
   "execution_count": 9,
   "metadata": {
    "collapsed": false,
    "scrolled": false
   },
   "outputs": [
    {
     "name": "stdout",
     "output_type": "stream",
     "text": [
      "Fourier resolution at training 0.5\n",
      "True Frequency is 3.0\n",
      "('Periodicity is: ', \u001b[1mgp.std_periodic.period\u001b[0;0m:\n",
      "Param([ 2000.]))\n",
      "Fourier resolution at training 0.5\n",
      "True Frequency is 3.0\n",
      "Warning: changing parameters to satisfy constraints\n",
      "WARNING: reconstraining parameters gp.std_periodic.period\n",
      "('Periodicity is: ', \u001b[1mgp.std_periodic.period\u001b[0;0m:\n",
      "Param([ 2070.5]))\n",
      "Fourier resolution at training 0.5\n",
      "True Frequency is 3.33333333333\n",
      "('Periodicity is: ', \u001b[1mgp.std_periodic.period\u001b[0;0m:\n",
      "Param([ 2000.]))\n",
      "Fourier resolution at training 0.5\n",
      "True Frequency is 3.33333333333\n",
      "Warning: changing parameters to satisfy constraints\n",
      "WARNING: reconstraining parameters gp.std_periodic.period\n",
      "('Periodicity is: ', \u001b[1mgp.std_periodic.period\u001b[0;0m:\n",
      "Param([ 2070.5]))\n"
     ]
    },
    {
     "data": {
      "image/png": "[encoded data removed]",
      "text/plain": [
       "<matplotlib.figure.Figure at 0x7fe5b28b6f90>"
      ]
     },
     "metadata": {},
     "output_type": "display_data"
    }
   ],
   "source": [
    "# FIGURE: As presented in Pracysys Poster\n",
    "\n",
    "\n",
    "gs = gridspec.GridSpec(2, 4,\n",
    "                       left=0.07, right=0.97, \n",
    "                       top=0.8, bottom=0.1, \n",
    "                       wspace=0.1, hspace=0.1)\n",
    "\n",
    "fig = plt.figure(figsize=(cm2inch(20),cm2inch(8)))\n",
    "\n",
    "for idx_freq in xrange(2): # loops over perfect and imperfect learning\n",
    "    \n",
    "    ax=0 # Depicts end of Measurement Record + Prediction Horizon\n",
    "    ax_begin=0 # Depicts training Data at Begining of Measurement Record\n",
    "    \n",
    "    for idx_cases in xrange(2): # loops over constraints on periodicity\n",
    "\n",
    "        ax = fig.add_subplot(gs[idx_cases, 0 + idx_freq*2])\n",
    "        ax_begin = fig.add_subplot(gs[idx_cases, 1 + idx_freq*2])\n",
    "        \n",
    "        if idx_cases==0:\n",
    "                ax.text(.1,1.3,FLABELS[idx_freq],horizontalalignment='left',transform=ax.transAxes, fontsize=Fsize)\n",
    "\n",
    "            \n",
    "        pred_list=[]\n",
    "\n",
    "        # Get data\n",
    "        X, Y, TestX, truth, msmts = simple_unlearnable_sine(nt=n_train, delta_t = Delta_T, f0 = F_CASE[idx_freq], \n",
    "                                                            testpts=n_predict, randomise='y')\n",
    "\n",
    "        # set model\n",
    "        kernel_per = GPy.kern.StdPeriodic(1, period=period_0, variance=sigma_0, \n",
    "                                          lengthscale=length_scale_0)\n",
    "        gauss = GPy.likelihoods.Gaussian(variance=R_0)\n",
    "        exact = GPy.inference.latent_function_inference.ExactGaussianInference()\n",
    "        m1 = GPy.core.GP(X=X, Y=Y, kernel=kernel_per, likelihood=gauss, inference_method=exact)\n",
    "\n",
    "        # constrain periodicty if required\n",
    "        if idx_cases !=0:\n",
    "            m1.std_periodic.period.constrain_bounded(CASES_min[idx_cases], CASES_max[idx_cases])\n",
    "\n",
    "        print(\"Periodicity is: \", m1.std_periodic.period)\n",
    "\n",
    "        # take predictions\n",
    "        pred_list.append(m1.predict(TestX)[0].flatten())\n",
    "        \n",
    "        # plot the truth n > 0\n",
    "        ax.plot(range(-n_testbefore, n_predict, 1), truth[n_train - n_testbefore : ], \n",
    "            'o', color=color_pallete[36], markersize=1, \n",
    "            label=r'$\\beta_n, n>0$' )\n",
    "\n",
    "        # plot predictions n > 0\n",
    "        ax.plot(range(-n_testbefore, n_predict, 1), pred_list[0], \n",
    "                FSTY[idx_freq], lw=2., label=r'$\\hat{y}^*$', \n",
    "                 color=FCOLOR[idx_cases], alpha=1.)\n",
    "\n",
    "\n",
    "\n",
    "        # trace predictions against noise trace between -n_t and -n_T + n_P\n",
    "        # note that if we have constrained periodicity, then pattern will repeat earlier or later than \n",
    "        # when the actual noise trace began. Hence, we need a predetermined offset for plotting:\n",
    "\n",
    "        ax_begin.plot(range(-n_train + offset[idx_cases], -n_train + n_predict + offset[idx_cases], 1), \n",
    "                      pred_list[0][n_testbefore:], \n",
    "                      FSTY[idx_freq], lw=2., \n",
    "                      color=FCOLOR[idx_cases], alpha=1.)\n",
    "\n",
    "        # draw verticle lines where periodicty is constrained\n",
    "\n",
    "        ax.axvline(x=CONSTRAINT[idx_cases], ls=':', lw=2, \n",
    "                   color=color_pallete[36])\n",
    "        ax.text(CONSTRAINT[idx_cases] + 2, -0.8, r'$p - n_T = $%s'%(np.round(CONSTRAINT[idx_cases])))\n",
    "\n",
    "#         # shade the predictions region (n>0) that will be compared with the noise trace at the beginning\n",
    "#         ax.axvspan(CONSTRAINT[idx_cases], n_predict, \n",
    "#                    color=COLOURDICT['GPRP2'], alpha=0.1) \n",
    "\n",
    "        if idx_freq==0 and idx_cases==1:\n",
    "            ax.set(xlabel='Time Steps [num]')\n",
    "\n",
    "        if idx_cases==0 and idx_freq==0:\n",
    "            ax.set(ylabel=r'Predictions [$f_n$]')\n",
    "\n",
    "        # beta_n during -n_Train to -n_train + n_predict\n",
    "        ax_begin.plot(range(-n_train, -n_train + n_predict, 1), truth[0:n_predict], \n",
    "                      'o', color=color_pallete[24], markersize=1, \n",
    "                      label=r'$y_n, n<0$' )\n",
    "        ax_begin.set_xlim([-n_train, -n_train + n_predict])\n",
    "\n",
    "        for axl in [ax, ax_begin]:\n",
    "            if idx_cases ==0: # top row\n",
    "                axl.xaxis.tick_top()#xaxis.set_tick_params(labeltop='on')\n",
    "            elif idx_cases !=0:\n",
    "                axl.set(xticklabels=[])\n",
    "            if idx_freq ==1:\n",
    "                axl.set(yticklabels=[])\n",
    "            axl.set_ylim([-1.2, 1.2])\n",
    "            axl.tick_params(direction='in', which='both')\n",
    "            axl.yaxis.set_major_locator(ticker.LinearLocator(numticks=3))\n",
    "            #axl.xaxis.set_major_locator(ticker.LinearLocator(numticks=2))\n",
    "            axl = set_font_sizes(axl, fsize, Fsize)\n",
    "        if idx_freq==0 and idx_cases==1:\n",
    "            ax.legend(loc=2, frameon=False)\n",
    "        if idx_freq==1 and idx_cases==1:\n",
    "            ax_begin.legend(loc=3, frameon=False)\n",
    "            ax_begin.set(yticklabels=[])\n",
    "        if idx_freq==0:\n",
    "            ax_begin.set(yticklabels=[])\n",
    "\n",
    "    \n",
    "fig.savefig(savefig+figname+'.svg', format='svg', dpi=my_dpi)\n",
    "plt.show()\n",
    "plt.close()"
   ]
  },
  {
   "cell_type": "code",
   "execution_count": null,
   "metadata": {
    "collapsed": true
   },
   "outputs": [],
   "source": []
  }
 ],
 "metadata": {
  "kernelspec": {
   "display_name": "Python 2",
   "language": "python",
   "name": "python2"
  },
  "language_info": {
   "codemirror_mode": {
    "name": "ipython",
    "version": 2
   },
   "file_extension": ".py",
   "mimetype": "text/x-python",
   "name": "python",
   "nbconvert_exporter": "python",
   "pygments_lexer": "ipython2",
   "version": "2.7.13"
  }
 },
 "nbformat": 4,
 "nbformat_minor": 2
}
