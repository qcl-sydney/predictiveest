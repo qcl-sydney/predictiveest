{
 "cells": [
  {
   "cell_type": "code",
   "execution_count": 1,
   "metadata": {
    "collapsed": false
   },
   "outputs": [],
   "source": [
    "import numpy as np\n",
    "import matplotlib.pyplot as plt\n",
    "import matplotlib.gridspec as gss\n",
    "from scipy.signal import decimate\n",
    "from single_shot_filtering import one_shot_msmt, plot_stats, low_pass_filter, set_fft_zero\n",
    "\n",
    "import matplotlib.pyplot as plt\n",
    "from matplotlib.pylab import colorbar\n",
    "import matplotlib; import matplotlib.ticker as mtick\n",
    "matplotlib.rc('axes',edgecolor='gray')"
   ]
  },
  {
   "cell_type": "code",
   "execution_count": 2,
   "metadata": {
    "collapsed": false
   },
   "outputs": [],
   "source": [
    "gs = gridspec.GridSpec(nrows=2, ncols=1, top=0.99, bottom=0.1, left=0.2, right=0.99, wspace=0.4, hspace=0.5)\n",
    "fig = plt.figure(figsize=(2.0,3.0))"
   ]
  },
  {
   "cell_type": "markdown",
   "metadata": {},
   "source": [
    "Consider the total phase accumulated on a qubit due to its interacting with slowly varying noise: for a single value of detuning and a single wait time in a Ramsey experiment:"
   ]
  },
  {
   "cell_type": "code",
   "execution_count": 3,
   "metadata": {
    "collapsed": false
   },
   "outputs": [],
   "source": [
    "detuning_0 = 2.\n",
    "tau_0 = 10**-5"
   ]
  },
  {
   "cell_type": "code",
   "execution_count": 4,
   "metadata": {
    "collapsed": false
   },
   "outputs": [
    {
     "name": "stdout",
     "output_type": "stream",
     "text": [
      "0.002\n"
     ]
    }
   ],
   "source": [
    "tau_fixed = tau_0*200\n",
    "print tau_fixed"
   ]
  },
  {
   "cell_type": "markdown",
   "metadata": {},
   "source": [
    "Slice B"
   ]
  },
  {
   "cell_type": "code",
   "execution_count": 5,
   "metadata": {
    "collapsed": false
   },
   "outputs": [],
   "source": [
    "def truncate_phases(phase_):\n",
    "    for idx_phase in xrange(phase_.shape[0]):\n",
    "        if phase_[idx_phase] > np.pi:\n",
    "            break\n",
    "    return idx_phase"
   ]
  },
  {
   "cell_type": "code",
   "execution_count": 6,
   "metadata": {
    "collapsed": false
   },
   "outputs": [
    {
     "name": "stdout",
     "output_type": "stream",
     "text": [
      "126\n"
     ]
    }
   ],
   "source": [
    "k_chirp=0.00\n",
    "offset = 0.8*np.pi\n",
    "phase = tau_fixed*2.0*np.pi*detuning_0*(np.arange(0,200, 1) + k_chirp*np.arange(0,200, 1)**2) + offset\n",
    "idx_max = truncate_phases(phase-offset)\n",
    "P_sliceB = 0.5*np.cos(phase[:idx_max]) + 0.5\n",
    "single_shot_msmts_B = np.random.binomial(n=1, p=P_sliceB)\n",
    "\n",
    "tau_N_axis = tau_fixed*np.arange(idx_max)\n",
    "print idx_max"
   ]
  },
  {
   "cell_type": "code",
   "execution_count": 7,
   "metadata": {
    "collapsed": false
   },
   "outputs": [
    {
     "data": {
      "text/plain": [
       "0.25"
      ]
     },
     "execution_count": 7,
     "metadata": {},
     "output_type": "execute_result"
    }
   ],
   "source": [
    "tau_N_axis[-1]"
   ]
  },
  {
   "cell_type": "markdown",
   "metadata": {},
   "source": [
    "Roughly implement low pass filters:"
   ]
  },
  {
   "cell_type": "code",
   "execution_count": 8,
   "metadata": {
    "collapsed": false
   },
   "outputs": [
    {
     "name": "stdout",
     "output_type": "stream",
     "text": [
      "0\n",
      "1\n"
     ]
    },
    {
     "name": "stderr",
     "output_type": "stream",
     "text": [
      "/home/riddhisw/anaconda2/lib/python2.7/site-packages/scipy/signal/signaltools.py:3073: FutureWarning:  Note: Decimate's zero_phase keyword argument will default to True in a future release. Until then, decimate defaults to one-way filtering for backwards compatibility. Ideally, always set this argument explicitly.\n",
      "  \"explicitly.\", FutureWarning)\n"
     ]
    }
   ],
   "source": [
    "_theory = P_sliceB\n",
    "_msmts = single_shot_msmts_B\n",
    "_freq = tau_fixed\n",
    "_time_step = tau_fixed\n",
    "_time_axis = tau_N_axis / tau_fixed\n",
    "dec_factor = 4\n",
    "decimate_order = 8\n",
    "fsize=8\n",
    "labels = ['Single Shot', 'Decimated']\n",
    "\n",
    "\n",
    "signal_d = decimate(_msmts, dec_factor, decimate_order)\n",
    "data = [_msmts, signal_d]\n",
    "\n",
    "ax_3 = fig.add_subplot(gs[0, 0])\n",
    "ax_4 = fig.add_subplot(gs[1, 0])\n",
    "\n",
    "axes = [ax_3, ax_4]\n",
    "\n",
    "for idx_data in xrange(len(axes)):\n",
    "    \n",
    "    ax = axes[idx_data]\n",
    "    ax.set_ylim([-0.1,1.1])\n",
    "    #ax.set_xlim([0.,400])\n",
    "    ax.tick_params(labelsize=fsize, direction='in')\n",
    "    \n",
    "    \n",
    "    ax.plot(_time_axis, _theory, 'r--', lw=1, label='Applied')\n",
    "    print idx_data\n",
    "    \n",
    "    if idx_data < 1:\n",
    "        ax.plot(_time_axis, data[idx_data], 'o', label=labels[idx_data], c='black', alpha=0.2, markersize=3)\n",
    "    \n",
    "    if idx_data ==1:\n",
    "        _time_axis = dec_factor*_time_axis[0:data[idx_data].shape[0]]\n",
    "        ax.plot(_time_axis, data[idx_data], 'o', label=labels[idx_data], c='darkblue', alpha=0.8, markersize=3)\n",
    "    \n",
    "    #ax.ticklabel_format(style='sci', axis='both', scilimits=(0,0))\n",
    "    ax.margins(0.1)\n"
   ]
  },
  {
   "cell_type": "code",
   "execution_count": 9,
   "metadata": {
    "collapsed": false
   },
   "outputs": [
    {
     "data": {
      "text/plain": [
       "u'/home/riddhisw/Documents/2017/Scripts_Git/v0'"
      ]
     },
     "execution_count": 9,
     "metadata": {},
     "output_type": "execute_result"
    }
   ],
   "source": [
    "pwd"
   ]
  },
  {
   "cell_type": "code",
   "execution_count": 10,
   "metadata": {
    "collapsed": false
   },
   "outputs": [
    {
     "data": {
      "image/png": "[encoded data removed]",
      "text/plain": [
       "<matplotlib.figure.Figure at 0x7fecbb669650>"
      ]
     },
     "metadata": {},
     "output_type": "display_data"
    }
   ],
   "source": [
    "plt.savefig('FIGS_v0/slow_drift_v0_poster_v2_sliceB.svg', type='svg')\n",
    "plt.show()\n",
    "plt.close()"
   ]
  },
  {
   "cell_type": "code",
   "execution_count": null,
   "metadata": {
    "collapsed": true
   },
   "outputs": [],
   "source": []
  },
  {
   "cell_type": "code",
   "execution_count": null,
   "metadata": {
    "collapsed": true
   },
   "outputs": [],
   "source": []
  }
 ],
 "metadata": {
  "kernelspec": {
   "display_name": "Python 2",
   "language": "python",
   "name": "python2"
  },
  "language_info": {
   "codemirror_mode": {
    "name": "ipython",
    "version": 2
   },
   "file_extension": ".py",
   "mimetype": "text/x-python",
   "name": "python",
   "nbconvert_exporter": "python",
   "pygments_lexer": "ipython2",
   "version": "2.7.13"
  }
 },
 "nbformat": 4,
 "nbformat_minor": 2
}
