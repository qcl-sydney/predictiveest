{
 "cells": [
  {
   "cell_type": "code",
   "execution_count": 1,
   "metadata": {
    "collapsed": false
   },
   "outputs": [
    {
     "name": "stderr",
     "output_type": "stream",
     "text": [
      "/home/riddhisw/anaconda2/lib/python2.7/site-packages/matplotlib/lines.py:1206: FutureWarning: comparison to `None` will result in an elementwise object comparison in the future.\n",
      "  if self._markerfacecolor != fc:\n",
      "/home/riddhisw/anaconda2/lib/python2.7/site-packages/matplotlib/lines.py:1182: FutureWarning: comparison to `None` will result in an elementwise object comparison in the future.\n",
      "  if self._markeredgecolor != ec:\n"
     ]
    }
   ],
   "source": [
    "import sys \n",
    "sys.path.append('../../../../../')\n",
    "from plot_tools.fig_preamble import * # imports numpy, matplotlib, Py2PDF, plot_helper_funcs, plot_figstyle_sheet\n",
    "import GPy\n",
    "from analysis_tools.common import sqr_err\n",
    "from mpl_toolkits.axes_grid1.inset_locator import inset_axes"
   ]
  },
  {
   "cell_type": "code",
   "execution_count": 2,
   "metadata": {
    "collapsed": false
   },
   "outputs": [],
   "source": [
    "ver=0\n",
    "datapath = '../../../../DATA_v'+str(ver)+'_/' #v'+str(ver)+'/DATA_v'+str(ver)+'/'\n",
    "\n",
    "savefig2 = '../svg/paper_v0_'\n",
    "figname2 = 'GPR_BR_calc_2'\n",
    "\n",
    "dataforkappa0 = 'GPR_BR_calc'\n",
    "dataforkapparange= 'GPR_BR_calc_2'\n",
    "dataforkernels = 'GPR_BR_calc_RBF_RQ_MAT32_QPER_PER'\n",
    "\n",
    "# GPR_BR_calc covered the following periodicities:\n",
    "# periodicities = ((2000, 2001), (0, 10**3), (10**3, 10**4), (10**4, 10**5), (None, None))\n",
    "\n",
    "# GPR_BR_calc2 covered the following periodicities:\n",
    "# periodicities = ((0, 2*10**3), (2*10**3, 4*10**3), (4*10**3, 6*10**3), (6*10**3, 8*10**3), (8*10**3, 10**4), (10**4, 10**5), (None, None))\n"
   ]
  },
  {
   "cell_type": "code",
   "execution_count": 3,
   "metadata": {
    "collapsed": false,
    "scrolled": true
   },
   "outputs": [
    {
     "name": "stdout",
     "output_type": "stream",
     "text": [
      "truth_list\n",
      "Delta_T\n",
      "period_0\n",
      "failed_runs_list\n",
      "periodicities\n",
      "pred_list\n",
      "n_train\n",
      "sigma_0\n",
      "variation\n",
      "n_testbefore\n",
      "n_predict\n",
      "opt_list\n",
      "length_scale_0\n",
      "R_0\n",
      "total_runs\n",
      "test_case\n",
      "truth_list_f\n",
      "pred_list_f\n",
      "opt_list_f\n",
      "failed_runs_list_f\n",
      "truth_list_\n",
      "total_runs_\n",
      "failed_runs_list_\n",
      "Delta_T_\n",
      "pred_list_\n",
      "n_train_\n",
      "msmt_var_\n",
      "variation_\n",
      "n_testbefore_\n",
      "n_predict_\n",
      "kernel_name_\n",
      "test_case_\n"
     ]
    }
   ],
   "source": [
    "########################################################################\n",
    "# Periodic Kernel\n",
    "########################################################################\n",
    "data_object = np.load(datapath+dataforkapparange+'.npz')\n",
    "datagen = data_object.iteritems()\n",
    "\n",
    "for idx_ in xrange(len(data_object.files)):\n",
    "    try:\n",
    "        stored_item = datagen.next()\n",
    "        print stored_item[0]\n",
    "        vars()[stored_item[0]] = stored_item[1]    \n",
    "    except StopIteration:\n",
    "        pass\n",
    "\n",
    "    \n",
    "########################################################################\n",
    "# Periodic Kernel\n",
    "########################################################################\n",
    "at_fourier_data = np.load(datapath+dataforkappa0+'.npz')\n",
    "datagen_f = at_fourier_data.iteritems()\n",
    "\n",
    "for idx_ in xrange(len(at_fourier_data.files)):\n",
    "    try:\n",
    "        stored_item = datagen_f.next()\n",
    "        print stored_item[0]+'_f'\n",
    "        vars()[stored_item[0]+'_f'] = stored_item[1]    \n",
    "    except StopIteration:\n",
    "        pass\n",
    "\n",
    "########################################################################\n",
    "# Other Kernels\n",
    "########################################################################\n",
    "\n",
    "data_object_ = np.load(datapath+dataforkernels+'.npz')\n",
    "datagen_ = data_object_.iteritems()\n",
    "\n",
    "for idx_ in xrange(len(data_object_.files)):\n",
    "    try:\n",
    "        stored_item = datagen_.next()\n",
    "        print stored_item[0]+'_'\n",
    "        vars()[stored_item[0]+'_'] = stored_item[1]    \n",
    "    except StopIteration:\n",
    "        pass\n"
   ]
  },
  {
   "cell_type": "code",
   "execution_count": 4,
   "metadata": {
    "collapsed": false
   },
   "outputs": [
    {
     "name": "stdout",
     "output_type": "stream",
     "text": [
      "The following periodicities were constrained for the periodic kernel...\n",
      "[[0 2000]\n",
      " [2000 4000]\n",
      " [4000 6000]\n",
      " [6000 8000]\n",
      " [8000 10000]\n",
      " [10000 100000]\n",
      " [None None]]\n",
      "\n",
      "In addition to the periodic kernel, we additonally considered standard implementations of...\n",
      "['RBF' 'RQ' 'MAT32' 'QPER' 'PER']\n"
     ]
    }
   ],
   "source": [
    "print \"The following periodicities were constrained for the periodic kernel...\"\n",
    "print periodicities\n",
    "print \n",
    "print \"In addition to the periodic kernel, we additonally considered standard implementations of...\"\n",
    "print kernel_name_"
   ]
  },
  {
   "cell_type": "code",
   "execution_count": 10,
   "metadata": {
    "collapsed": false
   },
   "outputs": [],
   "source": [
    "##########################################################################################\n",
    "# Plot predictions \n",
    "##########################################################################################\n",
    "\n",
    "kernels_keys =  ['MAT32', 'QPER', 'PER', 'RBF', 'RQ'] #list(kernel_name_) #+ ['PER'] #'RBF', 'RQ', 'MAT32',\n",
    "pltstyle_ =   [':', ':', '-', '-', '-']\n",
    "\n",
    "TRUTH_DATA = {'RBF': truth_list_[0],\n",
    "              'RQ': truth_list_[1],\n",
    "              'MAT32': truth_list_[2] ,\n",
    "              'PER': truth_list_[4], \n",
    "              'QPER':truth_list_[3]\n",
    "}\n",
    "\n",
    "PRED_DATA = {'RBF': pred_list_[0],\n",
    "              'RQ': pred_list_[1] ,\n",
    "              'MAT32' : pred_list_[2],\n",
    "              'PER': pred_list_[4], \n",
    "              'QPER':pred_list_[3]\n",
    "}\n",
    "\n",
    "CLEAN_RUNS = {'RBF':np.delete(np.arange(total_runs_), failed_runs_list_[0][(failed_runs_list_[0]>0)]),\n",
    "              'RQ': np.delete(np.arange(total_runs_), failed_runs_list_[1][(failed_runs_list_[1]>0)]),\n",
    "              'MAT32': np.delete(np.arange(total_runs_), failed_runs_list_[2][(failed_runs_list_[2]>0)]),\n",
    "              'QPER': np.delete(np.arange(total_runs_), failed_runs_list_[3][(failed_runs_list_[3]>0)]),\n",
    "              'PER': np.delete(np.arange(total_runs_), failed_runs_list_[4][(failed_runs_list_[4]>0)]),              \n",
    "}\n",
    "\n",
    "\n",
    "COLOR_KERNELS = {'RQ': 'green', #green\n",
    "              'RBF': 'darkslateblue',\n",
    "              'MAT32': 'steelblue', #steel blue\n",
    "              'QPER': 'purple', \n",
    "              'PER': 'maroon',              \n",
    "}\n",
    "\n",
    "color_gradient = [ 'k', 'palevioletred',  'maroon', 'darkslategrey' ] \n",
    "#[ 'darkslategrey', 'darkgreen',  'maroon', 'steelblue' ] \n",
    "\n",
    "max_clean_run = min([ CLEAN_RUNS[kernels_keys[x]].shape[0] for x in xrange(len(kernels_keys))])\n",
    "\n",
    "data_plot_list = [0, 1, 2, 5] # for kappa varying\n",
    "pltstyle = ['v']+ ['o'] + ['-'] + ['-']\n",
    "lgnd_labels = [r'$\\kappa < 0$'] + [r'$\\kappa \\approx  10^{2}$'] + [r'$\\kappa \\approx  10^{3}$'] + [r'$\\kappa \\approx 10^{4}$']\n"
   ]
  },
  {
   "cell_type": "code",
   "execution_count": 11,
   "metadata": {
    "collapsed": false
   },
   "outputs": [
    {
     "name": "stdout",
     "output_type": "stream",
     "text": [
      "6\n"
     ]
    },
    {
     "data": {
      "image/png": "[encoded data removed]",
      "text/plain": [
       "<matplotlib.figure.Figure at 0x7f24947a7c50>"
      ]
     },
     "metadata": {},
     "output_type": "display_data"
    },
    {
     "data": {
      "text/plain": [
       "<function matplotlib.pyplot.close>"
      ]
     },
     "execution_count": 11,
     "metadata": {},
     "output_type": "execute_result"
    }
   ],
   "source": [
    "gs = gridspec.GridSpec(1, 5,\n",
    "                       left=0.15, right=0.985, \n",
    "                       top=0.9, bottom=0.2, \n",
    "                       wspace=0.1, hspace=0.2)\n",
    "\n",
    "fig1 = plt.figure(figsize=(cm2inch(8.6),cm2inch(2.)))\n",
    "\n",
    "ax_a = fig1.add_subplot(gs[0,0])\n",
    "ax_b = fig1.add_subplot(gs[0,1], sharey=ax_a)\n",
    "ax_c = fig1.add_subplot(gs[0,2], sharey=ax_a)\n",
    "ax_d = fig1.add_subplot(gs[0,3], sharey=ax_a)\n",
    "ax_e = fig1.add_subplot(gs[0,4], sharey=ax_a)\n",
    "\n",
    "ax_list = [ax_a, ax_b, ax_c, ax_d, ax_e]\n",
    "\n",
    "pickrun = 6 #int(np.random.uniform(low=0, high=50))#max_clean_run)) #4\n",
    "print pickrun\n",
    "\n",
    "for idx_algo in xrange(len(kernels_keys)):\n",
    "    \n",
    "    ax1=0\n",
    "    ax1 = ax_list[idx_algo]\n",
    "    #ax1.set_title(kernels_keys[idx_algo], fontsize=8)\n",
    "    \n",
    "    ax1.plot(np.arange(-50, 0, 1), PRED_DATA[kernels_keys[idx_algo]][pickrun][0:50:1], '.',\n",
    "         c=COLOR_KERNELS[kernels_keys[idx_algo]], \n",
    "         markerfacecolor='None', #steelblue',\n",
    "         markeredgecolor=COLOR_KERNELS[kernels_keys[idx_algo]],\n",
    "         markeredgewidth=1.0,\n",
    "         ms=2, lw=2.0,\n",
    "         alpha=0.75)\n",
    "    ax1.plot(np.arange(0, 50, 1), PRED_DATA[kernels_keys[idx_algo]][pickrun][50:100:1], '.',\n",
    "             c=COLOR_KERNELS[kernels_keys[idx_algo]], \n",
    "             markerfacecolor=COLOR_KERNELS[kernels_keys[idx_algo]],\n",
    "             ms=2, lw=2.0, \n",
    "             alpha=0.75,\n",
    "             markeredgecolor=COLOR_KERNELS[kernels_keys[idx_algo]])\n",
    "             #label = kernels_keys[idx_algo])\n",
    "    \n",
    "    ax1.plot(np.arange(-50, 50), TRUTH_DATA[kernels_keys[idx_algo]][pickrun][0:100], \n",
    "             'k', lw=1.0)\n",
    "    \n",
    "    if ax1 != ax_a:\n",
    "        ax1.set_yticklabels([])\n",
    "    \n",
    "#     if ax1 == ax_a:    \n",
    "#         ax1.legend(loc=4,  ncol=4, fontsize=fsize, frameon=False, bbox_to_anchor=(0., 1.02, 1., .102), \n",
    "#           mode=\"expand\", borderaxespad=0.)\n",
    "    \n",
    "    ax1.tick_params(direction='in', which='both')\n",
    "    ax1.margins(0.2)\n",
    "    ax1.set(xlabel='', ylabel='')\n",
    "    ax1.minorticks_off()\n",
    "    ax1 = set_font_sizes(ax1, fsize, Fsize)\n",
    "    #ax1.legend(loc=2)\n",
    "    \n",
    "fig1.savefig(savefig2+figname2+'traces'+'.svg', format='svg', dpi=my_dpi)\n",
    "plt.show()\n",
    "plt.close\n",
    "\n",
    "# 9, 46"
   ]
  },
  {
   "cell_type": "code",
   "execution_count": 20,
   "metadata": {
    "collapsed": false,
    "scrolled": false
   },
   "outputs": [
    {
     "name": "stdout",
     "output_type": "stream",
     "text": [
      "('For periodicity index, ', 0, ', total no. of failed runs is:', 1)\n",
      "('For periodicity index, ', 1, ', total no. of failed runs is:', 1)\n",
      "('For periodicity index, ', 2, ', total no. of failed runs is:', 0)\n",
      "('For periodicity index, ', 5, ', total no. of failed runs is:', 12)\n",
      "('For kernel, ', 'MAT32', 'no of failed runs', 0)\n",
      "('For kernel, ', 'QPER', 'no of failed runs', 5)\n",
      "('For kernel, ', 'PER', 'no of failed runs', 0)\n",
      "('For kernel, ', 'RBF', 'no of failed runs', 0)\n",
      "('For kernel, ', 'RQ', 'no of failed runs', 11)\n"
     ]
    },
    {
     "data": {
      "image/png": "[encoded data removed]",
      "text/plain": [
       "<matplotlib.figure.Figure at 0x7f2494246fd0>"
      ]
     },
     "metadata": {},
     "output_type": "display_data"
    }
   ],
   "source": [
    "forecastng_errors = np.zeros(( len(periodicities), total_runs, n_predict ))\n",
    "bayes_pred_risk = np.zeros(( len(periodicities), n_predict ))\n",
    "\n",
    "forecastng_errors_f = np.zeros(( len(kernel_name_), total_runs_, n_predict_))\n",
    "bayes_pred_risk_f = np.zeros(( len(kernel_name_), n_predict_ ))\n",
    "\n",
    "gs = gridspec.GridSpec(2, 2,\n",
    "                       left=0.15, right=0.985, \n",
    "                       top=0.97, bottom=0.1, \n",
    "                       wspace=0.1, hspace=0.2)\n",
    "\n",
    "fig2 = plt.figure(figsize=(cm2inch(8.6),cm2inch(6.)))\n",
    "ax = fig2.add_subplot(gs[0:2, 0:2])\n",
    "\n",
    "########################################################################\n",
    "# Perioctity constrained to physical resolution\n",
    "########################################################################\n",
    "\n",
    "remove_runs_f = failed_runs_list_f[0][(failed_runs_list_f[0]>0)] \n",
    "\n",
    "case=0\n",
    "for case in xrange(total_runs):\n",
    "\n",
    "    forecastng_errors_f[0, case, :] = sqr_err(pred_list_f[0, case, n_testbefore:], \n",
    "                                                  truth_list_f[0, case, n_testbefore:])\n",
    "\n",
    "    prd_zero_f = np.mean(np.delete(truth_list_f[0, :, :]**2, \n",
    "                                 remove_runs_f, axis=0), \n",
    "                       axis=0)[n_testbefore:]\n",
    "\n",
    "    bayes_pred_risk_f[0, :] = np.mean(np.delete(forecastng_errors_f[0, :, :], \n",
    "                                                    remove_runs_f, axis=0),\n",
    "                                          axis=0) / prd_zero_f\n",
    "\n",
    "ax.plot(np.arange(n_predict)[1:50], bayes_pred_risk_f[0][1:50],\n",
    "        's',  \n",
    "        c='slategrey',\n",
    "        markeredgecolor='slategrey',\n",
    "        markerfacecolor='None',\n",
    "        markeredgewidth=1., \n",
    "        markersize=4,\n",
    "        lw=1.0, alpha=1.,\n",
    "        label=r'$\\kappa = 0$')\n",
    "########################################################################\n",
    "# Periodic Kernel at different kappa values\n",
    "########################################################################\n",
    "\n",
    "idx_per2=0\n",
    "for idx_per_2 in xrange(len(data_plot_list)):\n",
    "    \n",
    "    idx_per=0\n",
    "    idx_per = data_plot_list[idx_per_2]\n",
    "    \n",
    "    remove_runs = failed_runs_list[idx_per][(failed_runs_list[idx_per]>0)] \n",
    "    print(\"For periodicity index, \", idx_per, \", total no. of failed runs is:\", remove_runs.shape[0])\n",
    "    \n",
    "    case=0\n",
    "    for case in xrange(total_runs):\n",
    "        \n",
    "        forecastng_errors[idx_per, case, :] = sqr_err(pred_list[idx_per, case, n_testbefore:], \n",
    "                                                      truth_list[idx_per, case, n_testbefore:])\n",
    "        \n",
    "    prd_zero = np.mean(np.delete(truth_list[idx_per, :, :]**2, \n",
    "                                 remove_runs, axis=0), \n",
    "                       axis=0)[n_testbefore:]\n",
    "    \n",
    "    bayes_pred_risk[idx_per, :] = np.mean(np.delete(forecastng_errors[idx_per, :, :], \n",
    "                                                    remove_runs, axis=0),\n",
    "                                          axis=0) / prd_zero\n",
    "    \n",
    "    ax.plot(np.arange(n_predict)[1:50:2], bayes_pred_risk[idx_per][1:50:2],\n",
    "            pltstyle[idx_per_2],\n",
    "            c=color_gradient[idx_per_2],\n",
    "            markeredgecolor=color_gradient[idx_per_2],\n",
    "            markerfacecolor='None',\n",
    "            markeredgewidth=1., \n",
    "            markersize=4,\n",
    "            lw=1.0, alpha=1.,\n",
    "            label=lgnd_labels[idx_per_2])\n",
    "\n",
    "\n",
    "\n",
    "########################################################################\n",
    "# Inset - comparison with other kernels \n",
    "########################################################################\n",
    "ax2 = inset_axes(ax, width=1.1,\n",
    "                 height=1.0, \n",
    "                 bbox_to_anchor=(0.99, 0.18),\n",
    "                 bbox_transform=ax.figure.transFigure,loc=4)\n",
    "\n",
    "forecastng_errors_ = np.zeros(( len(kernel_name_), total_runs_, n_predict_))\n",
    "bayes_pred_risk_ = np.zeros(( len(kernel_name_), n_predict_ ))\n",
    "prd_zero_ = np.zeros(( len(kernel_name_),total_runs_, n_predict_ ))\n",
    "\n",
    "idx_ker=0\n",
    "for idx_ker in xrange(len(kernels_keys)):\n",
    "    \n",
    "    print(\"For kernel, \", kernels_keys[idx_ker], \"no of failed runs\", total_runs_ - CLEAN_RUNS[kernels_keys[idx_ker]].shape[0])\n",
    "    \n",
    "    case=0\n",
    "    for case in CLEAN_RUNS[kernels_keys[idx_ker]][0:30]:  ### adjusted for actual runs\n",
    "        \n",
    "        forecastng_errors_[idx_ker, case, :] = sqr_err(PRED_DATA[kernels_keys[idx_ker]][case, n_testbefore_:], \n",
    "                                                      TRUTH_DATA[kernels_keys[idx_ker]][case, n_testbefore_:])\n",
    "        \n",
    "        prd_zero_[idx_ker, case, :] = TRUTH_DATA[kernels_keys[idx_ker]][case, n_testbefore_:]**2\n",
    "    \n",
    "\n",
    "\n",
    "    bayes_pred_risk_[idx_ker, :] = np.mean(forecastng_errors_[idx_ker, :, :]\n",
    "                                           , axis=0) / np.mean(prd_zero_[idx_ker, :, :],\n",
    "                                                             axis=0)\n",
    "    linewidth_=1.0\n",
    "    if kernels_keys[idx_ker]=='QPER' or kernels_keys[idx_ker]=='MAT32' :\n",
    "        linewidth_=1.5\n",
    "        \n",
    "    ax2.plot(np.arange(n_predict_)[1:50], bayes_pred_risk_[idx_ker][1:50],\n",
    "            pltstyle_[idx_ker],  \n",
    "            c=COLOR_KERNELS[kernels_keys[idx_ker]],\n",
    "            lw=linewidth_, alpha=1.,\n",
    "            label=kernels_keys[idx_ker])    \n",
    "    \n",
    "    ax2.yaxis.set_ticks([])\n",
    "    ax2.xaxis.set_ticks([])\n",
    "    ax2.yaxis.set_ticklabels([])\n",
    "    ax2.xaxis.set_ticklabels([])\n",
    "    \n",
    "\n",
    "for axes in [ax, ax2]:\n",
    "    axes.yaxis.set_major_locator(ticker.LogLocator(base=10, numticks=2))\n",
    "       \n",
    "    axes.tick_params(direction='in', which='both')\n",
    "    axes.margins(0.2)\n",
    "    axes.set(xlabel='', ylabel='')\n",
    "    \n",
    "    \n",
    "    axes.set_yscale('log')\n",
    "    axes.set_xscale('log')\n",
    "    axes.axhline(1.0,  color=COLOURDICT['DATA'], lw=prediczero_lw, alpha=1.0)\n",
    "    axes.set_xlim([1, 52])\n",
    "    axes.minorticks_off() \n",
    "    axes = set_font_sizes(axes, fsize, Fsize)\n",
    "\n",
    "ax.set_ylim([10**-1, 3])    \n",
    "# ax.legend(loc=4,  ncol=4, fontsize=fsize, frameon=False, bbox_to_anchor=(0., 1.02, 1., .102), \n",
    "#            mode=\"expand\", borderaxespad=0.)\n",
    "# ax2.legend(loc=4,  ncol=3, fontsize=fsize, frameon=False, bbox_to_anchor=(-0.9, 2., 2. ,.07), \n",
    "#            mode=\"expand\", borderaxespad=0.)\n",
    "ax2.set_ylim([10**-1, 3])  \n",
    "fig2.savefig(savefig2+figname2+'.svg', format='svg', dpi=my_dpi)\n",
    "plt.show()\n",
    "plt.show()\n"
   ]
  },
  {
   "cell_type": "code",
   "execution_count": null,
   "metadata": {
    "collapsed": true
   },
   "outputs": [],
   "source": []
  },
  {
   "cell_type": "code",
   "execution_count": null,
   "metadata": {
    "collapsed": true
   },
   "outputs": [],
   "source": []
  },
  {
   "cell_type": "code",
   "execution_count": null,
   "metadata": {
    "collapsed": true
   },
   "outputs": [],
   "source": []
  },
  {
   "cell_type": "code",
   "execution_count": null,
   "metadata": {
    "collapsed": true
   },
   "outputs": [],
   "source": []
  },
  {
   "cell_type": "code",
   "execution_count": null,
   "metadata": {
    "collapsed": true
   },
   "outputs": [],
   "source": []
  }
 ],
 "metadata": {
  "kernelspec": {
   "display_name": "Python 2",
   "language": "python",
   "name": "python2"
  },
  "language_info": {
   "codemirror_mode": {
    "name": "ipython",
    "version": 2
   },
   "file_extension": ".py",
   "mimetype": "text/x-python",
   "name": "python",
   "nbconvert_exporter": "python",
   "pygments_lexer": "ipython2",
   "version": "2.7.13"
  }
 },
 "nbformat": 4,
 "nbformat_minor": 2
}
