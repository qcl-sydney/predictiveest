{
 "cells": [
  {
   "cell_type": "code",
   "execution_count": 1,
   "metadata": {
    "collapsed": false
   },
   "outputs": [
    {
     "name": "stderr",
     "output_type": "stream",
     "text": [
      "/home/riddhisw/anaconda2/lib/python2.7/site-packages/matplotlib/lines.py:1206: FutureWarning: comparison to `None` will result in an elementwise object comparison in the future.\n",
      "  if self._markerfacecolor != fc:\n",
      "/home/riddhisw/anaconda2/lib/python2.7/site-packages/matplotlib/lines.py:1182: FutureWarning: comparison to `None` will result in an elementwise object comparison in the future.\n",
      "  if self._markeredgecolor != ec:\n"
     ]
    }
   ],
   "source": [
    "import sys\n",
    "sys.path.append('../../../../../')\n",
    "from plot_tools.fig_preamble import * # imports numpy, matplotlib, Py2PDF, plot_helper_funcs, plot_figstyle_sheet"
   ]
  },
  {
   "cell_type": "markdown",
   "metadata": {},
   "source": [
    "#### Paths ####"
   ]
  },
  {
   "cell_type": "code",
   "execution_count": 2,
   "metadata": {
    "collapsed": false
   },
   "outputs": [],
   "source": [
    "ver=0\n",
    "datapath = '../../../../DATA_v'+str(ver)+'_/' #v'+str(ver)+'/DATA_v'+str(ver)+'/'\n",
    "savefig = '../svg/paper_v0_'\n",
    "figdata = '../svg/fig_data/paper_v0_'\n",
    "figname = 'LKFFB_v_AKF_statepred'"
   ]
  },
  {
   "cell_type": "markdown",
   "metadata": {},
   "source": [
    "#### Figure: Perfect v. Imperfect Learning ####"
   ]
  },
  {
   "cell_type": "code",
   "execution_count": 3,
   "metadata": {
    "collapsed": false
   },
   "outputs": [],
   "source": [
    "## Data\n",
    "test_case_list = [ 19]\n",
    "variation_list = [ 5]\n",
    "undersampl_scale_on =0\n",
    "sig_scale_on=0"
   ]
  },
  {
   "cell_type": "code",
   "execution_count": 4,
   "metadata": {
    "collapsed": false,
    "scrolled": false
   },
   "outputs": [
    {
     "name": "stdout",
     "output_type": "stream",
     "text": [
      "LSF: Data Loaded? Yes\n",
      "AKF: Data Loaded? Yes\n",
      "LKFFB: Data Loaded? Yes\n",
      "LSF\n",
      "AKF\n",
      "I am in RISK DICT and test case and variations are: 19 5\n",
      "Got here too\n",
      "Total coeff 651.779417919 0.00014780310704\n",
      "(150,)\n",
      "LKFFB\n",
      "I am in RISK DICT and test case and variations are: 19 5\n"
     ]
    },
    {
     "name": "stderr",
     "output_type": "stream",
     "text": [
      "../../../../../data_tools/data_tuned_run_analysis.py:281: FutureWarning: comparison to `None` will result in an elementwise object comparison in the future.\n",
      "  if (freq_basis_array == None) and (instantA == None):\n"
     ]
    },
    {
     "name": "stdout",
     "output_type": "stream",
     "text": [
      "(150,)\n"
     ]
    },
    {
     "data": {
      "image/png": "[encoded data removed]",
      "text/plain": [
       "<matplotlib.figure.Figure at 0x7fc6b503a3d0>"
      ]
     },
     "metadata": {},
     "output_type": "display_data"
    },
    {
     "data": {
      "image/png": "[encoded data removed]",
      "text/plain": [
       "<matplotlib.figure.Figure at 0x7fc6b503ac10>"
      ]
     },
     "metadata": {},
     "output_type": "display_data"
    }
   ],
   "source": [
    "## Fig Setup\n",
    "nrows = 2\n",
    "ncols = 2\n",
    "\n",
    "gs = gridspec.GridSpec(1, 20,\n",
    "                       left=0.15, right=0.97, \n",
    "                       top=0.85, bottom=0.15, \n",
    "                       wspace=0.1, hspace=0.2)\n",
    "\n",
    "fig = plt.figure(figsize=(cm2inch(8.6),cm2inch(4)))\n",
    "\n",
    "dumpfig = plt.figure(figsize=(0.1, 0.1))\n",
    "dumpax = dumpfig.add_subplot(121)\n",
    "dumpax2 = dumpfig.add_subplot(122)\n",
    "\n",
    "\n",
    "for idx_c in xrange(len(test_case_list)):\n",
    "    \n",
    "    vars()['ax'+str(idx_c)+'_1']  = fig.add_subplot(gs[0, 0:])\n",
    "    #vars()['ax'+str(idx_c)+'_2']  = fig.add_subplot(gs[1, :])\n",
    "    \n",
    "    # Single Predictions\n",
    "    \n",
    "    if test_case_list[idx_c] ==19:\n",
    "        sig_scale_on = 1.\n",
    "        undersampl_scale_on = 1.\n",
    "    \n",
    "    fig_data_name = figdata+figname+'_tc_'+str(test_case_list[idx_c])+'_v_'+str(variation_list[idx_c])\n",
    "    \n",
    "    vars()['ax'+str(idx_c)+'_1'], dumpax2 = psp(vars()['ax'+str(idx_c)+'_1'], dumpax2,  \n",
    "                                                                     ['LSF', 'AKF', 'LKFFB'], \n",
    "                                                                    test_case_list[idx_c], variation_list[idx_c], \n",
    "                                                                    datapath, GPRP_load='No', ylim_amps = [-8, 0],\n",
    "                                                                    fstep=50, sstep=50, # dont change these\n",
    "                                                                    lowloss=20, # dont change these\n",
    "                                                                    plot_past_data=120, nt_label=5,\n",
    "                                                                    save_data=fig_data_name,\n",
    "                                                                    sig_scale_on=sig_scale_on, undersampl_scale_on=undersampl_scale_on)\n",
    "    \n",
    "    \n",
    "    # N. Log(BR)\n",
    "    \n",
    "#     dumpax, vars()['ax'+str(idx_c)+'_2'] = pnm(dumpax, vars()['ax'+str(idx_c)+'_2'],  ['LSF', 'AKF', 'LKFFB'], \n",
    "#                                                test_case_list[idx_c], variation_list[idx_c], \n",
    "#                                                datapath, save_data=fig_data_name,\n",
    "#                                                fstep=50, sstep=50, lowloss=20, \n",
    "#                                                ylim = [-3, 1], yscale='log')\n",
    "#     vars()['ax'+str(idx_c)+'_2'].text(1, 2.5, r'$\\mu_{f_n}=0$')\n",
    "#     # vars()['ax'+str(idx_c)+'_2'].yaxis.tick_right()\n",
    "#     vars()['ax'+str(idx_c)+'_2'].xaxis.set_major_formatter(ticker.FormatStrFormatter(\"%d\"))\n",
    "    \n",
    "    for count in [1]:#, 2]:\n",
    "        vars()['ax'+str(idx_c)+'_'+str(count)].set(ylabel='', xlabel='')\n",
    "        vars()['ax'+str(idx_c)+'_'+str(count)].minorticks_off()\n",
    "        vars()['ax'+str(idx_c)+'_'+str(count)].margins(0.2)\n",
    "        \n",
    "        \n",
    "#         if idx_c !=1:\n",
    "#             vars()['ax'+str(idx_c)+'_'+str(count)].set(xticklabels=[])\n",
    "\n",
    "        \n",
    "        vars()['ax'+str(idx_c)+'_'+str(count)] =  set_font_sizes(vars()['ax'+str(idx_c)+'_'+str(count)], fsize, Fsize)\n",
    "\n",
    "        \n",
    "vars()['ax'+str(0)+'_'+str(1)].legend(handles=PRED_H2[2:], labels=PRED_L2[2:],\n",
    "                                      loc=3,  fontsize=fsize, frameon=False, bbox_to_anchor=(0., 1.02, 1., .102), \n",
    "                                      ncol=3, mode=\"expand\", borderaxespad=0.)\n",
    "\n",
    "fig.savefig(savefig+figname+'.svg', format='svg', dpi=my_dpi)\n",
    "plt.show()\n",
    "plt.close()"
   ]
  },
  {
   "cell_type": "markdown",
   "metadata": {
    "collapsed": false
   },
   "source": [
    "fig1 = plt.figure(figsize=(cm2inch(5),cm2inch(4)), dpi=my_dpi)\n",
    "\n",
    "ax = fig1.add_subplot(111)\n",
    "lgd=ax.legend(handles=PRED_H2,\n",
    "       labels=PRED_L2,\n",
    "       bbox_to_anchor=(-0.12, 0, 0.0,1.1), loc=2, ncol=3, frameon=True, fontsize=fsize, \n",
    "       facecolor='white', edgecolor='white')\n",
    "ax.set_frame_on(False)\n",
    "ax.tick_params(bottom='off', left='off', labelbottom='off', labelleft='off')\n",
    "\n",
    "fig1.savefig(savefig+figname+'lgnd.svg', format='svg', dpi=my_dpi)\n",
    "plt.show()\n",
    "plt.close()"
   ]
  },
  {
   "cell_type": "code",
   "execution_count": null,
   "metadata": {
    "collapsed": true
   },
   "outputs": [],
   "source": []
  },
  {
   "cell_type": "markdown",
   "metadata": {
    "collapsed": true
   },
   "source": [
    "### "
   ]
  }
 ],
 "metadata": {
  "kernelspec": {
   "display_name": "Python 2",
   "language": "python",
   "name": "python2"
  },
  "language_info": {
   "codemirror_mode": {
    "name": "ipython",
    "version": 2
   },
   "file_extension": ".py",
   "mimetype": "text/x-python",
   "name": "python",
   "nbconvert_exporter": "python",
   "pygments_lexer": "ipython2",
   "version": "2.7.13"
  }
 },
 "nbformat": 4,
 "nbformat_minor": 2
}
