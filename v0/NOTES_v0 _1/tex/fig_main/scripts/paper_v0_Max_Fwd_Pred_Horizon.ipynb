{
 "cells": [
  {
   "cell_type": "code",
   "execution_count": 1,
   "metadata": {
    "collapsed": false
   },
   "outputs": [
    {
     "name": "stderr",
     "output_type": "stream",
     "text": [
      "/home/riddhisw/anaconda2/lib/python2.7/site-packages/matplotlib/lines.py:1206: FutureWarning: comparison to `None` will result in an elementwise object comparison in the future.\n",
      "  if self._markerfacecolor != fc:\n",
      "/home/riddhisw/anaconda2/lib/python2.7/site-packages/matplotlib/lines.py:1182: FutureWarning: comparison to `None` will result in an elementwise object comparison in the future.\n",
      "  if self._markeredgecolor != ec:\n"
     ]
    }
   ],
   "source": [
    "import sys\n",
    "sys.path.append('../../../../../')\n",
    "\n",
    "#### Local Plotting Tools ####\n",
    "from plot_tools.fig_preamble import *\n",
    "from plot_tools.plot_helper_funcs import cm2inch\n",
    "\n",
    "#### Matplotlib & Numpy ####\n",
    "from matplotlib.ticker import ScalarFormatter, FormatStrFormatter\n",
    "from mpl_toolkits.axes_grid1.inset_locator import zoomed_inset_axes\n",
    "############ Saving Commands #########\n",
    "\n",
    "ver=0\n",
    "datapath = '../../../../DATA_v'+str(ver)+'_/' #v'+str(ver)+'/DATA_v'+str(ver)+'/'\n",
    "savefig = '../svg/paper_v0_'\n",
    "figdata = '../svg/fig_data/paper_v0_'\n",
    "figname='maxfwdpred'\n",
    "\n",
    "############ Load Data #########\n",
    "n_predict = 50\n",
    "num = 2050\n",
    "n_train = 2000"
   ]
  },
  {
   "cell_type": "code",
   "execution_count": 2,
   "metadata": {
    "collapsed": false
   },
   "outputs": [
    {
     "name": "stdout",
     "output_type": "stream",
     "text": [
      "LSF: Data Loaded? Yes\n",
      "I am in RISK DICT and test case and variations are: 24 1\n",
      "(24, 1)\n",
      "LSF: Data Loaded? Yes\n",
      "I am in RISK DICT and test case and variations are: 24 2\n",
      "(24, 2)\n",
      "LSF: Data Loaded? Yes\n",
      "I am in RISK DICT and test case and variations are: 24 3\n",
      "(24, 3)\n",
      "LSF: Data Loaded? Yes\n",
      "I am in RISK DICT and test case and variations are: 24 4\n",
      "(24, 4)\n",
      "LSF: Data Loaded? Yes\n",
      "I am in RISK DICT and test case and variations are: 24 7\n",
      "(24, 7)\n",
      "0 49\n",
      "1 30\n",
      "2 24\n",
      "3 18\n",
      "4 5\n"
     ]
    },
    {
     "name": "stderr",
     "output_type": "stream",
     "text": [
      "/home/riddhisw/anaconda2/lib/python2.7/site-packages/matplotlib/lines.py:1182: FutureWarning: elementwise comparison failed; returning scalar instead, but in the future will perform elementwise comparison\n",
      "  if self._markeredgecolor != ec:\n"
     ]
    },
    {
     "name": "stdout",
     "output_type": "stream",
     "text": [
      "AKF: Data Loaded? Yes\n",
      "I am in RISK DICT and test case and variations are: 24 1\n",
      "(24, 1)\n",
      "AKF: Data Loaded? Yes\n",
      "I am in RISK DICT and test case and variations are: 24 2\n",
      "(24, 2)\n",
      "AKF: Data Loaded? Yes\n",
      "I am in RISK DICT and test case and variations are: 24 3\n",
      "(24, 3)\n",
      "AKF: Data Loaded? Yes\n",
      "I am in RISK DICT and test case and variations are: 24 4\n",
      "(24, 4)\n",
      "AKF: Data Loaded? Yes\n",
      "I am in RISK DICT and test case and variations are: 24 7\n",
      "(24, 7)\n",
      "0 49\n",
      "1 26\n",
      "2 28\n",
      "3 16\n",
      "4 6\n",
      "LKFFB: Data Loaded? Yes\n",
      "I am in RISK DICT and test case and variations are: 24 1\n",
      "(24, 1)\n",
      "LKFFB: Data Loaded? Yes\n",
      "I am in RISK DICT and test case and variations are: 24 2\n",
      "(24, 2)\n",
      "LKFFB: Data Loaded? Yes\n",
      "I am in RISK DICT and test case and variations are: 24 3\n",
      "(24, 3)\n",
      "LKFFB: Data Loaded? Yes\n",
      "I am in RISK DICT and test case and variations are: 24 4\n",
      "(24, 4)\n",
      "LKFFB: Data Loaded? Yes\n",
      "I am in RISK DICT and test case and variations are: 24 7\n",
      "(24, 7)\n",
      "0 49\n",
      "1 11\n",
      "2 7\n",
      "3 6\n",
      "4 49\n"
     ]
    },
    {
     "data": {
      "image/png": "[encoded data removed]",
      "text/plain": [
       "<matplotlib.figure.Figure at 0x7ff42f2664d0>"
      ]
     },
     "metadata": {},
     "output_type": "display_data"
    },
    {
     "data": {
      "image/png": "[encoded data removed]",
      "text/plain": [
       "<matplotlib.figure.Figure at 0x7ff42f266dd0>"
      ]
     },
     "metadata": {},
     "output_type": "display_data"
    }
   ],
   "source": [
    "lnstyl = ['^', 'd', 's', 'o', '*']  # By regime \n",
    "color_gradient = ['k', 'darkslateblue', 'steelblue', 'lightsteelblue', 'thistle']*10 + ['k'] # ['darkblue', 'darkslateblue', 'steelblue', 'lightsteelblue', 'thistle']\n",
    "marker_gradient = lnstyl*2 + [''] \n",
    "\n",
    "case_ratios = [0.2, 0.4, 0.6, 0.8 , 2.0]\n",
    "\n",
    "gs = gridspec.GridSpec(1, 3,\n",
    "                       left=0.15, right=0.97, \n",
    "                       top=0.85, bottom=0.15, \n",
    "                       wspace=0.1, hspace=0.2)\n",
    "\n",
    "fig = plt.figure(figsize=(cm2inch(8.6),cm2inch(4)))\n",
    "\n",
    "\n",
    "\n",
    "def maxpredictionhorizon(ax, ax_format):\n",
    "    \n",
    "    idx_color = 0\n",
    "    for item in ax.lines[::2]:\n",
    "        \n",
    "        try:\n",
    "            max_x_horizon = next(fx[0] for fx in enumerate(item.get_ydata()) if fx[1] > 0.79) \n",
    "            vlineat =  item.get_xdata()[max_x_horizon -1]\n",
    "        except StopIteration:\n",
    "            max_x_horizon=item.get_xdata()[-1]\n",
    "            vlineat =  item.get_xdata()[max_x_horizon -1]\n",
    "    \n",
    "        ax.axvline(x=vlineat, c= ax_format[idx_color], lw=algorithm_lw, linestyle=':')\n",
    "        print idx_color, vlineat\n",
    "        idx_color +=1\n",
    "    \n",
    "    return ax\n",
    " \n",
    "# Plot results for tuned LSF, AKF, LKFFB \n",
    "\n",
    "algo_list = ['LSF', 'AKF', 'LKFFB']\n",
    "idx_algo =0 \n",
    "test_case=24\n",
    "variation_scan=[1, 2, 3, 4, 7]\n",
    "datapath2 = '../../../../DATA_v'+str(ver)+'_/'#temp_3- QIF_BR_MAP_tuned_sigma_v2/'\n",
    "dumpfig = plt.figure(figsize=(0.1, 0.1))\n",
    "dumpax = dumpfig.add_subplot(111)\n",
    "\n",
    "for idx_algo in xrange(len(algo_list)):\n",
    "\n",
    "    vars()['ax_'+str(idx_algo)] = fig.add_subplot(gs[0, idx_algo])\n",
    "\n",
    "    for idx_c in xrange(len(variation_scan)):\n",
    "\n",
    "        fig_data_name = figdata+figname+'_tc_'+str(test_case)+'_v_'+str(variation_scan[idx_c])\n",
    "\n",
    " \n",
    "        dumpax, vars()['ax_'+str(idx_algo)]  = pnm(dumpax, vars()['ax_'+str(idx_algo)] ,  [algo_list[idx_algo]], \n",
    "                           test_case, variation_scan[idx_c], \n",
    "                           datapath2,\n",
    "                           fstep=50, sstep=50, lowloss=20, save_data='Yes', # saving (save_data=0 will skip save)\n",
    "                           ylim = [-4, 3], yscale='log')\n",
    "        \n",
    "        idx_cases=0\n",
    "        for item in vars()['ax_'+str(idx_algo)].lines[::2]:\n",
    "\n",
    "            # formatting\n",
    "            item.set_color(color_gradient[idx_cases])\n",
    "            item.set_marker(marker_gradient[idx_cases])\n",
    "            item.set_markeredgecolor(color_gradient[idx_cases])\n",
    "            item.set_markerfacecolor(\"None\")\n",
    "            item.set_linestyle('')\n",
    "            idx_cases +=1\n",
    "   \n",
    "    # Plot vline when Bayes pred risk > 0.9\n",
    "    vars()['ax_'+str(idx_algo)] = maxpredictionhorizon(vars()['ax_'+str(idx_algo)], color_gradient[0:5])\n",
    "    \n",
    "    vars()['ax_'+str(idx_algo)].margins(0.2)\n",
    "    vars()['ax_'+str(idx_algo)].set(xlabel='', ylabel='')\n",
    "    vars()['ax_'+str(idx_algo)].set_yscale('log')\n",
    "    vars()['ax_'+str(idx_algo)].set_xscale('log')\n",
    "    vars()['ax_'+str(idx_algo)].axhline(1.0,  color=COLOURDICT['DATA'], lw=prediczero_lw, alpha=1.0)\n",
    "    # vars()['ax_'+str(idx_algo)].yaxis.set_major_formatter(FormatStrFormatter('%.0f'))\n",
    "    # vars()['ax_'+str(idx_algo)].yaxis.set_minor_formatter(FormatStrFormatter('%.0f'))   \n",
    "    vars()['ax_'+str(idx_algo)].tick_params(direction='in', which='both')\n",
    "    vars()['ax_'+str(idx_algo)] = set_font_sizes(vars()['ax_'+str(idx_algo)], fsize, Fsize)\n",
    "    vars()['ax_'+str(idx_algo)].yaxis.set_major_locator(ticker.LogLocator(base=10, numticks=2))\n",
    "    vars()['ax_'+str(idx_algo)].set_ylim([10**-4, 1000])\n",
    "    vars()['ax_'+str(idx_algo)].set_xlim([0.5, 52])\n",
    "    vars()['ax_'+str(idx_algo)].text(0.05, 0.88, algo_list[idx_algo],\n",
    "                                     horizontalalignment='left', verticalalignment='bottom', \n",
    "                                     transform=vars()['ax_'+str(idx_algo)].transAxes)\n",
    "    vars()['ax_'+str(idx_algo)].minorticks_off()\n",
    "\n",
    "ax_1.set_yticklabels('')\n",
    "ax_2.set_yticklabels('')\n",
    "\n",
    "fig.savefig(savefig+figname+'.svg', format='svg', dpi=my_dpi)\n",
    "plt.show()"
   ]
  },
  {
   "cell_type": "code",
   "execution_count": null,
   "metadata": {
    "collapsed": true
   },
   "outputs": [],
   "source": []
  },
  {
   "cell_type": "code",
   "execution_count": null,
   "metadata": {
    "collapsed": true
   },
   "outputs": [],
   "source": []
  }
 ],
 "metadata": {
  "kernelspec": {
   "display_name": "Python 2",
   "language": "python",
   "name": "python2"
  },
  "language_info": {
   "codemirror_mode": {
    "name": "ipython",
    "version": 2
   },
   "file_extension": ".py",
   "mimetype": "text/x-python",
   "name": "python",
   "nbconvert_exporter": "python",
   "pygments_lexer": "ipython2",
   "version": "2.7.13"
  }
 },
 "nbformat": 4,
 "nbformat_minor": 2
}
