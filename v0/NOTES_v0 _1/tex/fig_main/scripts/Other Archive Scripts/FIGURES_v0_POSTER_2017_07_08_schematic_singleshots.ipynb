{
 "cells": [
  {
   "cell_type": "code",
   "execution_count": 1,
   "metadata": {
    "collapsed": false
   },
   "outputs": [
    {
     "name": "stderr",
     "output_type": "stream",
     "text": [
      "/home/riddhisw/anaconda2/lib/python2.7/site-packages/matplotlib/lines.py:1206: FutureWarning: comparison to `None` will result in an elementwise object comparison in the future.\n",
      "  if self._markerfacecolor != fc:\n",
      "/home/riddhisw/anaconda2/lib/python2.7/site-packages/matplotlib/lines.py:1182: FutureWarning: comparison to `None` will result in an elementwise object comparison in the future.\n",
      "  if self._markeredgecolor != ec:\n"
     ]
    }
   ],
   "source": [
    "import sys\n",
    "sys.path.append('../../../../')\n",
    "sys.path.append('../../../')\n",
    "from plot_tools.fig_preamble import * # imports numpy, matplotlib, Py2PDF, plot_helper_funcs, plot_figstyle_sheet\n",
    "% matplotlib inline\n",
    "\n",
    "from scipy.signal import decimate\n",
    "from single_shot_filtering import one_shot_msmt, plot_stats, low_pass_filter, set_fft_zero\n",
    "from plot_tools.plot_figstyle_sheet import color_pallete"
   ]
  },
  {
   "cell_type": "markdown",
   "metadata": {},
   "source": [
    "Paths"
   ]
  },
  {
   "cell_type": "code",
   "execution_count": 2,
   "metadata": {
    "collapsed": true
   },
   "outputs": [],
   "source": [
    "ver=0\n",
    "datapath = '../../../DATA_v'+str(ver)+'_/' #v'+str(ver)+'/DATA_v'+str(ver)+'/'\n",
    "savefig = '../svg/poster_2017_07_08_'\n",
    "figname = 'decimatesingleshots'"
   ]
  },
  {
   "cell_type": "markdown",
   "metadata": {},
   "source": [
    "Consider the total phase accumulated on a qubit due to its interacting with slowly varying noise: for a single value of detuning and a single wait time in a Ramsey experiment:"
   ]
  },
  {
   "cell_type": "code",
   "execution_count": 3,
   "metadata": {
    "collapsed": false
   },
   "outputs": [],
   "source": [
    "detuning_0 = 2.\n",
    "tau_0 = 10**-5"
   ]
  },
  {
   "cell_type": "markdown",
   "metadata": {},
   "source": [
    "Let's fix $\\tau$ at some multiple of $\\tau_0$"
   ]
  },
  {
   "cell_type": "code",
   "execution_count": 4,
   "metadata": {
    "collapsed": false
   },
   "outputs": [
    {
     "name": "stdout",
     "output_type": "stream",
     "text": [
      "0.002\n"
     ]
    }
   ],
   "source": [
    "tau_fixed = tau_0*200\n",
    "print tau_fixed"
   ]
  },
  {
   "cell_type": "markdown",
   "metadata": {},
   "source": [
    "Define a linear ramp in detuning (We can also test for jitter, and chirped (slowly varying) detuning):"
   ]
  },
  {
   "cell_type": "code",
   "execution_count": 5,
   "metadata": {
    "collapsed": true
   },
   "outputs": [],
   "source": [
    "detuning_trace = detuning_0*(np.arange(0,200, 1))"
   ]
  },
  {
   "cell_type": "markdown",
   "metadata": {},
   "source": [
    "Define a function to help us stop our analysis if $\\psi(t) \\equiv \\int_0^\\tau \\beta(t) dt > \\pi$ :"
   ]
  },
  {
   "cell_type": "code",
   "execution_count": 6,
   "metadata": {
    "collapsed": false
   },
   "outputs": [],
   "source": [
    "def truncate_phases(phase_):\n",
    "    for idx_phase in xrange(phase_.shape[0]):\n",
    "        if phase_[idx_phase] > np.pi:\n",
    "            break\n",
    "    return idx_phase"
   ]
  },
  {
   "cell_type": "markdown",
   "metadata": {},
   "source": [
    "Low pass filtering often gives artefacts near zero (e.g. butterworth). Add a random phase offset so that we shift $P(\\tau, \\beta$ is an unsual shape, and that low pass filtering features are not accidentally mis interpreted as following the true probability trace."
   ]
  },
  {
   "cell_type": "code",
   "execution_count": 7,
   "metadata": {
    "collapsed": true
   },
   "outputs": [],
   "source": [
    "offset = 0.8*np.pi"
   ]
  },
  {
   "cell_type": "markdown",
   "metadata": {},
   "source": [
    "Calculate phases and stop taking data if total phase (minus offset) is more than pi:"
   ]
  },
  {
   "cell_type": "code",
   "execution_count": 8,
   "metadata": {
    "collapsed": false
   },
   "outputs": [
    {
     "name": "stdout",
     "output_type": "stream",
     "text": [
      "126\n"
     ]
    }
   ],
   "source": [
    "phase = tau_fixed*2.0*np.pi*detuning_trace + offset\n",
    "idx_max = truncate_phases(phase-offset) # max index beyond which inference makes no sense\n",
    "print idx_max"
   ]
  },
  {
   "cell_type": "markdown",
   "metadata": {},
   "source": [
    "The true theoretical trace can be modelled as a cosine at $\\tau n$ sample points for $n \\in [0, N]$, N = idx_max"
   ]
  },
  {
   "cell_type": "code",
   "execution_count": 9,
   "metadata": {
    "collapsed": true
   },
   "outputs": [],
   "source": [
    "_theory = 0.5*np.cos(phase[:idx_max]) + 0.5"
   ]
  },
  {
   "cell_type": "markdown",
   "metadata": {},
   "source": [
    "Use these probabilities to define the bias in binomial distribution ( i.e. take biased coin tosses, where the bias varies):"
   ]
  },
  {
   "cell_type": "code",
   "execution_count": 10,
   "metadata": {
    "collapsed": false
   },
   "outputs": [],
   "source": [
    "single_shot_msmts_B = np.random.binomial(n=1, p=_theory)"
   ]
  },
  {
   "cell_type": "markdown",
   "metadata": {},
   "source": [
    "Roughly implement decimate filter (trial and error):"
   ]
  },
  {
   "cell_type": "code",
   "execution_count": 11,
   "metadata": {
    "collapsed": false
   },
   "outputs": [
    {
     "name": "stdout",
     "output_type": "stream",
     "text": [
      "Sampling freq 500.0\n"
     ]
    }
   ],
   "source": [
    "fs = 1./tau_fixed\n",
    "print \"Sampling freq\", fs"
   ]
  },
  {
   "cell_type": "markdown",
   "metadata": {},
   "source": [
    "But the hidden change in detuning (for a linear ramp), is the true detuning_0. We are sufficiently oversampled to resolve this via a decimation filter i.e. decimation factor > fs/detuning_0"
   ]
  },
  {
   "cell_type": "code",
   "execution_count": 12,
   "metadata": {
    "collapsed": false
   },
   "outputs": [
    {
     "name": "stdout",
     "output_type": "stream",
     "text": [
      "Detuning stepsize 2.0\n",
      "True max decimator factor 250.0\n"
     ]
    }
   ],
   "source": [
    "print \"Detuning stepsize\", detuning_0\n",
    "max_decimatonfactor = (1./tau_fixed) / detuning_0\n",
    "print \"True max decimator factor\", max_decimatonfactor"
   ]
  },
  {
   "cell_type": "code",
   "execution_count": 13,
   "metadata": {
    "collapsed": false
   },
   "outputs": [],
   "source": [
    "dec_factor = 4\n",
    "decimate_order = 5\n",
    "# Type 1 filter used: pass band ripple, with no phase shift is desired compared to greater stop band ripples (in Type II)\n",
    "# In Type 1 filters, decimate_order < 13\n",
    "signal_d = decimate(single_shot_msmts_B, dec_factor, decimate_order, zero_phase=True)"
   ]
  },
  {
   "cell_type": "markdown",
   "metadata": {},
   "source": [
    "Note that the time axis is in steps of $\\tau$ at which we do consecutive Ramsey experiments:"
   ]
  },
  {
   "cell_type": "code",
   "execution_count": 14,
   "metadata": {
    "collapsed": true
   },
   "outputs": [],
   "source": [
    "tau_N_axis = tau_fixed*np.arange(idx_max)\n",
    "_time_step = tau_fixed\n",
    "_time_axis = tau_N_axis / tau_fixed"
   ]
  },
  {
   "cell_type": "markdown",
   "metadata": {},
   "source": [
    "But in the graph of $P(\\Delta, \\tau)$ against $\\Delta$ detuning, our fixed $\\tau$ is the 'frequency' of the half cosine curve that should be traced out (for total phase less than pi). Note that if sufficently sampled, you only need 25% of a cosine curve to reconstruct the entire curve. Hence, for sufficient oversampling rates, the decimation filter should work:"
   ]
  },
  {
   "cell_type": "code",
   "execution_count": 15,
   "metadata": {
    "collapsed": true
   },
   "outputs": [],
   "source": [
    "_freq = tau_fixed"
   ]
  },
  {
   "cell_type": "markdown",
   "metadata": {},
   "source": [
    "Plot and save:"
   ]
  },
  {
   "cell_type": "code",
   "execution_count": 16,
   "metadata": {
    "collapsed": false
   },
   "outputs": [
    {
     "name": "stdout",
     "output_type": "stream",
     "text": [
      "0\n",
      "1\n"
     ]
    },
    {
     "data": {
      "image/png": "[encoded data removed]",
      "text/plain": [
       "<matplotlib.figure.Figure at 0x7fa0b90bb590>"
      ]
     },
     "metadata": {},
     "output_type": "display_data"
    }
   ],
   "source": [
    "from matplotlib.ticker import MaxNLocator\n",
    "\n",
    "gs = gridspec.GridSpec(nrows=1, ncols=2, top=0.95, bottom=0.2, left=0.1, right=0.99, wspace=0.03, hspace=0.5)\n",
    "\n",
    "fig = plt.figure(figsize=(cm2inch(14),cm2inch(5.5)))\n",
    "ax_0 = fig.add_subplot(gs[0, 0])\n",
    "ax_1 = fig.add_subplot(gs[0, 1])\n",
    "\n",
    "axes = [ax_0, ax_1]\n",
    "data = [single_shot_msmts_B, signal_d] # collate data for plotting\n",
    "ax_0.set(ylabel=r' Single Shot Msmts')\n",
    "#ax_1.set(ylabel=r' Filtered Msmts')\n",
    "\n",
    "ax_0.legend(handles= ONESHOT_H[0:2], labels=ONESHOT_L[0:2], \n",
    "          bbox_to_anchor=(0.0, 0.65, 0.4, .102), fontsize=fsize,\n",
    "          loc=5, frameon=False)\n",
    "\n",
    "ax_1.legend(handles= ONESHOT_H[0::2], labels=ONESHOT_L[0::2], \n",
    "          bbox_to_anchor=(0.0, 0.65, 0.4, .102), fontsize=fsize,\n",
    "          loc=5, frameon=False)\n",
    "ax_1.set(yticklabels=[])\n",
    "for idx_data in xrange(len(axes)):\n",
    "    \n",
    "    ax = axes[idx_data]\n",
    "    ax.set_ylim([-0.2,1.15])\n",
    "    ax.tick_params(labelsize=fsize, direction='in')\n",
    "    \n",
    "    \n",
    "    ax.plot(_time_axis, _theory, '--', c=color_pallete[13], lw=1)\n",
    "    print idx_data\n",
    "    \n",
    "    if idx_data < 1:\n",
    "        ax.plot(_time_axis, data[idx_data], 'd', c=color_pallete[37], \n",
    "                alpha=0.8, markersize=2)\n",
    "    \n",
    "    if idx_data ==1:\n",
    "        _time_axis = dec_factor*_time_axis[0:data[idx_data].shape[0]]\n",
    "        ax.plot(_time_axis, data[idx_data], 'o', c=color_pallete[0], \n",
    "                alpha=0.8, markersize=2)\n",
    "    \n",
    "    #ax.ticklabel_format(style='sci', axis='both', scilimits=(0,0))\n",
    "    ax.margins(0.1)\n",
    "    ax.set(xlabel=r' $t/\\tau$ [num]')\n",
    "    ax = set_font_sizes(ax, fsize, Fsize)\n",
    "    \n",
    "    ax.xaxis.set_major_locator( MaxNLocator(nbins = 3) )\n",
    "    ax.yaxis.set_major_locator( MaxNLocator(nbins = 3) )\n",
    "    \n",
    "\n",
    "\n",
    "fig.savefig(savefig+figname+'.svg', format='svg', dpi=my_dpi)\n",
    "plt.show()\n",
    "plt.close()"
   ]
  },
  {
   "cell_type": "code",
   "execution_count": null,
   "metadata": {
    "collapsed": true
   },
   "outputs": [],
   "source": []
  }
 ],
 "metadata": {
  "kernelspec": {
   "display_name": "Python 2",
   "language": "python",
   "name": "python2"
  },
  "language_info": {
   "codemirror_mode": {
    "name": "ipython",
    "version": 2
   },
   "file_extension": ".py",
   "mimetype": "text/x-python",
   "name": "python",
   "nbconvert_exporter": "python",
   "pygments_lexer": "ipython2",
   "version": "2.7.13"
  }
 },
 "nbformat": 4,
 "nbformat_minor": 2
}
