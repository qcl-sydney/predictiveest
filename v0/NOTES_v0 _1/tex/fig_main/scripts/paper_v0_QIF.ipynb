{
 "cells": [
  {
   "cell_type": "code",
   "execution_count": 1,
   "metadata": {
    "collapsed": false
   },
   "outputs": [
    {
     "name": "stderr",
     "output_type": "stream",
     "text": [
      "/home/riddhisw/anaconda2/lib/python2.7/site-packages/matplotlib/lines.py:1206: FutureWarning: comparison to `None` will result in an elementwise object comparison in the future.\n",
      "  if self._markerfacecolor != fc:\n",
      "/home/riddhisw/anaconda2/lib/python2.7/site-packages/matplotlib/lines.py:1182: FutureWarning: comparison to `None` will result in an elementwise object comparison in the future.\n",
      "  if self._markeredgecolor != ec:\n"
     ]
    }
   ],
   "source": [
    "import sys\n",
    "sys.path.append('../../../../../')\n",
    "\n",
    "#### Local Plotting Tools ####\n",
    "from plot_tools.fig_preamble import *\n",
    "from plot_tools.plot_helper_funcs import cm2inch\n",
    "\n",
    "#### Matplotlib & Numpy ####\n",
    "from matplotlib.ticker import ScalarFormatter, FormatStrFormatter\n",
    "\n",
    "############ Saving Commands #########\n",
    "\n",
    "ver=0\n",
    "datapath = '../../../../DATA_v'+str(ver)+'_/' #v'+str(ver)+'/DATA_v'+str(ver)+'/'\n",
    "savefig = '../svg/paper_v0_'\n",
    "figdata = '../svg/fig_data/paper_v0_'\n",
    "figname='QIF'\n",
    "\n",
    "############ Load Data #########\n",
    "norm_z_states_ = np.load(datapath+'QIF_BayesPredRisk_v_OverSampl_v0_.npz')['norm_z_states_']\n",
    "n_predict = 50\n",
    "num = 2050\n",
    "n_train = 2000"
   ]
  },
  {
   "cell_type": "code",
   "execution_count": 2,
   "metadata": {
    "collapsed": false
   },
   "outputs": [
    {
     "name": "stdout",
     "output_type": "stream",
     "text": [
      "QKF: Data Loaded? Yes\n",
      "I am in RISK DICT and test case and variations are: 24 1\n",
      "Using hardcoded value for n_train at 2000\n",
      "(24, 1)\n",
      "QKF: Data Loaded? Yes\n",
      "I am in RISK DICT and test case and variations are: 24 2\n",
      "Using hardcoded value for n_train at 2000\n",
      "(24, 2)\n",
      "QKF: Data Loaded? Yes\n",
      "I am in RISK DICT and test case and variations are: 24 3\n",
      "Using hardcoded value for n_train at 2000\n",
      "(24, 3)\n",
      "QKF: Data Loaded? Yes\n",
      "I am in RISK DICT and test case and variations are: 24 4\n",
      "Using hardcoded value for n_train at 2000\n",
      "(24, 4)\n"
     ]
    },
    {
     "name": "stderr",
     "output_type": "stream",
     "text": [
      "/home/riddhisw/anaconda2/lib/python2.7/site-packages/matplotlib/lines.py:1182: FutureWarning: elementwise comparison failed; returning scalar instead, but in the future will perform elementwise comparison\n",
      "  if self._markeredgecolor != ec:\n"
     ]
    },
    {
     "data": {
      "image/png": "[encoded data removed]",
      "text/plain": [
       "<matplotlib.figure.Figure at 0x7f647f4a0390>"
      ]
     },
     "metadata": {},
     "output_type": "display_data"
    },
    {
     "data": {
      "image/png": "[encoded data removed]",
      "text/plain": [
       "<matplotlib.figure.Figure at 0x7f647f354c50>"
      ]
     },
     "metadata": {},
     "output_type": "display_data"
    }
   ],
   "source": [
    "color = [COLOURDICT['QKF'], COLOURDICT['AKF']] # By algorithm\n",
    "lnstyl = ['^', 'd', 's', 'o']# 'd:']  # By regime \n",
    "color_gradient = ['darkslateblue', 'steelblue', 'lightsteelblue', 'thistle']*8 + ['k']\n",
    "marker_gradient = lnstyl*2 + ['']\n",
    "\n",
    "case_ratios = [0.2, 0.4, 0.6, 0.8]# , 2.0]\n",
    "\n",
    "gs = gridspec.GridSpec(1, 2,\n",
    "                       left=0.15, right=0.985, \n",
    "                       top=0.85, bottom=0.15, \n",
    "                       wspace=0.1, hspace=0.2)\n",
    "\n",
    "fig = plt.figure(figsize=(cm2inch(8.6),cm2inch(3.5)))\n",
    "\n",
    "\n",
    "# Plot results for QIF where the true dynamical model is completely specified \n",
    "# We omit the value at n=0 such that our log plots are well behaved\n",
    "idx_algo=0\n",
    "ax_0 = fig.add_subplot(gs[0, 0])\n",
    "\n",
    "for idx_q_regime in xrange(len(norm_z_states_)-1):\n",
    "\n",
    "    alpha_gradient = 1.0 - 0.12*idx_q_regime\n",
    "\n",
    "    vars()['ax_'+str(idx_algo)].plot(np.arange(0, n_predict, 1)[1:], \n",
    "                               norm_z_states_[idx_q_regime][idx_algo][n_train : num : 1][1:], \n",
    "                               str(lnstyl[idx_q_regime])+'', \n",
    "                               label=case_ratios[idx_q_regime], \n",
    "                               c=color_gradient[idx_q_regime],\n",
    "                               markeredgecolor=color_gradient[idx_q_regime],\n",
    "                               #alpha=alpha_gradient,\n",
    "                               markerfacecolor=\"None\", ms=3,lw=1)\n",
    "\n",
    "    \n",
    "# Plot results for a tuned QKF run on comparable noisetrace\n",
    "idx_algo=1\n",
    "ax_1 = fig.add_subplot(gs[0, 1])\n",
    "test_case=24\n",
    "variation_scan=[1, 2, 3, 4]\n",
    "datapath2 = '../../../../DATA_v'+str(ver)+'_/'#temp_3- QIF_BR_MAP_tuned_sigma_v2/'\n",
    "dumpfig = plt.figure(figsize=(0.1, 0.1))\n",
    "dumpax = dumpfig.add_subplot(111)\n",
    "\n",
    "\n",
    "for idx_c in xrange(len(variation_scan)):\n",
    "    \n",
    "    fig_data_name = figdata+figname+'_tc_'+str(test_case)+'_v_'+str(variation_scan[idx_c])\n",
    "    \n",
    "    dumpax, ax_1 = pnm(dumpax, ax_1,  ['QKF'], \n",
    "                       test_case, variation_scan[idx_c], \n",
    "                       datapath2,\n",
    "                       fstep=50, sstep=50, lowloss=20, save_data=fig_data_name,\n",
    "                       ylim = [-1, 1], yscale='log')\n",
    "idx_c=0\n",
    "for item in ax_1.lines[::2]:\n",
    "    item.set_color(color_gradient[idx_c])\n",
    "    item.set_marker(marker_gradient[idx_c])\n",
    "    item.set_markeredgecolor(color_gradient[idx_c])\n",
    "    item.set_markerfacecolor(\"None\")\n",
    "    item.set_linestyle('')\n",
    "    idx_c +=1\n",
    "\n",
    "\n",
    "# Format both plots\n",
    "for idx_algo in xrange(2):\n",
    "           \n",
    "    vars()['ax_'+str(idx_algo)].margins(0.2)\n",
    "    vars()['ax_'+str(idx_algo)].set(xlabel='', ylabel='')\n",
    "    vars()['ax_'+str(idx_algo)].set_yscale('log')\n",
    "    vars()['ax_'+str(idx_algo)].set_xscale('log')\n",
    "    vars()['ax_'+str(idx_algo)].axhline(1.0,  color=COLOURDICT['DATA'], lw=prediczero_lw, alpha=1.0)\n",
    "    # vars()['ax_'+str(idx_algo)].yaxis.set_major_formatter(FormatStrFormatter('%.0f'))\n",
    "    # vars()['ax_'+str(idx_algo)].yaxis.set_minor_formatter(FormatStrFormatter('%.0f'))   \n",
    "    vars()['ax_'+str(idx_algo)].tick_params(direction='in', which='both')\n",
    "    vars()['ax_'+str(idx_algo)] = set_font_sizes(vars()['ax_'+str(idx_algo)], fsize, Fsize)\n",
    "    vars()['ax_'+str(idx_algo)].yaxis.set_major_locator(ticker.LogLocator(base=10, numticks=2))\n",
    "    vars()['ax_'+str(idx_algo)].set_ylim([0.1, 10])\n",
    "    vars()['ax_'+str(idx_algo)].set_xlim([0.5, 50])\n",
    "    vars()['ax_'+str(idx_algo)].minorticks_off()\n",
    "\n",
    "ax_1.set_yticklabels('')\n",
    "\n",
    "ax_0.legend(loc=3,  fontsize=fsize, frameon=False, bbox_to_anchor=(0., 1.02, 2., .102), \n",
    "                     ncol=5, mode=\"expand\", borderaxespad=0.)\n",
    "\n",
    "fig.savefig(savefig+figname+'.svg', format='svg', dpi=my_dpi)\n",
    "plt.show()"
   ]
  },
  {
   "cell_type": "code",
   "execution_count": null,
   "metadata": {
    "collapsed": true
   },
   "outputs": [],
   "source": []
  }
 ],
 "metadata": {
  "kernelspec": {
   "display_name": "Python 2",
   "language": "python",
   "name": "python2"
  },
  "language_info": {
   "codemirror_mode": {
    "name": "ipython",
    "version": 2
   },
   "file_extension": ".py",
   "mimetype": "text/x-python",
   "name": "python",
   "nbconvert_exporter": "python",
   "pygments_lexer": "ipython2",
   "version": "2.7.13"
  }
 },
 "nbformat": 4,
 "nbformat_minor": 2
}
