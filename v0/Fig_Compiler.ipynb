{
 "cells": [
  {
   "cell_type": "code",
   "execution_count": 1,
   "metadata": {
    "collapsed": false
   },
   "outputs": [
    {
     "name": "stdout",
     "output_type": "stream",
     "text": [
      "/home/riddhisw/Documents/2017/Scripts_Git/v0\r\n"
     ]
    }
   ],
   "source": [
    "import sys\n",
    "sys.path.append('../')\n",
    "!pwd"
   ]
  },
  {
   "cell_type": "code",
   "execution_count": 2,
   "metadata": {
    "collapsed": false
   },
   "outputs": [],
   "source": [
    "from plot_tools.plot_helper_funcs import svg2pdf, stackNcrop, pdf2latek"
   ]
  },
  {
   "cell_type": "code",
   "execution_count": 3,
   "metadata": {
    "collapsed": false
   },
   "outputs": [
    {
     "name": "stdout",
     "output_type": "stream",
     "text": [
      "['fig_risk_lgd_v_0', 'fig_pred_lgd_v_0', 'fig_pred_lgd_lng_ill_v_0', 'fig_pred_lgd_lng_v_0', 'fig_risk_lgd_v_0', 'fig_risk_lgd_v_0']\n",
      "['fig_1_v_0', 'fig_2_v_0', 'fig_3_v_0', 'fig_4_v_0', 'fig_8_v_0', 'fig_10_v_0']\n",
      "['fig1', 'fig2', 'fig3', 'fig4', 'fig8', 'fig10']\n",
      "[0, 0, 272, 0, 0, 0]\n"
     ]
    }
   ],
   "source": [
    "ver=0\n",
    "figs = [1, 2, 3, 4, 8, 10]\n",
    "graphicspath = './FIGS_v'+str(ver)+'/' \n",
    "filename2=[]\n",
    "outputname=[]\n",
    "\n",
    "for item in figs:\n",
    "    filename2.append('fig_'+str(item)+'_v_'+str(ver))\n",
    "    outputname.append('fig'+str(item))\n",
    "    \n",
    "filename1 =  [ 'fig_risk_lgd_v_'+str(ver), 'fig_pred_lgd_v_'+str(ver)]\n",
    "filename1 += [ 'fig_pred_lgd_lng_ill_v_'+str(ver), 'fig_pred_lgd_lng_v_'+str(ver) ]\n",
    "filename1 += [ 'fig_risk_lgd_v_'+str(ver), 'fig_risk_lgd_v_'+str(ver)]\n",
    "cropfig2 = [0]* len(figs)\n",
    "cropfig2[2] = 272\n",
    "\n",
    "print filename1\n",
    "print filename2\n",
    "print outputname\n",
    "print cropfig2"
   ]
  },
  {
   "cell_type": "code",
   "execution_count": 5,
   "metadata": {
    "collapsed": false
   },
   "outputs": [],
   "source": [
    "for item in filename1 + filename2:\n",
    "    name = str(graphicspath) + str(item)\n",
    "    svg2pdf(name)\n",
    "    \n",
    "for idx in xrange(len(figs)):\n",
    "    stackNcrop(graphicspath+outputname[idx], graphicspath+filename1[idx], graphicspath+filename2[idx],\n",
    "           bottom= cropfig2[idx])\n",
    "    \n",
    "    #pdf2latek(graphicspath+outputname[idx])"
   ]
  },
  {
   "cell_type": "code",
   "execution_count": null,
   "metadata": {
    "collapsed": true
   },
   "outputs": [],
   "source": []
  }
 ],
 "metadata": {
  "kernelspec": {
   "display_name": "python27withPyPDF2",
   "language": "python",
   "name": "python27withpypdf2"
  },
  "language_info": {
   "codemirror_mode": {
    "name": "ipython",
    "version": 2
   },
   "file_extension": ".py",
   "mimetype": "text/x-python",
   "name": "python",
   "nbconvert_exporter": "python",
   "pygments_lexer": "ipython2",
   "version": "2.7.13"
  }
 },
 "nbformat": 4,
 "nbformat_minor": 2
}
