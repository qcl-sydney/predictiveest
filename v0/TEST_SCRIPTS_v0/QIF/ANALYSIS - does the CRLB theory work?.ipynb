{
 "cells": [
  {
   "cell_type": "code",
   "execution_count": 1,
   "metadata": {
    "collapsed": false
   },
   "outputs": [
    {
     "name": "stderr",
     "output_type": "stream",
     "text": [
      "/home/riddhisw/anaconda2/lib/python2.7/site-packages/matplotlib/lines.py:1206: FutureWarning: comparison to `None` will result in an elementwise object comparison in the future.\n",
      "  if self._markerfacecolor != fc:\n",
      "/home/riddhisw/anaconda2/lib/python2.7/site-packages/matplotlib/lines.py:1182: FutureWarning: comparison to `None` will result in an elementwise object comparison in the future.\n",
      "  if self._markeredgecolor != ec:\n"
     ]
    }
   ],
   "source": [
    "import sys\n",
    "sys.path.append('../../../')\n",
    "\n",
    "#### Local Plotting Tools ####\n",
    "from plot_tools.fig_preamble import *\n",
    "from plot_tools.plot_helper_funcs import cm2inch\n",
    "\n",
    "#### Matplotlib & Numpy ####\n",
    "from matplotlib.ticker import ScalarFormatter, FormatStrFormatter\n",
    "from data_tools.load_raw_cluster_data import LoadExperiment\n",
    "from data_tools.data_risk_analysis import analyse_kalman_errs\n",
    "from qif.common import inverse_Ricatti_recursion, inverse_Ricatti_recursion_coinflip\n",
    "from qif.common import generate_AR, noisy_z, projected_msmt, qkf_state_err, normalise\n",
    "from akf.armakf import get_autoreg_model\n",
    "from qif.qif import qif as qif"
   ]
  },
  {
   "cell_type": "code",
   "execution_count": 2,
   "metadata": {
    "collapsed": false
   },
   "outputs": [],
   "source": [
    "ver=0\n",
    "test_case=24\n",
    "variation_scan=[1, 2, 3, 4]\n",
    "datapath2 = '../../DATA_v'+str(ver)+'_/'#\n",
    "\n"
   ]
  },
  {
   "cell_type": "code",
   "execution_count": 3,
   "metadata": {
    "collapsed": false
   },
   "outputs": [
    {
     "name": "stdout",
     "output_type": "stream",
     "text": [
      "AKF: Data Loaded? Yes\n",
      "LKFFB: Data Loaded? Yes\n",
      "QKF: Data Loaded? Yes\n",
      "AKF: Data Loaded? Yes\n",
      "LKFFB: Data Loaded? Yes\n",
      "QKF: Data Loaded? Yes\n",
      "AKF: Data Loaded? Yes\n",
      "LKFFB: Data Loaded? Yes\n",
      "QKF: Data Loaded? Yes\n",
      "AKF: Data Loaded? Yes\n",
      "LKFFB: Data Loaded? Yes\n",
      "QKF: Data Loaded? Yes\n"
     ]
    }
   ],
   "source": [
    "runs = 100\n",
    "true_rk_quant = 0.001**2\n",
    "p0init = 10000 \n",
    "\n",
    "######## True Process Noise Strength\n",
    "true_oe = 0.1\n",
    "######## True Msmt Noise Strength\n",
    "true_rk = 0.1**2\n",
    "####\n",
    "\n",
    "mean_noise = 0.5*np.pi\n",
    "burn_in = 500\n",
    "\n",
    "ensemble_x = np.zeros((len(variation_scan), runs,  2050))\n",
    "ensemble_z = np.zeros((len(variation_scan), runs, 2050))\n",
    "ensemble_crlb = np.zeros((len(variation_scan), runs, 2050))\n",
    "ensemble_err = np.zeros((len(variation_scan), runs, 2050))\n",
    "ensemble_crlb_coinflip = np.zeros((len(variation_scan), runs, 2050))\n",
    "\n",
    "for idx_var in xrange(len(variation_scan)):\n",
    "    \n",
    "    experiment = 0\n",
    "    experiment = LoadExperiment(test_case, variation_scan[idx_var], \n",
    "                                QKF_load='Yes',\n",
    "                                QKF_path=datapath2,\n",
    "                                LKFFB_load ='Yes',\n",
    "                                LKFFB_path=datapath2,\n",
    "                                LSF_load='No',\n",
    "                                AKF_load='Yes', \n",
    "                                AKF_path=datapath2,\n",
    "                                GPRP_load='No')\n",
    "\n",
    "    shape = experiment.AKF_macro_truth.shape\n",
    "    # truth_bank = experiment.AKF_macro_truth.reshape(shape[0]*shape[1], shape[2])\n",
    "\n",
    "    indices, srtd_risk, srtd_sigma, srtd_R = analyse_kalman_errs(experiment.QKF_macro_prediction_errors,\n",
    "                                                                 experiment.QKF_random_hyperparams_list,\n",
    "                                                                 50)\n",
    "    order = experiment.AKF_weights.shape[0]\n",
    "    dynamical_model = get_autoreg_model(order, experiment.AKF_weights)\n",
    "\n",
    "    for idx_runs in xrange(runs):\n",
    "        \n",
    "        # true_x = truth_bank[idx_runs, :] + mean_noise \n",
    "        \n",
    "        x_init = np.random.uniform(low=-0.5*np.pi, high=0.5*np.pi, size=order)\n",
    "        true_x = generate_AR(x_init, 2050 + burn_in, experiment.AKF_weights, true_oe)[burn_in:] + mean_noise \n",
    "        \n",
    "        # f_n_dataset = true_x + experiment.AKF_msmt_noise_variance*np.random.standard_normal(true_x.shape)\n",
    "        \n",
    "        f_n_dataset = true_x + true_rk*np.random.standard_normal(true_x.shape)\n",
    "        noisy_z_ = noisy_z( f_n_dataset, true_rk_quant) # z is mean zero\n",
    "        y_signal = projected_msmt(noisy_z_)\n",
    "\n",
    "        predictions, W, x_hat, P_hat, err_true_dynamics = qif('AKFdynamics', y_signal, \n",
    "                                                                          experiment.AKF_weights, \n",
    "                                                                          true_oe, \n",
    "                                                                          true_rk,\n",
    "                                                                          n_train=2000, \n",
    "                                                                          n_testbefore=50, \n",
    "                                                                          n_predict=50, \n",
    "                                                                          p0=p0init, skip_msmts=1,  save='No')\n",
    "        ensemble_x[idx_var, idx_runs, :] = x_hat[0,0,:]\n",
    "        ensemble_z[idx_var, idx_runs, :] = noisy_z(x_hat[0,0,:], 0.0)\n",
    "        ensemble_err[idx_var, idx_runs, :] = err_true_dynamics\n",
    "\n",
    "        ensemble_crlb[idx_var, idx_runs, :] = inverse_Ricatti_recursion(true_x, \n",
    "                                              noisy_z(true_x, 0.0), \n",
    "                                              true_oe, true_rk, \n",
    "                                              dynamical_model, time_steps=2050, p0=1./p0init)\n",
    "        \n",
    "        ensemble_crlb_coinflip[idx_var, idx_runs, :] = inverse_Ricatti_recursion_coinflip(true_x, \n",
    "                                              noisy_z(true_x, 0.0), \n",
    "                                              true_oe, true_rk, \n",
    "                                              dynamical_model, time_steps=2050, p0=1./p0init)"
   ]
  },
  {
   "cell_type": "code",
   "execution_count": 64,
   "metadata": {
    "collapsed": false
   },
   "outputs": [
    {
     "data": {
      "image/png": "[encoded data removed]",
      "text/plain": [
       "<matplotlib.figure.Figure at 0x7f27b5362610>"
      ]
     },
     "metadata": {},
     "output_type": "display_data"
    }
   ],
   "source": [
    "COLOR = ['k', 'slateblue', 'darkgreen', 'maroon']\n",
    "LABELS = ['0.2', '0.4', '0.6', '0.8']\n",
    "\n",
    "gs = gridspec.GridSpec(2,1,\n",
    "                       left=0.2, right=0.985, \n",
    "                       top=0.92, bottom=0.15, \n",
    "                       wspace=0.03, hspace=0.1)\n",
    "\n",
    "fig = plt.figure(figsize=(cm2inch(8.6),cm2inch(8.)))\n",
    "\n",
    "ax_0 = fig.add_subplot(gs[1, 0])\n",
    "ax_1 = fig.add_subplot(gs[0, 0])\n",
    "# ax_1 = fig.add_axes([0.72, 0.22, 0.11, 0.09]) \n",
    "\n",
    "\n",
    "for idx_var in xrange(len(variation_scan)):\n",
    "\n",
    "    ax_0.plot(range(-1900, 50), np.mean(ensemble_crlb_coinflip, axis=1)[idx_var, 100::1]/np.mean(ensemble_crlb, axis=1)[idx_var, 100::1], \n",
    "             '-', c=COLOR[idx_var], alpha=0.65, label=LABELS[idx_var])\n",
    "    \n",
    "ax_1.plot(range(-1900, 50), 1./np.mean(ensemble_crlb_coinflip, axis=1)[0, 100::1], '-', \n",
    "           c=COLOR[0], alpha=1.0, label='Coinflip')\n",
    "ax_1.plot(range(-1900, 50), 1./np.mean(ensemble_crlb, axis=1)[0, 100::1], ':', \n",
    "            c=COLOR[0], alpha=0.5, label='Classical')\n",
    "\n",
    "\n",
    "for ax in [ax_0, ax_1]:\n",
    "    ax.set_yscale('linear')\n",
    "    ax.set_xscale('linear')\n",
    "#     ax.yaxis.set_major_formatter(FormatStrFormatter('%.0f'))\n",
    "#     ax.yaxis.set_minor_formatter(FormatStrFormatter('%.0f'))   \n",
    "    ax.tick_params(direction='in', which='both')\n",
    "    ax = set_font_sizes(ax, fsize, Fsize)\n",
    "#     ax.yaxis.set_major_locator(ticker.LogLocator(base=10, numticks=2))\n",
    "#     ax.set_ylim([0.1, 10])\n",
    "#     ax.set_xlim([0.5, 50])\n",
    "\n",
    "ax_1.set(xticklabels='')\n",
    "ax_1.minorticks_off()\n",
    "ax_1.legend(loc=0)\n",
    "\n",
    "plt.savefig('CRLB.svg', dpi=my_dpi)\n",
    "plt.show()"
   ]
  },
  {
   "cell_type": "code",
   "execution_count": 69,
   "metadata": {
    "collapsed": false
   },
   "outputs": [
    {
     "data": {
      "image/png": "[encoded data removed]",
      "text/plain": [
       "<matplotlib.figure.Figure at 0x7f27b5014410>"
      ]
     },
     "metadata": {},
     "output_type": "display_data"
    }
   ],
   "source": [
    "COLOR = ['k', 'slateblue', 'darkgreen', 'maroon']\n",
    "LABELS = ['0.2', '0.4', '0.6', '0.8']\n",
    "\n",
    "plt.figure()\n",
    "for idx_var in xrange(1):\n",
    "    \n",
    "# Residuals\n",
    "#     plt.plot(np.mean(ensemble_err**2, axis=1)[idx_var, 100::1], '--', \n",
    "#              c=COLOR[idx_var], alpha=0.5, label=idx_var)\n",
    "\n",
    "# Residuals * Fisher Info\n",
    "    # normalise error trains by multiplying with P^-1 from information filtering recursion.\n",
    "    # absolute trajectories for CRLB or error trains don't make sense across cases due to the scaling differences\n",
    "    # in how noise traces are generated for different spectral components\n",
    "\n",
    "\n",
    "    plt.plot(range(100, 2050), np.mean(ensemble_err**2, axis=1)[idx_var, 100::1], '-.', \n",
    "             c=COLOR[idx_var], alpha=0.25, label=idx_var)\n",
    "\n",
    "\n",
    "    plt.plot(range(100, 2050), 1./np.mean(ensemble_crlb, axis=1)[idx_var, 100::1], '-.', \n",
    "               c=COLOR[idx_var], alpha=0.25, label='CRLB - Classical Quantisation')\n",
    "    \n",
    "#     plt.plot(range(100, 2050), 1./np.mean(ensemble_crlb_coinflip, axis=1)[idx_var, 100::1], '-', \n",
    "#            c=COLOR[idx_var], alpha=0.25, label=idx_var)\n",
    "    \n",
    "    \n",
    "#     plt.plot(range(-1900, 50), np.mean(ensemble_crlb_coinflip, axis=1)[idx_var, 100::1]/np.mean(ensemble_crlb, axis=1)[idx_var, 100::1], \n",
    "#              '-', \n",
    "#             c=COLOR[idx_var], alpha=0.25, label=LABELS[idx_var])\n",
    "    \n",
    "    plt.plot(range(100, 2050), 1./np.mean(ensemble_crlb_coinflip, axis=1)[idx_var, 100::1], '-', \n",
    "           c=COLOR[idx_var], alpha=0.25, label=idx_var)\n",
    "    \n",
    "#     plt.ylim([0.001, 1. ])\n",
    "    plt.yscale('log')\n",
    "    # plt.xscale('log')\n",
    "#     plt.legend(loc=5)\n",
    "    \n",
    "#plt.savefig('CRLB.svg', dpi=my_dpi)\n",
    "plt.show()"
   ]
  },
  {
   "cell_type": "code",
   "execution_count": 5,
   "metadata": {
    "collapsed": false
   },
   "outputs": [
    {
     "data": {
      "text/plain": [
       "u'/home/riddhisw/Documents/2017/Scripts_Git/v0/TEST_SCRIPTS_v0/QIF'"
      ]
     },
     "execution_count": 5,
     "metadata": {},
     "output_type": "execute_result"
    }
   ],
   "source": [
    "pwd"
   ]
  },
  {
   "cell_type": "code",
   "execution_count": null,
   "metadata": {
    "collapsed": true
   },
   "outputs": [],
   "source": []
  }
 ],
 "metadata": {
  "kernelspec": {
   "display_name": "Python 2",
   "language": "python",
   "name": "python2"
  },
  "language_info": {
   "codemirror_mode": {
    "name": "ipython",
    "version": 2
   },
   "file_extension": ".py",
   "mimetype": "text/x-python",
   "name": "python",
   "nbconvert_exporter": "python",
   "pygments_lexer": "ipython2",
   "version": "2.7.13"
  }
 },
 "nbformat": 4,
 "nbformat_minor": 2
}
