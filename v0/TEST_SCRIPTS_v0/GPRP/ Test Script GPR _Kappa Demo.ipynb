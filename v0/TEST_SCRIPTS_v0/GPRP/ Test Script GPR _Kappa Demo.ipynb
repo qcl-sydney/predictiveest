{
 "cells": [
  {
   "cell_type": "code",
   "execution_count": 1,
   "metadata": {
    "collapsed": false
   },
   "outputs": [
    {
     "name": "stderr",
     "output_type": "stream",
     "text": [
      "/home/riddhisw/anaconda2/lib/python2.7/site-packages/matplotlib/lines.py:1206: FutureWarning: comparison to `None` will result in an elementwise object comparison in the future.\n",
      "  if self._markerfacecolor != fc:\n",
      "/home/riddhisw/anaconda2/lib/python2.7/site-packages/matplotlib/lines.py:1182: FutureWarning: comparison to `None` will result in an elementwise object comparison in the future.\n",
      "  if self._markeredgecolor != ec:\n"
     ]
    }
   ],
   "source": [
    "import sys \n",
    "sys.path.append('../../../')\n",
    "from plot_tools.fig_preamble import * # imports numpy, matplotlib, Py2PDF, plot_helper_funcs, plot_figstyle_sheet\n",
    "import GPy"
   ]
  },
  {
   "cell_type": "code",
   "execution_count": 2,
   "metadata": {
    "collapsed": false
   },
   "outputs": [],
   "source": [
    "from gpr.common import get_data, simple_unlearnable_sine\n",
    "from data_tools.load_raw_cluster_data import LoadExperiment as le\n",
    "from plot_tools.plot_figstyle_sheet import color_pallete, predmarker, COLOURDICT, STYLEDICT"
   ]
  },
  {
   "cell_type": "markdown",
   "metadata": {},
   "source": [
    "I also set up filepaths for saving data"
   ]
  },
  {
   "cell_type": "code",
   "execution_count": 3,
   "metadata": {
    "collapsed": true
   },
   "outputs": [],
   "source": [
    "ver=0\n",
    "datapath = '../../DATA_v'+str(ver)+'_/' #v'+str(ver)+'/DATA_v'+str(ver)+'/'\n",
    "datafile = 'GPR_kappa_demo2'"
   ]
  },
  {
   "cell_type": "code",
   "execution_count": 4,
   "metadata": {
    "collapsed": false
   },
   "outputs": [],
   "source": [
    "# Set experimental parameters\n",
    "n_train = 2000\n",
    "Delta_T = 0.001\n",
    "n_predict = 150\n",
    "n_testbefore=50"
   ]
  },
  {
   "cell_type": "code",
   "execution_count": 5,
   "metadata": {
    "collapsed": true
   },
   "outputs": [],
   "source": [
    "# Set initial starting values for L-BFGS-B OPtimiser in GPy\n",
    "sigma_0 = 1.0\n",
    "R_0 =  1.0"
   ]
  },
  {
   "cell_type": "code",
   "execution_count": 6,
   "metadata": {
    "collapsed": true
   },
   "outputs": [],
   "source": [
    "# Set length scale and periodicity initial values for L-BFGS-B OPtimiser in GPy\n",
    "length_scale_0 = 3.0*Delta_T\n",
    "period_0 = 2000.0"
   ]
  },
  {
   "cell_type": "markdown",
   "metadata": {},
   "source": [
    "We now implement (a) manual constraints on noise variances and periodicities and (b) optimalised noise variances but constrained periodicities."
   ]
  },
  {
   "cell_type": "code",
   "execution_count": 7,
   "metadata": {
    "collapsed": false
   },
   "outputs": [],
   "source": [
    "true_freq = (9., 10.)\n",
    "noise_variances = ((sigma_0, R_0) , (10.0, 10.0))\n",
    "noiselabel= ['No Opt.', 'Opt.']\n",
    "periodicities = ((2000, 2001), (5000., 5001.))\n",
    "offsets = [int(n_train- periodicities[idx_x][0]) for idx_x in xrange(len(periodicities))]\n"
   ]
  },
  {
   "cell_type": "code",
   "execution_count": 8,
   "metadata": {
    "collapsed": false
   },
   "outputs": [],
   "source": [
    "pred_list= np.zeros((len(true_freq),len(periodicities), len(noise_variances), n_predict+n_testbefore))\n",
    "truth_list=np.zeros((len(true_freq),len(periodicities), len(noise_variances), n_predict+n_train))"
   ]
  },
  {
   "cell_type": "code",
   "execution_count": 9,
   "metadata": {
    "collapsed": false,
    "scrolled": false
   },
   "outputs": [
    {
     "name": "stdout",
     "output_type": "stream",
     "text": [
      "Fourier resolution at training 0.5\n",
      "True Frequency is 3.0\n"
     ]
    },
    {
     "name": "stderr",
     "output_type": "stream",
     "text": [
      " ../../../gpr/common.py:97: VisibleDeprecationWarning:using a non-integer number instead of an integer will result in an error in the future\n",
      " ../../../gpr/common.py:98: VisibleDeprecationWarning:using a non-integer number instead of an integer will result in an error in the future\n"
     ]
    },
    {
     "name": "stdout",
     "output_type": "stream",
     "text": [
      "WARNING: reconstraining parameters gp.std_periodic.period\n",
      "('Commence GPRP for:', 0, 0, 0)\n",
      "\n",
      "Name : gp\n",
      "Objective : 2346.85401697\n",
      "Number of Parameters : 4\n",
      "Number of Optimization Parameters : 4\n",
      "Updates : True\n",
      "Parameters:\n",
      "  \u001b[1mgp.                     \u001b[0;0m  |   value  |   constraints   |  priors\n",
      "  \u001b[1mstd_periodic.variance   \u001b[0;0m  |     1.0  |       +ve       |        \n",
      "  \u001b[1mstd_periodic.period     \u001b[0;0m  |  2000.0  |  2000.0,2001.0  |        \n",
      "  \u001b[1mstd_periodic.lengthscale\u001b[0;0m  |   0.003  |       +ve       |        \n",
      "  \u001b[1mGaussian_noise.variance \u001b[0;0m  |     1.0  |       +ve       |        \n",
      "Succeed - optimised params are\n",
      "\n",
      "Name : gp\n",
      "Objective : 2346.85401697\n",
      "Number of Parameters : 4\n",
      "Number of Optimization Parameters : 4\n",
      "Updates : True\n",
      "Parameters:\n",
      "  \u001b[1mgp.                     \u001b[0;0m  |   value  |   constraints   |  priors\n",
      "  \u001b[1mstd_periodic.variance   \u001b[0;0m  |     1.0  |       +ve       |        \n",
      "  \u001b[1mstd_periodic.period     \u001b[0;0m  |  2000.0  |  2000.0,2001.0  |        \n",
      "  \u001b[1mstd_periodic.lengthscale\u001b[0;0m  |   0.003  |       +ve       |        \n",
      "  \u001b[1mGaussian_noise.variance \u001b[0;0m  |     1.0  |       +ve       |        \n",
      "WARNING: reconstraining parameters gp.std_periodic.period\n",
      "WARNING: reconstraining parameters gp.std_periodic.variance\n",
      "WARNING: reconstraining parameters gp.Gaussian_noise.variance\n",
      "('Commence GPRP for:', 0, 0, 1)\n",
      "\n",
      "Name : gp\n",
      "Objective : 2346.85401697\n",
      "Number of Parameters : 4\n",
      "Number of Optimization Parameters : 4\n",
      "Updates : True\n",
      "Parameters:\n",
      "  \u001b[1mgp.                     \u001b[0;0m  |   value  |   constraints   |  priors\n",
      "  \u001b[1mstd_periodic.variance   \u001b[0;0m  |     1.0  |    0.0,10.0     |        \n",
      "  \u001b[1mstd_periodic.period     \u001b[0;0m  |  2000.0  |  2000.0,2001.0  |        \n",
      "  \u001b[1mstd_periodic.lengthscale\u001b[0;0m  |   0.003  |       +ve       |        \n",
      "  \u001b[1mGaussian_noise.variance \u001b[0;0m  |     1.0  |    0.0,10.0     |        \n",
      "Succeed - optimised params are\n",
      "\n",
      "Name : gp\n",
      "Objective : -16288.3837222\n",
      "Number of Parameters : 4\n",
      "Number of Optimization Parameters : 4\n",
      "Updates : True\n",
      "Parameters:\n",
      "  \u001b[1mgp.                     \u001b[0;0m  |              value  |   constraints   |  priors\n",
      "  \u001b[1mstd_periodic.variance   \u001b[0;0m  |      9.99995654997  |    0.0,10.0     |        \n",
      "  \u001b[1mstd_periodic.period     \u001b[0;0m  |             2000.0  |  2000.0,2001.0  |        \n",
      "  \u001b[1mstd_periodic.lengthscale\u001b[0;0m  |     0.293619196642  |       +ve       |        \n",
      "  \u001b[1mGaussian_noise.variance \u001b[0;0m  |  2.49804032483e-18  |    0.0,10.0     |        \n",
      "Warning: changing parameters to satisfy constraints\n",
      "WARNING: reconstraining parameters gp.std_periodic.period\n",
      "('Commence GPRP for:', 0, 1, 0)\n",
      "\n",
      "Name : gp\n",
      "Objective : 2164.14000159\n",
      "Number of Parameters : 4\n",
      "Number of Optimization Parameters : 4\n",
      "Updates : True\n",
      "Parameters:\n",
      "  \u001b[1mgp.                     \u001b[0;0m  |   value  |   constraints   |  priors\n",
      "  \u001b[1mstd_periodic.variance   \u001b[0;0m  |     1.0  |       +ve       |        \n",
      "  \u001b[1mstd_periodic.period     \u001b[0;0m  |  5000.5  |  5000.0,5001.0  |        \n",
      "  \u001b[1mstd_periodic.lengthscale\u001b[0;0m  |   0.003  |       +ve       |        \n",
      "  \u001b[1mGaussian_noise.variance \u001b[0;0m  |     1.0  |       +ve       |        \n",
      "Succeed - optimised params are\n",
      "\n",
      "Name : gp\n",
      "Objective : 2164.14000159\n",
      "Number of Parameters : 4\n",
      "Number of Optimization Parameters : 4\n",
      "Updates : True\n",
      "Parameters:\n",
      "  \u001b[1mgp.                     \u001b[0;0m  |   value  |   constraints   |  priors\n",
      "  \u001b[1mstd_periodic.variance   \u001b[0;0m  |     1.0  |       +ve       |        \n",
      "  \u001b[1mstd_periodic.period     \u001b[0;0m  |  5000.5  |  5000.0,5001.0  |        \n",
      "  \u001b[1mstd_periodic.lengthscale\u001b[0;0m  |   0.003  |       +ve       |        \n",
      "  \u001b[1mGaussian_noise.variance \u001b[0;0m  |     1.0  |       +ve       |        \n",
      "Warning: changing parameters to satisfy constraints\n",
      "WARNING: reconstraining parameters gp.std_periodic.period\n",
      "WARNING: reconstraining parameters gp.std_periodic.variance\n",
      "WARNING: reconstraining parameters gp.Gaussian_noise.variance\n",
      "('Commence GPRP for:', 0, 1, 1)\n",
      "\n",
      "Name : gp\n",
      "Objective : 2164.14000159\n",
      "Number of Parameters : 4\n",
      "Number of Optimization Parameters : 4\n",
      "Updates : True\n",
      "Parameters:\n",
      "  \u001b[1mgp.                     \u001b[0;0m  |   value  |   constraints   |  priors\n",
      "  \u001b[1mstd_periodic.variance   \u001b[0;0m  |     1.0  |    0.0,10.0     |        \n",
      "  \u001b[1mstd_periodic.period     \u001b[0;0m  |  5000.5  |  5000.0,5001.0  |        \n",
      "  \u001b[1mstd_periodic.lengthscale\u001b[0;0m  |   0.003  |       +ve       |        \n",
      "  \u001b[1mGaussian_noise.variance \u001b[0;0m  |     1.0  |    0.0,10.0     |        \n",
      "Succeed - optimised params are\n",
      "\n",
      "Name : gp\n",
      "Objective : -16269.1094624\n",
      "Number of Parameters : 4\n",
      "Number of Optimization Parameters : 4\n",
      "Updates : True\n",
      "Parameters:\n",
      "  \u001b[1mgp.                     \u001b[0;0m  |              value  |   constraints   |  priors\n",
      "  \u001b[1mstd_periodic.variance   \u001b[0;0m  |      9.99998159077  |    0.0,10.0     |        \n",
      "  \u001b[1mstd_periodic.period     \u001b[0;0m  |       5000.5003845  |  5000.0,5001.0  |        \n",
      "  \u001b[1mstd_periodic.lengthscale\u001b[0;0m  |     0.107791573617  |       +ve       |        \n",
      "  \u001b[1mGaussian_noise.variance \u001b[0;0m  |  4.24944746827e-16  |    0.0,10.0     |        \n",
      "Fourier resolution at training 0.5\n",
      "True Frequency is 3.33333333333\n",
      "WARNING: reconstraining parameters gp.std_periodic.period\n",
      "('Commence GPRP for:', 1, 0, 0)\n",
      "\n",
      "Name : gp\n",
      "Objective : 2343.37830465\n",
      "Number of Parameters : 4\n",
      "Number of Optimization Parameters : 4\n",
      "Updates : True\n",
      "Parameters:\n",
      "  \u001b[1mgp.                     \u001b[0;0m  |   value  |   constraints   |  priors\n",
      "  \u001b[1mstd_periodic.variance   \u001b[0;0m  |     1.0  |       +ve       |        \n",
      "  \u001b[1mstd_periodic.period     \u001b[0;0m  |  2000.0  |  2000.0,2001.0  |        \n",
      "  \u001b[1mstd_periodic.lengthscale\u001b[0;0m  |   0.003  |       +ve       |        \n",
      "  \u001b[1mGaussian_noise.variance \u001b[0;0m  |     1.0  |       +ve       |        \n",
      "Succeed - optimised params are\n",
      "\n",
      "Name : gp\n",
      "Objective : 2343.37830465\n",
      "Number of Parameters : 4\n",
      "Number of Optimization Parameters : 4\n",
      "Updates : True\n",
      "Parameters:\n",
      "  \u001b[1mgp.                     \u001b[0;0m  |   value  |   constraints   |  priors\n",
      "  \u001b[1mstd_periodic.variance   \u001b[0;0m  |     1.0  |       +ve       |        \n",
      "  \u001b[1mstd_periodic.period     \u001b[0;0m  |  2000.0  |  2000.0,2001.0  |        \n",
      "  \u001b[1mstd_periodic.lengthscale\u001b[0;0m  |   0.003  |       +ve       |        \n",
      "  \u001b[1mGaussian_noise.variance \u001b[0;0m  |     1.0  |       +ve       |        \n",
      "WARNING: reconstraining parameters gp.std_periodic.period\n",
      "WARNING: reconstraining parameters gp.std_periodic.variance\n",
      "WARNING: reconstraining parameters gp.Gaussian_noise.variance\n",
      "('Commence GPRP for:', 1, 0, 1)\n",
      "\n",
      "Name : gp\n",
      "Objective : 2343.37830465\n",
      "Number of Parameters : 4\n",
      "Number of Optimization Parameters : 4\n",
      "Updates : True\n",
      "Parameters:\n",
      "  \u001b[1mgp.                     \u001b[0;0m  |   value  |   constraints   |  priors\n",
      "  \u001b[1mstd_periodic.variance   \u001b[0;0m  |     1.0  |    0.0,10.0     |        \n",
      "  \u001b[1mstd_periodic.period     \u001b[0;0m  |  2000.0  |  2000.0,2001.0  |        \n",
      "  \u001b[1mstd_periodic.lengthscale\u001b[0;0m  |   0.003  |       +ve       |        \n",
      "  \u001b[1mGaussian_noise.variance \u001b[0;0m  |     1.0  |    0.0,10.0     |        \n",
      "Succeed - optimised params are\n",
      "\n",
      "Name : gp\n",
      "Objective : -5012.85911549\n",
      "Number of Parameters : 4\n",
      "Number of Optimization Parameters : 4\n",
      "Updates : True\n",
      "Parameters:\n",
      "  \u001b[1mgp.                     \u001b[0;0m  |              value  |   constraints   |  priors\n",
      "  \u001b[1mstd_periodic.variance   \u001b[0;0m  |     0.225041228455  |    0.0,10.0     |        \n",
      "  \u001b[1mstd_periodic.period     \u001b[0;0m  |             2000.0  |  2000.0,2001.0  |        \n",
      "  \u001b[1mstd_periodic.lengthscale\u001b[0;0m  |   0.00987793173114  |       +ve       |        \n",
      "  \u001b[1mGaussian_noise.variance \u001b[0;0m  |  7.29501510448e-05  |    0.0,10.0     |        \n",
      "Warning: changing parameters to satisfy constraints\n",
      "WARNING: reconstraining parameters gp.std_periodic.period\n",
      "('Commence GPRP for:', 1, 1, 0)\n",
      "\n",
      "Name : gp\n",
      "Objective : 2164.52171975\n",
      "Number of Parameters : 4\n",
      "Number of Optimization Parameters : 4\n",
      "Updates : True\n",
      "Parameters:\n",
      "  \u001b[1mgp.                     \u001b[0;0m  |   value  |   constraints   |  priors\n",
      "  \u001b[1mstd_periodic.variance   \u001b[0;0m  |     1.0  |       +ve       |        \n",
      "  \u001b[1mstd_periodic.period     \u001b[0;0m  |  5000.5  |  5000.0,5001.0  |        \n",
      "  \u001b[1mstd_periodic.lengthscale\u001b[0;0m  |   0.003  |       +ve       |        \n",
      "  \u001b[1mGaussian_noise.variance \u001b[0;0m  |     1.0  |       +ve       |        \n",
      "Succeed - optimised params are\n",
      "\n",
      "Name : gp\n",
      "Objective : 2164.52171975\n",
      "Number of Parameters : 4\n",
      "Number of Optimization Parameters : 4\n",
      "Updates : True\n",
      "Parameters:\n",
      "  \u001b[1mgp.                     \u001b[0;0m  |   value  |   constraints   |  priors\n",
      "  \u001b[1mstd_periodic.variance   \u001b[0;0m  |     1.0  |       +ve       |        \n",
      "  \u001b[1mstd_periodic.period     \u001b[0;0m  |  5000.5  |  5000.0,5001.0  |        \n",
      "  \u001b[1mstd_periodic.lengthscale\u001b[0;0m  |   0.003  |       +ve       |        \n",
      "  \u001b[1mGaussian_noise.variance \u001b[0;0m  |     1.0  |       +ve       |        \n",
      "Warning: changing parameters to satisfy constraints\n",
      "WARNING: reconstraining parameters gp.std_periodic.period\n",
      "WARNING: reconstraining parameters gp.std_periodic.variance\n",
      "WARNING: reconstraining parameters gp.Gaussian_noise.variance\n",
      "('Commence GPRP for:', 1, 1, 1)\n",
      "\n",
      "Name : gp\n",
      "Objective : 2164.52171975\n",
      "Number of Parameters : 4\n",
      "Number of Optimization Parameters : 4\n",
      "Updates : True\n",
      "Parameters:\n",
      "  \u001b[1mgp.                     \u001b[0;0m  |   value  |   constraints   |  priors\n",
      "  \u001b[1mstd_periodic.variance   \u001b[0;0m  |     1.0  |    0.0,10.0     |        \n",
      "  \u001b[1mstd_periodic.period     \u001b[0;0m  |  5000.5  |  5000.0,5001.0  |        \n",
      "  \u001b[1mstd_periodic.lengthscale\u001b[0;0m  |   0.003  |       +ve       |        \n",
      "  \u001b[1mGaussian_noise.variance \u001b[0;0m  |     1.0  |    0.0,10.0     |        \n",
      "Succeed - optimised params are\n",
      "\n",
      "Name : gp\n",
      "Objective : -16242.177548\n",
      "Number of Parameters : 4\n",
      "Number of Optimization Parameters : 4\n",
      "Updates : True\n",
      "Parameters:\n",
      "  \u001b[1mgp.                     \u001b[0;0m  |              value  |   constraints   |  priors\n",
      "  \u001b[1mstd_periodic.variance   \u001b[0;0m  |      9.99998472037  |    0.0,10.0     |        \n",
      "  \u001b[1mstd_periodic.period     \u001b[0;0m  |      5000.50797174  |  5000.0,5001.0  |        \n",
      "  \u001b[1mstd_periodic.lengthscale\u001b[0;0m  |    0.0967062509727  |       +ve       |        \n",
      "  \u001b[1mGaussian_noise.variance \u001b[0;0m  |  6.72467467292e-15  |    0.0,10.0     |        \n"
     ]
    }
   ],
   "source": [
    "\n",
    "for idx_freq in xrange(len(true_freq)): \n",
    "\n",
    "    X, Y, TestX, truth, msmts = simple_unlearnable_sine(nt=n_train, delta_t = Delta_T, \n",
    "                                                        f0 = true_freq[idx_freq], \n",
    "                                                        testpts=n_predict, randomise='y')\n",
    "    \n",
    "    for idx_per in xrange(len(periodicities)): \n",
    "       \n",
    "        \n",
    "        for idx_noise in xrange(len(noise_variances)): \n",
    "        \n",
    "        \n",
    "            # Reset\n",
    "            kernel_per=0\n",
    "            gauss=0\n",
    "            exact=0\n",
    "            m1=0\n",
    "            \n",
    "            # Store truth (even if its deterministic, helps with plotting)\n",
    "            truth_list[idx_freq, idx_per, idx_noise, :] = truth\n",
    "            \n",
    "            # Built model\n",
    "            kernel_per = GPy.kern.StdPeriodic(1, period=period_0, variance=sigma_0, \n",
    "                                              lengthscale=length_scale_0)\n",
    "            gauss = GPy.likelihoods.Gaussian(variance=R_0)\n",
    "            exact = GPy.inference.latent_function_inference.ExactGaussianInference()\n",
    "            m1 = GPy.core.GP(X=X, Y=Y, kernel=kernel_per, likelihood=gauss, inference_method=exact)\n",
    "\n",
    "            # Add constraints\n",
    "            m1.std_periodic.period.constrain_bounded(periodicities[idx_per][0], periodicities[idx_per][1])\n",
    "            if idx_noise != 0:\n",
    "                m1.std_periodic.variance.constrain_bounded(0, noise_variances[idx_noise][0])\n",
    "                m1.Gaussian_noise.variance.constrain_bounded(0, noise_variances[idx_noise][0])\n",
    "            \n",
    "            print(\"Commence GPRP for:\", idx_freq, idx_per, idx_noise)\n",
    "            print(m1)\n",
    "            \n",
    "            # Try optimise\n",
    "            try:\n",
    "                if idx_noise != 0:\n",
    "                    m1.optimize(optimizer=None, messages=False)  # no pref optimiser\n",
    "                pred_list[idx_freq, idx_per, idx_noise, :] = m1.predict(TestX)[0].flatten()\n",
    "                print(\"Succeed - optimised params are\")\n",
    "                print(m1)\n",
    "        \n",
    "            except:\n",
    "                print(\"Failed\", idx_freq, idx_per, idx_noise)\n",
    "        "
   ]
  },
  {
   "cell_type": "code",
   "execution_count": 10,
   "metadata": {
    "collapsed": false
   },
   "outputs": [],
   "source": [
    "np.savez(datapath+datafile, \n",
    "         pred_list=pred_list,\n",
    "         truth_list=truth_list,\n",
    "         n_train=n_train,\n",
    "         n_predict=n_predict,\n",
    "         n_testbefore=n_testbefore,\n",
    "         sigma_0=sigma_0,\n",
    "         R_0=R_0,\n",
    "         true_freq=true_freq,\n",
    "         noise_variances=noise_variances,\n",
    "         periodicities=periodicities,\n",
    "         offsets=offsets)"
   ]
  },
  {
   "cell_type": "code",
   "execution_count": null,
   "metadata": {
    "collapsed": true
   },
   "outputs": [],
   "source": []
  }
 ],
 "metadata": {
  "kernelspec": {
   "display_name": "Python 2",
   "language": "python",
   "name": "python2"
  },
  "language_info": {
   "codemirror_mode": {
    "name": "ipython",
    "version": 2
   },
   "file_extension": ".py",
   "mimetype": "text/x-python",
   "name": "python",
   "nbconvert_exporter": "python",
   "pygments_lexer": "ipython2",
   "version": "2.7.13"
  }
 },
 "nbformat": 4,
 "nbformat_minor": 2
}
