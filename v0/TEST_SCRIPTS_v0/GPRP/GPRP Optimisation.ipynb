{
 "cells": [
  {
   "cell_type": "code",
   "execution_count": 1,
   "metadata": {
    "collapsed": false
   },
   "outputs": [
    {
     "data": {
      "text/plain": [
       "u'/home/riddhisw/Documents/2017/Scripts_Git/v0/TEST_SCRIPTS_v0/GPRP'"
      ]
     },
     "execution_count": 1,
     "metadata": {},
     "output_type": "execute_result"
    }
   ],
   "source": [
    "pwd"
   ]
  },
  {
   "cell_type": "code",
   "execution_count": null,
   "metadata": {
    "collapsed": true
   },
   "outputs": [],
   "source": [
    "import sys \n",
    "sys.path.append('../../../')"
   ]
  },
  {
   "cell_type": "code",
   "execution_count": 3,
   "metadata": {
    "collapsed": false
   },
   "outputs": [],
   "source": [
    "from gpr.GPRP_risk_analysis import GPRPOptimisation as gpropt"
   ]
  },
  {
   "cell_type": "code",
   "execution_count": 4,
   "metadata": {
    "collapsed": true
   },
   "outputs": [],
   "source": [
    "test_case = 19\n",
    "variation = 1\n",
    "Sigma_Max= 10.\n",
    "R_Max = 15.\n",
    "LKFFBfilepath = '../../DATA_v0_/'\n",
    "GPRP_savetopath = '../../DATA_v0/'"
   ]
  },
  {
   "cell_type": "code",
   "execution_count": null,
   "metadata": {
    "collapsed": false
   },
   "outputs": [
    {
     "name": "stdout",
     "output_type": "stream",
     "text": [
      "LKFFB: Data Loaded? Yes\n"
     ]
    }
   ],
   "source": [
    "gprpobject = gpropt(test_case, variation, \n",
    "                 Sigma_Max, R_Max, \n",
    "                 LKFFBfilepath, GPRP_savetopath)"
   ]
  },
  {
   "cell_type": "code",
   "execution_count": null,
   "metadata": {
    "collapsed": false
   },
   "outputs": [
    {
     "name": "stderr",
     "output_type": "stream",
     "text": [
      " ../../../gpr/common.py:66: VisibleDeprecationWarning:using a non-integer number instead of an integer will result in an error in the future\n",
      " ../../../gpr/common.py:67: VisibleDeprecationWarning:using a non-integer number instead of an integer will result in an error in the future\n"
     ]
    },
    {
     "name": "stdout",
     "output_type": "stream",
     "text": [
      "WARNING: reconstraining parameters gp.std_periodic.variance\n",
      "WARNING: reconstraining parameters gp.Gaussian_noise.variance\n"
     ]
    },
    {
     "name": "stderr",
     "output_type": "stream",
     "text": [
      " /home/riddhisw/anaconda2/lib/python2.7/site-packages/paramz/transformations.py:109: RuntimeWarning:overflow encountered in expm1\n"
     ]
    },
    {
     "name": "stdout",
     "output_type": "stream",
     "text": [
      "WARNING: reconstraining parameters gp.std_periodic.variance\n",
      "WARNING: reconstraining parameters gp.Gaussian_noise.variance\n",
      "WARNING: reconstraining parameters gp.std_periodic.variance\n",
      "WARNING: reconstraining parameters gp.Gaussian_noise.variance\n",
      "WARNING: reconstraining parameters gp.std_periodic.variance\n",
      "WARNING: reconstraining parameters gp.Gaussian_noise.variance\n",
      "WARNING: reconstraining parameters gp.std_periodic.variance\n",
      "WARNING: reconstraining parameters gp.Gaussian_noise.variance\n",
      "WARNING: reconstraining parameters gp.std_periodic.variance\n",
      "WARNING: reconstraining parameters gp.Gaussian_noise.variance\n",
      "WARNING: reconstraining parameters gp.std_periodic.variance\n",
      "WARNING: reconstraining parameters gp.Gaussian_noise.variance\n",
      "WARNING: reconstraining parameters gp.std_periodic.variance\n",
      "WARNING: reconstraining parameters gp.Gaussian_noise.variance\n",
      "WARNING: reconstraining parameters gp.std_periodic.variance\n",
      "WARNING: reconstraining parameters gp.Gaussian_noise.variance\n",
      "WARNING: reconstraining parameters gp.std_periodic.variance\n",
      "WARNING: reconstraining parameters gp.Gaussian_noise.variance\n",
      "WARNING: reconstraining parameters gp.std_periodic.variance\n",
      "WARNING: reconstraining parameters gp.Gaussian_noise.variance\n",
      "WARNING: reconstraining parameters gp.std_periodic.variance\n",
      "WARNING: reconstraining parameters gp.Gaussian_noise.variance\n",
      "WARNING: reconstraining parameters gp.std_periodic.variance\n",
      "WARNING: reconstraining parameters gp.Gaussian_noise.variance\n",
      "WARNING: reconstraining parameters gp.std_periodic.variance\n",
      "WARNING: reconstraining parameters gp.Gaussian_noise.variance\n",
      "WARNING: reconstraining parameters gp.std_periodic.variance\n",
      "WARNING: reconstraining parameters gp.Gaussian_noise.variance\n",
      "WARNING: reconstraining parameters gp.std_periodic.variance\n",
      "WARNING: reconstraining parameters gp.Gaussian_noise.variance\n",
      "WARNING: reconstraining parameters gp.std_periodic.variance\n",
      "WARNING: reconstraining parameters gp.Gaussian_noise.variance\n",
      "WARNING: reconstraining parameters gp.std_periodic.variance\n",
      "WARNING: reconstraining parameters gp.Gaussian_noise.variance\n",
      "WARNING: reconstraining parameters gp.std_periodic.variance\n",
      "WARNING: reconstraining parameters gp.Gaussian_noise.variance\n",
      "WARNING: reconstraining parameters gp.std_periodic.variance\n",
      "WARNING: reconstraining parameters gp.Gaussian_noise.variance\n",
      "WARNING: reconstraining parameters gp.std_periodic.variance\n",
      "WARNING: reconstraining parameters gp.Gaussian_noise.variance\n",
      "WARNING: reconstraining parameters gp.std_periodic.variance\n",
      "WARNING: reconstraining parameters gp.Gaussian_noise.variance\n",
      "WARNING: reconstraining parameters gp.std_periodic.variance\n",
      "WARNING: reconstraining parameters gp.Gaussian_noise.variance\n",
      "WARNING: reconstraining parameters gp.std_periodic.variance\n",
      "WARNING: reconstraining parameters gp.Gaussian_noise.variance\n",
      "WARNING: reconstraining parameters gp.std_periodic.variance\n",
      "WARNING: reconstraining parameters gp.Gaussian_noise.variance\n",
      "WARNING: reconstraining parameters gp.std_periodic.variance\n",
      "WARNING: reconstraining parameters gp.Gaussian_noise.variance\n",
      "WARNING: reconstraining parameters gp.std_periodic.variance\n",
      "WARNING: reconstraining parameters gp.Gaussian_noise.variance\n",
      "WARNING: reconstraining parameters gp.std_periodic.variance\n",
      "WARNING: reconstraining parameters gp.Gaussian_noise.variance\n",
      "WARNING: reconstraining parameters gp.std_periodic.variance\n",
      "WARNING: reconstraining parameters gp.Gaussian_noise.variance\n",
      "WARNING: reconstraining parameters gp.std_periodic.variance\n",
      "WARNING: reconstraining parameters gp.Gaussian_noise.variance\n",
      "WARNING: reconstraining parameters gp.std_periodic.variance\n",
      "WARNING: reconstraining parameters gp.Gaussian_noise.variance\n",
      "WARNING: reconstraining parameters gp.std_periodic.variance\n",
      "WARNING: reconstraining parameters gp.Gaussian_noise.variance\n",
      "WARNING: reconstraining parameters gp.std_periodic.variance\n",
      "WARNING: reconstraining parameters gp.Gaussian_noise.variance\n",
      "WARNING: reconstraining parameters gp.std_periodic.variance\n",
      "WARNING: reconstraining parameters gp.Gaussian_noise.variance\n",
      "WARNING: reconstraining parameters gp.std_periodic.variance\n",
      "WARNING: reconstraining parameters gp.Gaussian_noise.variance\n",
      "WARNING: reconstraining parameters gp.std_periodic.variance\n",
      "WARNING: reconstraining parameters gp.Gaussian_noise.variance\n",
      "WARNING: reconstraining parameters gp.std_periodic.variance\n",
      "WARNING: reconstraining parameters gp.Gaussian_noise.variance\n",
      "WARNING: reconstraining parameters gp.std_periodic.variance\n",
      "WARNING: reconstraining parameters gp.Gaussian_noise.variance\n",
      "WARNING: reconstraining parameters gp.std_periodic.variance\n",
      "WARNING: reconstraining parameters gp.Gaussian_noise.variance\n",
      "WARNING: reconstraining parameters gp.std_periodic.variance\n",
      "WARNING: reconstraining parameters gp.Gaussian_noise.variance\n",
      "WARNING: reconstraining parameters gp.std_periodic.variance\n",
      "WARNING: reconstraining parameters gp.Gaussian_noise.variance\n",
      "WARNING: reconstraining parameters gp.std_periodic.variance\n",
      "WARNING: reconstraining parameters gp.Gaussian_noise.variance\n",
      "WARNING: reconstraining parameters gp.std_periodic.variance\n",
      "WARNING: reconstraining parameters gp.Gaussian_noise.variance\n",
      "WARNING: reconstraining parameters gp.std_periodic.variance\n",
      "WARNING: reconstraining parameters gp.Gaussian_noise.variance\n",
      "WARNING: reconstraining parameters gp.std_periodic.variance\n",
      "WARNING: reconstraining parameters gp.Gaussian_noise.variance\n",
      "WARNING: reconstraining parameters gp.std_periodic.variance\n",
      "WARNING: reconstraining parameters gp.Gaussian_noise.variance\n",
      "WARNING: reconstraining parameters gp.std_periodic.variance\n"
     ]
    }
   ],
   "source": [
    "output = gprpobject.make_GPR_PER()"
   ]
  },
  {
   "cell_type": "code",
   "execution_count": null,
   "metadata": {
    "collapsed": true
   },
   "outputs": [],
   "source": []
  }
 ],
 "metadata": {
  "kernelspec": {
   "display_name": "Python 2",
   "language": "python",
   "name": "python2"
  },
  "language_info": {
   "codemirror_mode": {
    "name": "ipython",
    "version": 2
   },
   "file_extension": ".py",
   "mimetype": "text/x-python",
   "name": "python",
   "nbconvert_exporter": "python",
   "pygments_lexer": "ipython2",
   "version": "2.7.13"
  }
 },
 "nbformat": 4,
 "nbformat_minor": 2
}
