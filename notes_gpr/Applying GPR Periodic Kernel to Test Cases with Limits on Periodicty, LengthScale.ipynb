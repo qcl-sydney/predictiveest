{
 "cells": [
  {
   "cell_type": "markdown",
   "metadata": {},
   "source": [
    "In this workbook, I apply the Periodic Kernel to test case 19, variation 1, 3, 5, 7, 8. "
   ]
  },
  {
   "cell_type": "code",
   "execution_count": 1,
   "metadata": {
    "collapsed": false
   },
   "outputs": [
    {
     "name": "stdout",
     "output_type": "stream",
     "text": [
      "/home/riddhisw/Documents/2017/Scripts_Git\n"
     ]
    }
   ],
   "source": [
    "cd ../"
   ]
  },
  {
   "cell_type": "code",
   "execution_count": 2,
   "metadata": {
    "collapsed": false
   },
   "outputs": [],
   "source": [
    "import GPy, numpy as np \n",
    "from matplotlib import pyplot as plt\n",
    "from gprtf.common import get_data"
   ]
  },
  {
   "cell_type": "markdown",
   "metadata": {},
   "source": [
    "The optimisation problem over all 4 parameters for GPR is difficult. We link the periodicity and the lengthscale to the longest and shortest timescales of the system during training.\n",
    "\n",
    "Namely:\n",
    "    - p = N_train\n",
    "    - l = 3 * Delta T \n",
    "    \n",
    "Sigma (kernel / process noise variance) and R (Kalman msmt noise variance) orders were estimated from optimisation during Kalman filtering. \n",
    "\n",
    "We note that if the optimal periodicity >> N_train or N, the algorithm tends to pick l <<< Delta T, and a failure results.\n",
    "\n",
    "We recreate this failure by constraining periodicity a small distance away from n_train.\n",
    "\n",
    "Test Case 7, 1 (Four Fourier Components) and Test Case 19, 1 (Severely Undersampled 'White' Noise with 1% SNR) with the following parameters:\n",
    "\n",
    "    - n_train = 2000\n",
    "    - Delta_T = 0.001\n",
    "    - sigma = 1.0\n",
    "    - R =  1.0\n",
    "    - SigmaMax = 1000.0 \n",
    "    - Rmax = 30.0\n",
    "\n",
    "We then confirm that the procedure to narrow the optimisation problem (as above) works by:\n",
    "\n",
    "    - Case A: unconstrained Periodicity\n",
    "    - Case B: m1.std_periodic.period.constrain_bounded(1970, 1971)\n",
    "    - Case C: m1.std_periodic.period.constrain_bounded(2075, 2076)"
   ]
  },
  {
   "cell_type": "code",
   "execution_count": 3,
   "metadata": {
    "collapsed": false
   },
   "outputs": [],
   "source": [
    "test_case = 19\n",
    "variation = 8\n",
    "n_train = 2000\n",
    "Delta_T = 0.001\n",
    "sigma = 1.0\n",
    "R =  1.0\n",
    "SigmaMax = 10. #20.0 # tc 7 var 1, sigma = 1000.0\n",
    "Rmax = 15. #15.0\n",
    "# sigma and periodicity move together.\n",
    "# unconstrained == periodicity --> infinity, sigma --> large, predictions -->zero\n",
    "# failure = increasing periodicity (algorithm appears to be predicting zero)"
   ]
  },
  {
   "cell_type": "code",
   "execution_count": 4,
   "metadata": {
    "collapsed": false
   },
   "outputs": [],
   "source": [
    "def trainingdata(test_case, variation):\n",
    "    x, y, testx, truth, n_predict= get_data(test_case, variation, \n",
    "                                        randomize='y')\n",
    "    num = truth.shape[0]\n",
    "    X = x[0:n_train,np.newaxis]\n",
    "    Y = y[0:n_train,np.newaxis]\n",
    "    return X, Y, testx\n",
    "\n",
    "period = 2000.0"
   ]
  },
  {
   "cell_type": "code",
   "execution_count": 5,
   "metadata": {
    "collapsed": false
   },
   "outputs": [
    {
     "name": "stderr",
     "output_type": "stream",
     "text": [
      " gprtf/common.py:32: VisibleDeprecationWarning:using a non-integer number instead of an integer will result in an error in the future\n",
      " gprtf/common.py:33: VisibleDeprecationWarning:using a non-integer number instead of an integer will result in an error in the future\n",
      " /home/riddhisw/anaconda2/lib/python2.7/site-packages/paramz/transformations.py:109: RuntimeWarning:overflow encountered in expm1\n"
     ]
    },
    {
     "name": "stdout",
     "output_type": "stream",
     "text": [
      "('Shapes', 200, 200, (150,))\n",
      "Run 0\n",
      "WARNING: reconstraining parameters gp.std_periodic.variance\n",
      "WARNING: reconstraining parameters gp.Gaussian_noise.variance\n",
      "Before Optimisation:  1.0 1.0 2000.0 0.003\n",
      "After Optimisation:  14.9999999571 9.99999995901 1990.71135267 0.00865596179682\n",
      "('Shapes', 200, 200, (150,))\n",
      "Run 1\n",
      "WARNING: reconstraining parameters gp.std_periodic.variance\n",
      "WARNING: reconstraining parameters gp.Gaussian_noise.variance\n",
      "Before Optimisation:  1.0 1.0 2000.0 0.003\n",
      "After Optimisation:  15.0 10.0 2023.57935597 0.00845528834906\n",
      "('Shapes', 200, 200, (150,))\n",
      "Run 2\n",
      "WARNING: reconstraining parameters gp.std_periodic.variance\n",
      "WARNING: reconstraining parameters gp.Gaussian_noise.variance\n",
      "Before Optimisation:  1.0 1.0 2000.0 0.003\n",
      "After Optimisation:  15.0 9.99999999998 1984.89301391 0.00612705130708\n",
      "('Shapes', 200, 200, (150,))\n",
      "Run 3\n",
      "WARNING: reconstraining parameters gp.std_periodic.variance\n",
      "WARNING: reconstraining parameters gp.Gaussian_noise.variance\n",
      "Before Optimisation:  1.0 1.0 2000.0 0.003\n",
      "After Optimisation:  14.9999999968 9.99999999807 1979.35822983 0.00962085214274\n",
      "('Shapes', 200, 200, (150,))\n",
      "Run 4\n",
      "WARNING: reconstraining parameters gp.std_periodic.variance\n",
      "WARNING: reconstraining parameters gp.Gaussian_noise.variance\n",
      "Before Optimisation:  1.0 1.0 2000.0 0.003\n",
      "After Optimisation:  14.9999997142 9.99999979468 1999.99936797 0.00847054482999\n"
     ]
    }
   ],
   "source": [
    "pred_list = []\n",
    "\n",
    "for idx_runs in xrange(5):\n",
    "    X, Y, testx = trainingdata(test_case, variation)\n",
    "    print 'Run', idx_runs\n",
    "    kern5 = GPy.kern.StdPeriodic(1, period=period, variance=sigma, lengthscale=3*Delta_T )\n",
    "    gauss = GPy.likelihoods.Gaussian(variance=R)\n",
    "    exact = GPy.inference.latent_function_inference.ExactGaussianInference()\n",
    "    m1 = GPy.core.GP(X=X, Y=Y, kernel=kern5, likelihood=gauss, inference_method=exact)\n",
    "    m1.std_periodic.variance.constrain_bounded(0, SigmaMax)\n",
    "    m1.Gaussian_noise.variance.constrain_bounded(0, Rmax)\n",
    "    print 'Before Optimisation: ', m1.Gaussian_noise.variance[0], m1.std_periodic.variance[0], m1.std_periodic.period[0], m1.std_periodic.lengthscale[0]\n",
    "    m1.optimize(messages=1, ipython_notebook=True)\n",
    "    print 'After Optimisation: ', m1.Gaussian_noise.variance[0], m1.std_periodic.variance[0], m1.std_periodic.period[0], m1.std_periodic.lengthscale[0]\n",
    "    pred_list.append(m1.predict(testx[:,np.newaxis])[0].flatten())"
   ]
  },
  {
   "cell_type": "code",
   "execution_count": 6,
   "metadata": {
    "collapsed": false
   },
   "outputs": [
    {
     "name": "stdout",
     "output_type": "stream",
     "text": [
      "('Shapes', 2000, 2000, (150,))\n"
     ]
    }
   ],
   "source": [
    "style = ['b', 'g', 'c', 'brown', 'purple']\n",
    "x, y, testx, truth, n_predict= get_data(test_case, variation, \n",
    "                                        randomize='n')"
   ]
  },
  {
   "cell_type": "code",
   "execution_count": 7,
   "metadata": {
    "collapsed": false
   },
   "outputs": [],
   "source": [
    "plt.figure(figsize=(10,5))\n",
    "for idx_pred in xrange(5):\n",
    "    plt.plot(testx, pred_list[idx_pred], style[idx_pred], alpha=0.5, label='Predictions')\n",
    "plt.plot(testx, truth[2000 -50 : ], 'r', label='Truth')\n",
    "plt.legend(loc=0)\n",
    "plt.title('GPy PRE, Testcase %s Var %s RMax %s SigMax %s' %(test_case, variation, Rmax, SigmaMax))\n",
    "plt.savefig('Gpy_PER_try2_tc_'+str(test_case)+'_var_'+str(variation))\n",
    "plt.close()"
   ]
  },
  {
   "cell_type": "code",
   "execution_count": null,
   "metadata": {
    "collapsed": true
   },
   "outputs": [],
   "source": []
  }
 ],
 "metadata": {
  "kernelspec": {
   "display_name": "Python 2",
   "language": "python",
   "name": "python2"
  },
  "language_info": {
   "codemirror_mode": {
    "name": "ipython",
    "version": 2
   },
   "file_extension": ".py",
   "mimetype": "text/x-python",
   "name": "python",
   "nbconvert_exporter": "python",
   "pygments_lexer": "ipython2",
   "version": "2.7.13"
  },
  "widgets": {
   "state": {
    "07047b20fbdf483e97e02dadb9a305bb": {
     "views": [
      {
       "cell_index": 6
      }
     ]
    },
    "08ed816d09b04ae8aec9a3682b4e380f": {
     "views": [
      {
       "cell_index": 6
      }
     ]
    },
    "0e1133137fc34279a559b28a825fc1ac": {
     "views": [
      {
       "cell_index": 6
      }
     ]
    },
    "0f1746c5c98440a1b9647109c8c3ac41": {
     "views": [
      {
       "cell_index": 6
      }
     ]
    },
    "0f89440047a34496a563503fb449ab45": {
     "views": [
      {
       "cell_index": 6
      }
     ]
    },
    "1061256608f14d0e94954eb7792fd648": {
     "views": [
      {
       "cell_index": 6
      }
     ]
    },
    "13aeb401d731420ea67fd63815f01791": {
     "views": [
      {
       "cell_index": 8
      }
     ]
    },
    "153a600420444e4e8f88140433e35c0b": {
     "views": [
      {
       "cell_index": 6
      }
     ]
    },
    "15a1a33222c94938b571c63e0a666acc": {
     "views": [
      {
       "cell_index": 6
      }
     ]
    },
    "1a2b753324a0418f8e8bef6c2bc71a84": {
     "views": [
      {
       "cell_index": 6
      }
     ]
    },
    "1aaae576506143778ad8b44a49e4ec27": {
     "views": [
      {
       "cell_index": 6
      }
     ]
    },
    "1bb59f22179244698ba2db63946744ee": {
     "views": [
      {
       "cell_index": 6
      }
     ]
    },
    "22498be35fb44cdca48b6f8d5b06f5b9": {
     "views": [
      {
       "cell_index": 6
      }
     ]
    },
    "276fb6c6a0aa4c4da90940ad7c5a8f65": {
     "views": [
      {
       "cell_index": 6
      }
     ]
    },
    "2d87deaa1cde47f58b75d4b88d791621": {
     "views": [
      {
       "cell_index": 6
      }
     ]
    },
    "349968ec52c24e4197bc7db48354abb5": {
     "views": [
      {
       "cell_index": 6
      }
     ]
    },
    "35ba24582da847ceaaf08e01fbe12582": {
     "views": [
      {
       "cell_index": 6
      }
     ]
    },
    "3828ed3d88054a888f7523c3a9625a18": {
     "views": [
      {
       "cell_index": 6
      }
     ]
    },
    "38479af1e84f4505b561b3708cabd866": {
     "views": [
      {
       "cell_index": 6
      }
     ]
    },
    "3e030cda040043978d448d0a68d61027": {
     "views": [
      {
       "cell_index": 6
      }
     ]
    },
    "3ec7622e62704904a8401493a83e0d42": {
     "views": [
      {
       "cell_index": 6
      }
     ]
    },
    "3f89f21d364b46bfbb11b47cde5b28b2": {
     "views": [
      {
       "cell_index": 6
      }
     ]
    },
    "4454028035ad49a9a3083822b552d8df": {
     "views": [
      {
       "cell_index": 6
      }
     ]
    },
    "46faaccfaab147868dd5d62a14fe1b5f": {
     "views": [
      {
       "cell_index": 6
      }
     ]
    },
    "4923e740458d40d9b06b5926ecf371b5": {
     "views": [
      {
       "cell_index": 6
      }
     ]
    },
    "58b3b2af7b3e449882c4c5bb3e3e6d94": {
     "views": [
      {
       "cell_index": 6
      }
     ]
    },
    "5a44d35698004e83871af35d5894696e": {
     "views": [
      {
       "cell_index": 6
      }
     ]
    },
    "5e689b51bce04e159c9fa6a05851e485": {
     "views": [
      {
       "cell_index": 6
      }
     ]
    },
    "6330db0f562941129426043cbf977a3c": {
     "views": [
      {
       "cell_index": 6
      }
     ]
    },
    "669129576c6348d5a75ee32632de1b51": {
     "views": [
      {
       "cell_index": 6
      }
     ]
    },
    "66dce89b24bb4dad90d9a50cbec32662": {
     "views": [
      {
       "cell_index": 6
      }
     ]
    },
    "698f6f77ee7a457bbd85a6e07a4f2471": {
     "views": [
      {
       "cell_index": 6
      }
     ]
    },
    "6d685829b9974724a5e2c427bcdd9023": {
     "views": [
      {
       "cell_index": 6
      }
     ]
    },
    "706e16a86ed74f99b6d996021f21abec": {
     "views": [
      {
       "cell_index": 6
      }
     ]
    },
    "71cbe38c000142dfb8250e5847c281a5": {
     "views": [
      {
       "cell_index": 6
      }
     ]
    },
    "738395f15f1747f29539705ce3a852b6": {
     "views": [
      {
       "cell_index": 6
      }
     ]
    },
    "775b3384db1842cf917051744ca387e5": {
     "views": [
      {
       "cell_index": 6
      }
     ]
    },
    "7aa71c6302b040cf8d78620434611a27": {
     "views": [
      {
       "cell_index": 6
      }
     ]
    },
    "7d4af4d2d9374e4ca42d2604b4040856": {
     "views": [
      {
       "cell_index": 6
      }
     ]
    },
    "7ed782a2ae54498b9abae6b5b7b15d46": {
     "views": [
      {
       "cell_index": 6
      }
     ]
    },
    "7fab26ac1c964128bb85f93bad18b47e": {
     "views": [
      {
       "cell_index": 6
      }
     ]
    },
    "80b4ea2f90fe47e3a65b96244b21a13e": {
     "views": [
      {
       "cell_index": 6
      }
     ]
    },
    "81859a9587d7462ebff72274e575fcde": {
     "views": [
      {
       "cell_index": 6
      }
     ]
    },
    "83693dd127f5411d993766f7e8ec82a9": {
     "views": [
      {
       "cell_index": 6
      }
     ]
    },
    "84c66a776fd04b9a8db8df5c4385bc56": {
     "views": [
      {
       "cell_index": 6
      }
     ]
    },
    "84ff43e4312f43dab43129e100502ded": {
     "views": [
      {
       "cell_index": 6
      }
     ]
    },
    "885d52812aa44dcfb74cc5e7f3c463f0": {
     "views": [
      {
       "cell_index": 6
      }
     ]
    },
    "89abe867035e4ecb97c844851cc4b86a": {
     "views": [
      {
       "cell_index": 6
      }
     ]
    },
    "8ef6e441863e48a59b6c0b1fa5c6db76": {
     "views": [
      {
       "cell_index": 8
      }
     ]
    },
    "919eb1a837254f0c9a8b6f6673f5461b": {
     "views": [
      {
       "cell_index": 6
      }
     ]
    },
    "93610af16f2b4ca78b959a25b445948e": {
     "views": [
      {
       "cell_index": 6
      }
     ]
    },
    "9899971ecb4e4ecdbf760dc1aae282d5": {
     "views": [
      {
       "cell_index": 6
      }
     ]
    },
    "99298bc21d1b4814ac259186d8500528": {
     "views": [
      {
       "cell_index": 6
      }
     ]
    },
    "9c00d4a7c1224b72b7ffa31791ceea53": {
     "views": [
      {
       "cell_index": 6
      }
     ]
    },
    "9ce6940caccf4fda9650c191cc53e0c1": {
     "views": [
      {
       "cell_index": 8
      }
     ]
    },
    "9dc6a6095eb34e37ac9edce80e369533": {
     "views": [
      {
       "cell_index": 6
      }
     ]
    },
    "a0502d49bef9439fbd04b526a25b0e5b": {
     "views": [
      {
       "cell_index": 6
      }
     ]
    },
    "a31cd6f97ed24d399f62c3d51ebc62c6": {
     "views": [
      {
       "cell_index": 6
      }
     ]
    },
    "a3438d895a934cd99024c7c157561c61": {
     "views": [
      {
       "cell_index": 6
      }
     ]
    },
    "a86c10d09a1049e9862447c0a480af25": {
     "views": [
      {
       "cell_index": 6
      }
     ]
    },
    "a880cf8d8d2e43f4a94d1ac76359d3d3": {
     "views": [
      {
       "cell_index": 6
      }
     ]
    },
    "abc6df4bbd4c4e8a988b5c70330eb546": {
     "views": [
      {
       "cell_index": 6
      }
     ]
    },
    "af3015bd2ae34b428b908dabe5b7887f": {
     "views": [
      {
       "cell_index": 6
      }
     ]
    },
    "b0b1e02270a24de9b198162eeda5441a": {
     "views": [
      {
       "cell_index": 6
      }
     ]
    },
    "b2faccf6b1a641a68c570fdda1a807d2": {
     "views": [
      {
       "cell_index": 6
      }
     ]
    },
    "bb48f29aa2db487aafb1092e7a93acc8": {
     "views": [
      {
       "cell_index": 6
      }
     ]
    },
    "bbc9517690404401a7eca335bb5083ff": {
     "views": [
      {
       "cell_index": 6
      }
     ]
    },
    "bc9bca52aabf479092cc4ec55c367ca4": {
     "views": [
      {
       "cell_index": 6
      }
     ]
    },
    "bfe348cc04264512b34ac0f5def8bcf5": {
     "views": [
      {
       "cell_index": 6
      }
     ]
    },
    "cb18b6f53548430c80e7d63edbea19b4": {
     "views": [
      {
       "cell_index": 6
      }
     ]
    },
    "cc3f944be8034de0980dfc8bbf99fc6a": {
     "views": [
      {
       "cell_index": 6
      }
     ]
    },
    "ced551ea37f94135a41c869baa763d16": {
     "views": [
      {
       "cell_index": 6
      }
     ]
    },
    "d04890e363584665bc1cfa4ab6b22ad4": {
     "views": [
      {
       "cell_index": 6
      }
     ]
    },
    "d1ffac8361e640de9a98bd30547c515e": {
     "views": [
      {
       "cell_index": 6
      }
     ]
    },
    "d9b9852a844a4812ac6b2a7f43b7373d": {
     "views": [
      {
       "cell_index": 6
      }
     ]
    },
    "dbabe3d37055428382717e7ee3e31051": {
     "views": [
      {
       "cell_index": 6
      }
     ]
    },
    "dc6734e4d9a24de29e2be16d1ec4a8ce": {
     "views": [
      {
       "cell_index": 6
      }
     ]
    },
    "deca015a584c40aead779da329d0aed4": {
     "views": [
      {
       "cell_index": 6
      }
     ]
    },
    "e18674a532ad4f72a44b47b7b09cf248": {
     "views": [
      {
       "cell_index": 6
      }
     ]
    },
    "e68f3404f213484cb0eb401639d2b924": {
     "views": [
      {
       "cell_index": 6
      }
     ]
    },
    "e7950df6b0e1470093ff34b5b183415d": {
     "views": [
      {
       "cell_index": 6
      }
     ]
    },
    "e985b1490b4c4bff8d97e8df555f2778": {
     "views": [
      {
       "cell_index": 6
      }
     ]
    },
    "eb7f334abaf740628a4ac07c30eed689": {
     "views": [
      {
       "cell_index": 6
      }
     ]
    },
    "ec1e83c0149b4d37981b51e7f840a3a7": {
     "views": [
      {
       "cell_index": 6
      }
     ]
    },
    "ec9682ea0151482ca9ae113ecc6deae0": {
     "views": [
      {
       "cell_index": 6
      }
     ]
    },
    "f119f946d1714e8c8e1f9672e7befac4": {
     "views": [
      {
       "cell_index": 6
      }
     ]
    },
    "f208a4ecbec543c09dfaa59f3fb976f9": {
     "views": [
      {
       "cell_index": 6
      }
     ]
    },
    "f454fbc6e95c4cd595a6171d73c7d51e": {
     "views": [
      {
       "cell_index": 6
      }
     ]
    },
    "f56a0c9dc5d14e83bdc0b231e301e3e8": {
     "views": [
      {
       "cell_index": 6
      }
     ]
    },
    "fabc70c2d74b40e8ae72d9a14216c38b": {
     "views": [
      {
       "cell_index": 6
      }
     ]
    },
    "fed69bbf34d3445997aae8866b8a1d06": {
     "views": [
      {
       "cell_index": 6
      }
     ]
    }
   },
   "version": "1.2.0"
  }
 },
 "nbformat": 4,
 "nbformat_minor": 2
}
